{
 "cells": [
  {
   "cell_type": "markdown",
   "id": "6d8c22b1",
   "metadata": {},
   "source": [
    "# Biopsy Prostate Cancer Detection - ML"
   ]
  },
  {
   "cell_type": "markdown",
   "id": "af3b656c",
   "metadata": {},
   "source": [
    "Data in the CSV files:\n",
    "\n",
    "- **image_id:** ID code for the image.\n",
    "\n",
    "- **data_provider:** The name of the institution that provided the data. Both the Karolinska Institute and Radboud University Medical Center contributed data. They used different scanners with slightly different maximum microscope resolutions and worked with different pathologists for labeling their images.\n",
    "\n",
    "- **isup_grade:** Train only. The target variable. The severity of the cancer on a 0-5 scale.\n",
    "\n",
    "- **gleason_score:** Train only. An alternate cancer severity rating system with more levels than the ISUP scale. For details on how the gleason and ISUP systems compare, see the Additional Resources tab."
   ]
  },
  {
   "cell_type": "markdown",
   "id": "cb3d864b",
   "metadata": {},
   "source": [
    " There are two different data providers that clasify the grade of the tumour differently:\n",
    "\n",
    "**Radboud:** Prostate glands are individually labelled. Valid values are:\n",
    "- 0: background (non tissue) or unknown\n",
    "- 1: stroma (connective tissue, non-epithelium tissue)\n",
    "- 2: healthy (benign) epithelium\n",
    "- 3: cancerous epithelium (Gleason 3)\n",
    "- 4: cancerous epithelium (Gleason 4)\n",
    "- 5: cancerous epithelium (Gleason 5)\n",
    "\n",
    "**Karolinska:** Regions are labelled. Valid values are:\n",
    "- 0: background (non tissue) or unknown\n",
    "- 1: benign tissue (stroma and epithelium combined)\n",
    "- 2: cancerous tissue (stroma and epithelium combined)"
   ]
  },
  {
   "cell_type": "code",
   "execution_count": 24,
   "id": "ff868ac9",
   "metadata": {},
   "outputs": [],
   "source": [
    "import pandas as pd\n",
    "import numpy as np\n",
    "import matplotlib\n",
    "import matplotlib.pyplot as plt\n",
    "from tqdm.notebook import tqdm\n",
    "import os\n",
    "import skimage.io\n",
    "from skimage.transform import resize, rescale\n",
    "import cv2\n",
    "from PIL import Image\n",
    "import imagecodecs\n",
    "import random\n",
    "import matplotlib.image as mpimg\n",
    "import tensorflow as tf\n",
    "from sklearn.model_selection import train_test_split\n",
    "from keras_preprocessing.image import ImageDataGenerator"
   ]
  },
  {
   "cell_type": "code",
   "execution_count": 25,
   "id": "b6a1cd33",
   "metadata": {},
   "outputs": [
    {
     "name": "stdout",
     "output_type": "stream",
     "text": [
      "1 Physical GPUs, 1 Logical GPUs\n"
     ]
    }
   ],
   "source": [
    "gpus = tf.config.experimental.list_physical_devices('GPU')\n",
    "if gpus:\n",
    "  # Restrict TensorFlow to only allocate 4GB of memory on the first GPU\n",
    "  try:\n",
    "    tf.config.experimental.set_virtual_device_configuration(\n",
    "        gpus[0],\n",
    "        [tf.config.experimental.VirtualDeviceConfiguration(memory_limit=4096)])\n",
    "    logical_gpus = tf.config.experimental.list_logical_devices('GPU')\n",
    "    print(len(gpus), \"Physical GPUs,\", len(logical_gpus), \"Logical GPUs\")\n",
    "  except RuntimeError as e:\n",
    "    # Virtual devices must be set before GPUs have been initialized\n",
    "    print(e)"
   ]
  },
  {
   "cell_type": "markdown",
   "id": "5a4a6600",
   "metadata": {},
   "source": [
    "# EDA & Dataframe"
   ]
  },
  {
   "cell_type": "code",
   "execution_count": 26,
   "id": "73599306",
   "metadata": {},
   "outputs": [
    {
     "data": {
      "text/html": [
       "<div>\n",
       "<style scoped>\n",
       "    .dataframe tbody tr th:only-of-type {\n",
       "        vertical-align: middle;\n",
       "    }\n",
       "\n",
       "    .dataframe tbody tr th {\n",
       "        vertical-align: top;\n",
       "    }\n",
       "\n",
       "    .dataframe thead th {\n",
       "        text-align: right;\n",
       "    }\n",
       "</style>\n",
       "<table border=\"1\" class=\"dataframe\">\n",
       "  <thead>\n",
       "    <tr style=\"text-align: right;\">\n",
       "      <th></th>\n",
       "      <th>image_id</th>\n",
       "      <th>data_provider</th>\n",
       "      <th>isup_grade</th>\n",
       "      <th>gleason_score</th>\n",
       "    </tr>\n",
       "  </thead>\n",
       "  <tbody>\n",
       "    <tr>\n",
       "      <th>0</th>\n",
       "      <td>0005f7aaab2800f6170c399693a96917</td>\n",
       "      <td>karolinska</td>\n",
       "      <td>0</td>\n",
       "      <td>0+0</td>\n",
       "    </tr>\n",
       "    <tr>\n",
       "      <th>1</th>\n",
       "      <td>000920ad0b612851f8e01bcc880d9b3d</td>\n",
       "      <td>karolinska</td>\n",
       "      <td>0</td>\n",
       "      <td>0+0</td>\n",
       "    </tr>\n",
       "    <tr>\n",
       "      <th>2</th>\n",
       "      <td>0018ae58b01bdadc8e347995b69f99aa</td>\n",
       "      <td>radboud</td>\n",
       "      <td>4</td>\n",
       "      <td>4+4</td>\n",
       "    </tr>\n",
       "    <tr>\n",
       "      <th>3</th>\n",
       "      <td>001c62abd11fa4b57bf7a6c603a11bb9</td>\n",
       "      <td>karolinska</td>\n",
       "      <td>4</td>\n",
       "      <td>4+4</td>\n",
       "    </tr>\n",
       "    <tr>\n",
       "      <th>4</th>\n",
       "      <td>001d865e65ef5d2579c190a0e0350d8f</td>\n",
       "      <td>karolinska</td>\n",
       "      <td>0</td>\n",
       "      <td>0+0</td>\n",
       "    </tr>\n",
       "  </tbody>\n",
       "</table>\n",
       "</div>"
      ],
      "text/plain": [
       "                           image_id data_provider  isup_grade gleason_score\n",
       "0  0005f7aaab2800f6170c399693a96917    karolinska           0           0+0\n",
       "1  000920ad0b612851f8e01bcc880d9b3d    karolinska           0           0+0\n",
       "2  0018ae58b01bdadc8e347995b69f99aa       radboud           4           4+4\n",
       "3  001c62abd11fa4b57bf7a6c603a11bb9    karolinska           4           4+4\n",
       "4  001d865e65ef5d2579c190a0e0350d8f    karolinska           0           0+0"
      ]
     },
     "execution_count": 26,
     "metadata": {},
     "output_type": "execute_result"
    }
   ],
   "source": [
    "train_csv = pd.read_csv('train.csv')\n",
    "\n",
    "train_csv.head()"
   ]
  },
  {
   "cell_type": "code",
   "execution_count": 27,
   "id": "547285ef",
   "metadata": {},
   "outputs": [
    {
     "data": {
      "text/plain": [
       "image_id         0\n",
       "data_provider    0\n",
       "isup_grade       0\n",
       "gleason_score    0\n",
       "dtype: int64"
      ]
     },
     "execution_count": 27,
     "metadata": {},
     "output_type": "execute_result"
    }
   ],
   "source": [
    "train_csv.isna().sum()"
   ]
  },
  {
   "cell_type": "code",
   "execution_count": 28,
   "id": "a322084c",
   "metadata": {},
   "outputs": [
    {
     "data": {
      "text/plain": [
       "3+3         2664\n",
       "0+0         1921\n",
       "3+4         1338\n",
       "4+3         1242\n",
       "4+4         1123\n",
       "negative     964\n",
       "4+5          847\n",
       "5+4          248\n",
       "5+5          127\n",
       "3+5           79\n",
       "5+3           43\n",
       "Name: gleason_score, dtype: int64"
      ]
     },
     "execution_count": 28,
     "metadata": {},
     "output_type": "execute_result"
    }
   ],
   "source": [
    "train_csv['gleason_score'].value_counts()"
   ]
  },
  {
   "cell_type": "code",
   "execution_count": 29,
   "id": "a7ecf12a",
   "metadata": {},
   "outputs": [
    {
     "data": {
      "text/plain": [
       "karolinska    5447\n",
       "radboud       5149\n",
       "Name: data_provider, dtype: int64"
      ]
     },
     "execution_count": 29,
     "metadata": {},
     "output_type": "execute_result"
    }
   ],
   "source": [
    "train_csv['data_provider'].value_counts()"
   ]
  },
  {
   "cell_type": "code",
   "execution_count": 30,
   "id": "6f746929",
   "metadata": {},
   "outputs": [
    {
     "data": {
      "text/plain": [
       "0    2885\n",
       "1    2664\n",
       "2    1339\n",
       "4    1245\n",
       "3    1241\n",
       "5    1222\n",
       "Name: isup_grade, dtype: int64"
      ]
     },
     "execution_count": 30,
     "metadata": {},
     "output_type": "execute_result"
    }
   ],
   "source": [
    "train_csv['isup_grade'].value_counts()"
   ]
  },
  {
   "cell_type": "markdown",
   "id": "6f8a054d",
   "metadata": {},
   "source": [
    "##### Data in the train CSV seems to be very clean, with same number of rows for each data provider and high number of cases for each isup_grade. "
   ]
  },
  {
   "cell_type": "code",
   "execution_count": 31,
   "id": "547d933c",
   "metadata": {},
   "outputs": [],
   "source": [
    "train_clean = pd.DataFrame()"
   ]
  },
  {
   "cell_type": "code",
   "execution_count": 32,
   "id": "033bf5d8",
   "metadata": {},
   "outputs": [],
   "source": [
    "train_csv['path'] = train_csv['image_id'] +'.png'"
   ]
  },
  {
   "cell_type": "code",
   "execution_count": 33,
   "id": "edc8247c",
   "metadata": {},
   "outputs": [
    {
     "data": {
      "text/html": [
       "<div>\n",
       "<style scoped>\n",
       "    .dataframe tbody tr th:only-of-type {\n",
       "        vertical-align: middle;\n",
       "    }\n",
       "\n",
       "    .dataframe tbody tr th {\n",
       "        vertical-align: top;\n",
       "    }\n",
       "\n",
       "    .dataframe thead th {\n",
       "        text-align: right;\n",
       "    }\n",
       "</style>\n",
       "<table border=\"1\" class=\"dataframe\">\n",
       "  <thead>\n",
       "    <tr style=\"text-align: right;\">\n",
       "      <th></th>\n",
       "      <th>image_id</th>\n",
       "      <th>data_provider</th>\n",
       "      <th>isup_grade</th>\n",
       "      <th>gleason_score</th>\n",
       "      <th>path</th>\n",
       "    </tr>\n",
       "  </thead>\n",
       "  <tbody>\n",
       "    <tr>\n",
       "      <th>0</th>\n",
       "      <td>0005f7aaab2800f6170c399693a96917</td>\n",
       "      <td>karolinska</td>\n",
       "      <td>0</td>\n",
       "      <td>0+0</td>\n",
       "      <td>0005f7aaab2800f6170c399693a96917.png</td>\n",
       "    </tr>\n",
       "    <tr>\n",
       "      <th>1</th>\n",
       "      <td>000920ad0b612851f8e01bcc880d9b3d</td>\n",
       "      <td>karolinska</td>\n",
       "      <td>0</td>\n",
       "      <td>0+0</td>\n",
       "      <td>000920ad0b612851f8e01bcc880d9b3d.png</td>\n",
       "    </tr>\n",
       "    <tr>\n",
       "      <th>2</th>\n",
       "      <td>0018ae58b01bdadc8e347995b69f99aa</td>\n",
       "      <td>radboud</td>\n",
       "      <td>4</td>\n",
       "      <td>4+4</td>\n",
       "      <td>0018ae58b01bdadc8e347995b69f99aa.png</td>\n",
       "    </tr>\n",
       "    <tr>\n",
       "      <th>3</th>\n",
       "      <td>001c62abd11fa4b57bf7a6c603a11bb9</td>\n",
       "      <td>karolinska</td>\n",
       "      <td>4</td>\n",
       "      <td>4+4</td>\n",
       "      <td>001c62abd11fa4b57bf7a6c603a11bb9.png</td>\n",
       "    </tr>\n",
       "    <tr>\n",
       "      <th>4</th>\n",
       "      <td>001d865e65ef5d2579c190a0e0350d8f</td>\n",
       "      <td>karolinska</td>\n",
       "      <td>0</td>\n",
       "      <td>0+0</td>\n",
       "      <td>001d865e65ef5d2579c190a0e0350d8f.png</td>\n",
       "    </tr>\n",
       "  </tbody>\n",
       "</table>\n",
       "</div>"
      ],
      "text/plain": [
       "                           image_id data_provider  isup_grade gleason_score  \\\n",
       "0  0005f7aaab2800f6170c399693a96917    karolinska           0           0+0   \n",
       "1  000920ad0b612851f8e01bcc880d9b3d    karolinska           0           0+0   \n",
       "2  0018ae58b01bdadc8e347995b69f99aa       radboud           4           4+4   \n",
       "3  001c62abd11fa4b57bf7a6c603a11bb9    karolinska           4           4+4   \n",
       "4  001d865e65ef5d2579c190a0e0350d8f    karolinska           0           0+0   \n",
       "\n",
       "                                   path  \n",
       "0  0005f7aaab2800f6170c399693a96917.png  \n",
       "1  000920ad0b612851f8e01bcc880d9b3d.png  \n",
       "2  0018ae58b01bdadc8e347995b69f99aa.png  \n",
       "3  001c62abd11fa4b57bf7a6c603a11bb9.png  \n",
       "4  001d865e65ef5d2579c190a0e0350d8f.png  "
      ]
     },
     "execution_count": 33,
     "metadata": {},
     "output_type": "execute_result"
    }
   ],
   "source": [
    "train_csv.head()"
   ]
  },
  {
   "cell_type": "code",
   "execution_count": 34,
   "id": "23645bc4",
   "metadata": {},
   "outputs": [],
   "source": [
    "train_csv['binary_score'] = np.where((train_csv['isup_grade'] < 1), 'no cancer','cancer')"
   ]
  },
  {
   "cell_type": "code",
   "execution_count": 35,
   "id": "3865034d",
   "metadata": {},
   "outputs": [
    {
     "data": {
      "text/html": [
       "<div>\n",
       "<style scoped>\n",
       "    .dataframe tbody tr th:only-of-type {\n",
       "        vertical-align: middle;\n",
       "    }\n",
       "\n",
       "    .dataframe tbody tr th {\n",
       "        vertical-align: top;\n",
       "    }\n",
       "\n",
       "    .dataframe thead th {\n",
       "        text-align: right;\n",
       "    }\n",
       "</style>\n",
       "<table border=\"1\" class=\"dataframe\">\n",
       "  <thead>\n",
       "    <tr style=\"text-align: right;\">\n",
       "      <th></th>\n",
       "      <th>image_id</th>\n",
       "      <th>data_provider</th>\n",
       "      <th>isup_grade</th>\n",
       "      <th>gleason_score</th>\n",
       "      <th>path</th>\n",
       "      <th>binary_score</th>\n",
       "    </tr>\n",
       "  </thead>\n",
       "  <tbody>\n",
       "    <tr>\n",
       "      <th>0</th>\n",
       "      <td>0005f7aaab2800f6170c399693a96917</td>\n",
       "      <td>karolinska</td>\n",
       "      <td>0</td>\n",
       "      <td>0+0</td>\n",
       "      <td>0005f7aaab2800f6170c399693a96917.png</td>\n",
       "      <td>no cancer</td>\n",
       "    </tr>\n",
       "    <tr>\n",
       "      <th>1</th>\n",
       "      <td>000920ad0b612851f8e01bcc880d9b3d</td>\n",
       "      <td>karolinska</td>\n",
       "      <td>0</td>\n",
       "      <td>0+0</td>\n",
       "      <td>000920ad0b612851f8e01bcc880d9b3d.png</td>\n",
       "      <td>no cancer</td>\n",
       "    </tr>\n",
       "    <tr>\n",
       "      <th>2</th>\n",
       "      <td>0018ae58b01bdadc8e347995b69f99aa</td>\n",
       "      <td>radboud</td>\n",
       "      <td>4</td>\n",
       "      <td>4+4</td>\n",
       "      <td>0018ae58b01bdadc8e347995b69f99aa.png</td>\n",
       "      <td>cancer</td>\n",
       "    </tr>\n",
       "    <tr>\n",
       "      <th>3</th>\n",
       "      <td>001c62abd11fa4b57bf7a6c603a11bb9</td>\n",
       "      <td>karolinska</td>\n",
       "      <td>4</td>\n",
       "      <td>4+4</td>\n",
       "      <td>001c62abd11fa4b57bf7a6c603a11bb9.png</td>\n",
       "      <td>cancer</td>\n",
       "    </tr>\n",
       "    <tr>\n",
       "      <th>4</th>\n",
       "      <td>001d865e65ef5d2579c190a0e0350d8f</td>\n",
       "      <td>karolinska</td>\n",
       "      <td>0</td>\n",
       "      <td>0+0</td>\n",
       "      <td>001d865e65ef5d2579c190a0e0350d8f.png</td>\n",
       "      <td>no cancer</td>\n",
       "    </tr>\n",
       "  </tbody>\n",
       "</table>\n",
       "</div>"
      ],
      "text/plain": [
       "                           image_id data_provider  isup_grade gleason_score  \\\n",
       "0  0005f7aaab2800f6170c399693a96917    karolinska           0           0+0   \n",
       "1  000920ad0b612851f8e01bcc880d9b3d    karolinska           0           0+0   \n",
       "2  0018ae58b01bdadc8e347995b69f99aa       radboud           4           4+4   \n",
       "3  001c62abd11fa4b57bf7a6c603a11bb9    karolinska           4           4+4   \n",
       "4  001d865e65ef5d2579c190a0e0350d8f    karolinska           0           0+0   \n",
       "\n",
       "                                   path binary_score  \n",
       "0  0005f7aaab2800f6170c399693a96917.png    no cancer  \n",
       "1  000920ad0b612851f8e01bcc880d9b3d.png    no cancer  \n",
       "2  0018ae58b01bdadc8e347995b69f99aa.png       cancer  \n",
       "3  001c62abd11fa4b57bf7a6c603a11bb9.png       cancer  \n",
       "4  001d865e65ef5d2579c190a0e0350d8f.png    no cancer  "
      ]
     },
     "execution_count": 35,
     "metadata": {},
     "output_type": "execute_result"
    }
   ],
   "source": [
    "train_csv.head()"
   ]
  },
  {
   "cell_type": "code",
   "execution_count": 36,
   "id": "d068842e",
   "metadata": {
    "scrolled": true
   },
   "outputs": [
    {
     "data": {
      "text/html": [
       "<div>\n",
       "<style scoped>\n",
       "    .dataframe tbody tr th:only-of-type {\n",
       "        vertical-align: middle;\n",
       "    }\n",
       "\n",
       "    .dataframe tbody tr th {\n",
       "        vertical-align: top;\n",
       "    }\n",
       "\n",
       "    .dataframe thead th {\n",
       "        text-align: right;\n",
       "    }\n",
       "</style>\n",
       "<table border=\"1\" class=\"dataframe\">\n",
       "  <thead>\n",
       "    <tr style=\"text-align: right;\">\n",
       "      <th></th>\n",
       "      <th>path</th>\n",
       "      <th>binary_score</th>\n",
       "    </tr>\n",
       "  </thead>\n",
       "  <tbody>\n",
       "    <tr>\n",
       "      <th>0</th>\n",
       "      <td>0005f7aaab2800f6170c399693a96917.png</td>\n",
       "      <td>no cancer</td>\n",
       "    </tr>\n",
       "    <tr>\n",
       "      <th>1</th>\n",
       "      <td>000920ad0b612851f8e01bcc880d9b3d.png</td>\n",
       "      <td>no cancer</td>\n",
       "    </tr>\n",
       "    <tr>\n",
       "      <th>2</th>\n",
       "      <td>0018ae58b01bdadc8e347995b69f99aa.png</td>\n",
       "      <td>cancer</td>\n",
       "    </tr>\n",
       "    <tr>\n",
       "      <th>3</th>\n",
       "      <td>001c62abd11fa4b57bf7a6c603a11bb9.png</td>\n",
       "      <td>cancer</td>\n",
       "    </tr>\n",
       "    <tr>\n",
       "      <th>4</th>\n",
       "      <td>001d865e65ef5d2579c190a0e0350d8f.png</td>\n",
       "      <td>no cancer</td>\n",
       "    </tr>\n",
       "  </tbody>\n",
       "</table>\n",
       "</div>"
      ],
      "text/plain": [
       "                                   path binary_score\n",
       "0  0005f7aaab2800f6170c399693a96917.png    no cancer\n",
       "1  000920ad0b612851f8e01bcc880d9b3d.png    no cancer\n",
       "2  0018ae58b01bdadc8e347995b69f99aa.png       cancer\n",
       "3  001c62abd11fa4b57bf7a6c603a11bb9.png       cancer\n",
       "4  001d865e65ef5d2579c190a0e0350d8f.png    no cancer"
      ]
     },
     "execution_count": 36,
     "metadata": {},
     "output_type": "execute_result"
    }
   ],
   "source": [
    "train_clean = pd.DataFrame(train_csv[['path', 'binary_score']])\n",
    "train_clean.head()"
   ]
  },
  {
   "cell_type": "code",
   "execution_count": 37,
   "id": "d178f41c",
   "metadata": {},
   "outputs": [
    {
     "data": {
      "text/html": [
       "<div>\n",
       "<style scoped>\n",
       "    .dataframe tbody tr th:only-of-type {\n",
       "        vertical-align: middle;\n",
       "    }\n",
       "\n",
       "    .dataframe tbody tr th {\n",
       "        vertical-align: top;\n",
       "    }\n",
       "\n",
       "    .dataframe thead th {\n",
       "        text-align: right;\n",
       "    }\n",
       "</style>\n",
       "<table border=\"1\" class=\"dataframe\">\n",
       "  <thead>\n",
       "    <tr style=\"text-align: right;\">\n",
       "      <th></th>\n",
       "      <th>path</th>\n",
       "      <th>binary_score</th>\n",
       "    </tr>\n",
       "  </thead>\n",
       "  <tbody>\n",
       "    <tr>\n",
       "      <th>0</th>\n",
       "      <td>0005f7aaab2800f6170c399693a96917.png</td>\n",
       "      <td>no cancer</td>\n",
       "    </tr>\n",
       "    <tr>\n",
       "      <th>1</th>\n",
       "      <td>000920ad0b612851f8e01bcc880d9b3d.png</td>\n",
       "      <td>no cancer</td>\n",
       "    </tr>\n",
       "    <tr>\n",
       "      <th>2</th>\n",
       "      <td>0018ae58b01bdadc8e347995b69f99aa.png</td>\n",
       "      <td>cancer</td>\n",
       "    </tr>\n",
       "    <tr>\n",
       "      <th>3</th>\n",
       "      <td>001c62abd11fa4b57bf7a6c603a11bb9.png</td>\n",
       "      <td>cancer</td>\n",
       "    </tr>\n",
       "    <tr>\n",
       "      <th>4</th>\n",
       "      <td>001d865e65ef5d2579c190a0e0350d8f.png</td>\n",
       "      <td>no cancer</td>\n",
       "    </tr>\n",
       "    <tr>\n",
       "      <th>...</th>\n",
       "      <td>...</td>\n",
       "      <td>...</td>\n",
       "    </tr>\n",
       "    <tr>\n",
       "      <th>995</th>\n",
       "      <td>1987d293a6345a3fdfd2accf524bc2d1.png</td>\n",
       "      <td>cancer</td>\n",
       "    </tr>\n",
       "    <tr>\n",
       "      <th>996</th>\n",
       "      <td>198fa06f052feedc1684e42829c137fc.png</td>\n",
       "      <td>cancer</td>\n",
       "    </tr>\n",
       "    <tr>\n",
       "      <th>997</th>\n",
       "      <td>1990f9eb40f798dcb50f7fad287c0e28.png</td>\n",
       "      <td>cancer</td>\n",
       "    </tr>\n",
       "    <tr>\n",
       "      <th>998</th>\n",
       "      <td>19929dc431ae4560780d6a92a8e9fd20.png</td>\n",
       "      <td>cancer</td>\n",
       "    </tr>\n",
       "    <tr>\n",
       "      <th>999</th>\n",
       "      <td>1995d7f1f42ad259aae1fc004fbc6360.png</td>\n",
       "      <td>cancer</td>\n",
       "    </tr>\n",
       "  </tbody>\n",
       "</table>\n",
       "<p>1000 rows × 2 columns</p>\n",
       "</div>"
      ],
      "text/plain": [
       "                                     path binary_score\n",
       "0    0005f7aaab2800f6170c399693a96917.png    no cancer\n",
       "1    000920ad0b612851f8e01bcc880d9b3d.png    no cancer\n",
       "2    0018ae58b01bdadc8e347995b69f99aa.png       cancer\n",
       "3    001c62abd11fa4b57bf7a6c603a11bb9.png       cancer\n",
       "4    001d865e65ef5d2579c190a0e0350d8f.png    no cancer\n",
       "..                                    ...          ...\n",
       "995  1987d293a6345a3fdfd2accf524bc2d1.png       cancer\n",
       "996  198fa06f052feedc1684e42829c137fc.png       cancer\n",
       "997  1990f9eb40f798dcb50f7fad287c0e28.png       cancer\n",
       "998  19929dc431ae4560780d6a92a8e9fd20.png       cancer\n",
       "999  1995d7f1f42ad259aae1fc004fbc6360.png       cancer\n",
       "\n",
       "[1000 rows x 2 columns]"
      ]
     },
     "execution_count": 37,
     "metadata": {},
     "output_type": "execute_result"
    }
   ],
   "source": [
    "#this is for test purposes only\n",
    "train_clean_small = train_clean[:1000]\n",
    "train_clean_small"
   ]
  },
  {
   "cell_type": "markdown",
   "id": "fbf4636c",
   "metadata": {},
   "source": [
    "-------------------------------------------------------"
   ]
  },
  {
   "cell_type": "markdown",
   "id": "0ad619f7",
   "metadata": {},
   "source": [
    "# Image treatment"
   ]
  },
  {
   "cell_type": "markdown",
   "id": "8cf2ad18",
   "metadata": {},
   "source": [
    "These images are in a .tiff format, which is good for maintaining good quality in the images, but the size is too big fo be feasible to create a model (at least an initial one). I will transform these images into .png and also will convert them to have the same size (512x512), as they have a wide variety of sizes and forms."
   ]
  },
  {
   "cell_type": "code",
   "execution_count": 38,
   "id": "c3900de6",
   "metadata": {},
   "outputs": [],
   "source": [
    "# where are the images\n",
    "data_dir = \"train_images/\""
   ]
  },
  {
   "cell_type": "code",
   "execution_count": 39,
   "id": "4020e92d",
   "metadata": {},
   "outputs": [],
   "source": [
    "# where will the converted images be stored, create the folder if it doesn't exist\n",
    "save_dir = \"png_images/\"\n",
    "os.makedirs(save_dir, exist_ok=True)"
   ]
  },
  {
   "cell_type": "code",
   "execution_count": 40,
   "id": "870c42b3",
   "metadata": {},
   "outputs": [],
   "source": [
    "# THIS HAS ALREADY BEEN DONE! No need to run it again and again. It converts the images.\n",
    "\n",
    "# for img_id in tqdm(train_csv.image_id):\n",
    "#     load_path = data_dir + img_id + '.tiff'\n",
    "#     save_path = save_dir + img_id + '.png'\n",
    "    \n",
    "#     biopsy = skimage.io.MultiImage(load_path)\n",
    "#     img = cv2.resize(biopsy[-1], (0,0), fx = 0.1, fy = 0.1)\n",
    "#     cv2.imwrite(save_path, img)"
   ]
  },
  {
   "cell_type": "code",
   "execution_count": 41,
   "id": "5d89ee9f",
   "metadata": {},
   "outputs": [],
   "source": [
    "datagen = ImageDataGenerator(rescale=1./255.,\n",
    "                             validation_split=0.2,\n",
    "                             rotation_range=10, # rotation\n",
    "                             width_shift_range=0.2, # horizontal shift\n",
    "                             height_shift_range=0.2, # vertical shift\n",
    "                             zoom_range=0.2, # zoom\n",
    "                             horizontal_flip=True, # horizontal flip\n",
    "                             brightness_range=[0.2,1.2]) # brightness)"
   ]
  },
  {
   "cell_type": "code",
   "execution_count": 42,
   "id": "c2ffb761",
   "metadata": {},
   "outputs": [
    {
     "name": "stdout",
     "output_type": "stream",
     "text": [
      "Found 8477 validated image filenames belonging to 2 classes.\n",
      "Found 2119 validated image filenames belonging to 2 classes.\n"
     ]
    }
   ],
   "source": [
    "train_generator  = datagen.flow_from_dataframe(\n",
    "    dataframe=train_clean,\n",
    "    directory=save_dir,\n",
    "    x_col=\"path\",\n",
    "    y_col=\"binary_score\",\n",
    "    target_size=(256, 256),\n",
    "    color_mode=\"rgb\",\n",
    "    batch_size=64,\n",
    "    save_to_dir='png_images_resized/',\n",
    "    save_format=\"png\",\n",
    "    class_mode=\"binary\",\n",
    "    subset='training',\n",
    "    shuffle = True\n",
    ")\n",
    "\n",
    "\n",
    "validation_generator  = datagen.flow_from_dataframe(\n",
    "    dataframe=train_clean,\n",
    "    directory=save_dir,\n",
    "    x_col=\"path\",\n",
    "    y_col=\"binary_score\",\n",
    "    target_size=(256, 256),\n",
    "    color_mode=\"rgb\",\n",
    "    batch_size=64, #deberia ser mas alto que el del modelo (sugerencia)\n",
    "    save_to_dir='png_images_resized/',\n",
    "    save_format=\"png\",\n",
    "    class_mode=\"binary\",\n",
    "    subset='validation',\n",
    "    shuffle = True\n",
    ")"
   ]
  },
  {
   "cell_type": "code",
   "execution_count": 43,
   "id": "932e1f61",
   "metadata": {},
   "outputs": [
    {
     "data": {
      "image/png": "[encoded data removed]",
      "text/plain": [
       "<Figure size 432x288 with 1 Axes>"
      ]
     },
     "metadata": {
      "needs_background": "light"
     },
     "output_type": "display_data"
    }
   ],
   "source": [
    "# Now the images are all of the same shape and lighter\n",
    "\n",
    "files = os.listdir(save_dir)\n",
    "d = random.choice(files)\n",
    "\n",
    "img = mpimg.imread(save_dir + d)\n",
    "imgplot = plt.imshow(img)\n",
    "plt.show()"
   ]
  },
  {
   "cell_type": "markdown",
   "id": "cf062876",
   "metadata": {},
   "source": [
    "----------"
   ]
  },
  {
   "cell_type": "markdown",
   "id": "effe9022",
   "metadata": {},
   "source": [
    "# Modeling"
   ]
  },
  {
   "cell_type": "code",
   "execution_count": 44,
   "id": "7e97c935",
   "metadata": {},
   "outputs": [
    {
     "name": "stdout",
     "output_type": "stream",
     "text": [
      "Version:  2.4.0\n",
      "Eager mode:  True\n",
      "GPU is available\n"
     ]
    }
   ],
   "source": [
    "import tensorflow as tf\n",
    "print(\"Version: \", tf.__version__)\n",
    "print(\"Eager mode: \", tf.executing_eagerly())\n",
    "print(\"GPU is\", \"available\" if tf.config.list_physical_devices(\"GPU\") else \"NOT AVAILABLE\")"
   ]
  },
  {
   "cell_type": "code",
   "execution_count": 45,
   "id": "ee037ee6",
   "metadata": {},
   "outputs": [],
   "source": [
    "callback = tf.keras.callbacks.EarlyStopping(monitor='accuracy', patience=4)"
   ]
  },
  {
   "cell_type": "code",
   "execution_count": 46,
   "id": "681e539a",
   "metadata": {},
   "outputs": [],
   "source": [
    "model = tf.keras.Sequential()\n",
    "\n",
    "\n",
    "model.add(tf.keras.layers.Conv2D(16, (3,3), activation='relu', input_shape=(256, 256, 3)))\n",
    "model.add(tf.keras.layers.MaxPooling2D(pool_size=(2, 2)))\n",
    "\n",
    "model.add(tf.keras.layers.Conv2D(32, (3,3), activation='relu'))\n",
    "model.add(tf.keras.layers.MaxPooling2D(pool_size=(2, 2)))\n",
    "\n",
    "model.add(tf.keras.layers.Dropout(0.2))\n",
    "\n",
    "model.add(tf.keras.layers.Conv2D(64, (3,3), activation='relu'))\n",
    "model.add(tf.keras.layers.MaxPooling2D(pool_size=(2, 2)))\n",
    "\n",
    "model.add(tf.keras.layers.Dropout(0.2))\n",
    "\n",
    "model.add(tf.keras.layers.Flatten())\n",
    "\n",
    "model.add(tf.keras.layers.Dense(64, activation=\"relu\"))\n",
    "\n",
    "model.add(tf.keras.layers.Dropout(0.2))\n",
    "\n",
    "model.add(tf.keras.layers.Dense(32, activation=\"relu\"))\n",
    "\n",
    "model.add(tf.keras.layers.Dropout(0.2))\n",
    "\n",
    "model.add(tf.keras.layers.Dense(16, activation=\"relu\"))\n",
    "\n",
    "model.add(tf.keras.layers.Dropout(0.2))\n",
    "\n",
    "model.add(tf.keras.layers.Dense(1, activation=\"sigmoid\"))\n"
   ]
  },
  {
   "cell_type": "code",
   "execution_count": 47,
   "id": "6609d8e9",
   "metadata": {},
   "outputs": [],
   "source": [
    "model.compile(optimizer='adam', \n",
    "              loss=\"binary_crossentropy\", \n",
    "              metrics=['accuracy'])"
   ]
  },
  {
   "cell_type": "code",
   "execution_count": 48,
   "id": "3513f974",
   "metadata": {},
   "outputs": [
    {
     "name": "stdout",
     "output_type": "stream",
     "text": [
      "Model: \"sequential_1\"\n",
      "_________________________________________________________________\n",
      "Layer (type)                 Output Shape              Param #   \n",
      "=================================================================\n",
      "conv2d_3 (Conv2D)            (None, 254, 254, 16)      448       \n",
      "_________________________________________________________________\n",
      "max_pooling2d_3 (MaxPooling2 (None, 127, 127, 16)      0         \n",
      "_________________________________________________________________\n",
      "conv2d_4 (Conv2D)            (None, 125, 125, 32)      4640      \n",
      "_________________________________________________________________\n",
      "max_pooling2d_4 (MaxPooling2 (None, 62, 62, 32)        0         \n",
      "_________________________________________________________________\n",
      "dropout_5 (Dropout)          (None, 62, 62, 32)        0         \n",
      "_________________________________________________________________\n",
      "conv2d_5 (Conv2D)            (None, 60, 60, 64)        18496     \n",
      "_________________________________________________________________\n",
      "max_pooling2d_5 (MaxPooling2 (None, 30, 30, 64)        0         \n",
      "_________________________________________________________________\n",
      "dropout_6 (Dropout)          (None, 30, 30, 64)        0         \n",
      "_________________________________________________________________\n",
      "flatten_1 (Flatten)          (None, 57600)             0         \n",
      "_________________________________________________________________\n",
      "dense_4 (Dense)              (None, 64)                3686464   \n",
      "_________________________________________________________________\n",
      "dropout_7 (Dropout)          (None, 64)                0         \n",
      "_________________________________________________________________\n",
      "dense_5 (Dense)              (None, 32)                2080      \n",
      "_________________________________________________________________\n",
      "dropout_8 (Dropout)          (None, 32)                0         \n",
      "_________________________________________________________________\n",
      "dense_6 (Dense)              (None, 16)                528       \n",
      "_________________________________________________________________\n",
      "dropout_9 (Dropout)          (None, 16)                0         \n",
      "_________________________________________________________________\n",
      "dense_7 (Dense)              (None, 1)                 17        \n",
      "=================================================================\n",
      "Total params: 3,712,673\n",
      "Trainable params: 3,712,673\n",
      "Non-trainable params: 0\n",
      "_________________________________________________________________\n"
     ]
    }
   ],
   "source": [
    "model.summary()"
   ]
  },
  {
   "cell_type": "markdown",
   "id": "d3cfb333",
   "metadata": {},
   "source": [
    "-----"
   ]
  },
  {
   "cell_type": "markdown",
   "id": "39debff9",
   "metadata": {},
   "source": [
    "# Model Training"
   ]
  },
  {
   "cell_type": "code",
   "execution_count": 49,
   "id": "ed2a0a37",
   "metadata": {},
   "outputs": [
    {
     "name": "stdout",
     "output_type": "stream",
     "text": [
      "Epoch 1/50\n",
      "133/133 [==============================] - 715s 5s/step - loss: 0.6254 - accuracy: 0.6878 - val_loss: 0.6158 - val_accuracy: 0.7277\n",
      "Epoch 2/50\n",
      "133/133 [==============================] - 692s 5s/step - loss: 0.5941 - accuracy: 0.7196 - val_loss: 0.5457 - val_accuracy: 0.7277\n",
      "Epoch 3/50\n",
      "133/133 [==============================] - 692s 5s/step - loss: 0.5613 - accuracy: 0.7332 - val_loss: 0.5271 - val_accuracy: 0.7277\n",
      "Epoch 4/50\n",
      "133/133 [==============================] - 691s 5s/step - loss: 0.5600 - accuracy: 0.7183 - val_loss: 0.5127 - val_accuracy: 0.7277\n",
      "Epoch 5/50\n",
      "133/133 [==============================] - 694s 5s/step - loss: 0.5434 - accuracy: 0.7219 - val_loss: 0.5174 - val_accuracy: 0.7301\n",
      "Epoch 6/50\n",
      "133/133 [==============================] - 693s 5s/step - loss: 0.5238 - accuracy: 0.7321 - val_loss: 0.5722 - val_accuracy: 0.7277\n",
      "Epoch 7/50\n",
      "133/133 [==============================] - 693s 5s/step - loss: 0.5229 - accuracy: 0.7317 - val_loss: 0.5020 - val_accuracy: 0.7253\n",
      "Epoch 8/50\n",
      "133/133 [==============================] - 693s 5s/step - loss: 0.5054 - accuracy: 0.7391 - val_loss: 0.5506 - val_accuracy: 0.7263\n",
      "Epoch 9/50\n",
      "133/133 [==============================] - 691s 5s/step - loss: 0.5151 - accuracy: 0.7322 - val_loss: 0.5124 - val_accuracy: 0.7249\n",
      "Epoch 10/50\n",
      "133/133 [==============================] - 691s 5s/step - loss: 0.5260 - accuracy: 0.7338 - val_loss: 0.5066 - val_accuracy: 0.7343\n",
      "Epoch 11/50\n",
      "133/133 [==============================] - 694s 5s/step - loss: 0.5250 - accuracy: 0.7361 - val_loss: 0.5541 - val_accuracy: 0.7192\n",
      "Epoch 12/50\n",
      "133/133 [==============================] - 694s 5s/step - loss: 0.5182 - accuracy: 0.7307 - val_loss: 0.4911 - val_accuracy: 0.7376\n",
      "Epoch 13/50\n",
      "133/133 [==============================] - 693s 5s/step - loss: 0.5202 - accuracy: 0.7244 - val_loss: 0.5070 - val_accuracy: 0.7357\n",
      "Epoch 14/50\n",
      "133/133 [==============================] - 692s 5s/step - loss: 0.5098 - accuracy: 0.7287 - val_loss: 0.4954 - val_accuracy: 0.7494\n",
      "Epoch 15/50\n",
      "133/133 [==============================] - 692s 5s/step - loss: 0.5112 - accuracy: 0.7289 - val_loss: 0.4932 - val_accuracy: 0.7513\n",
      "Epoch 16/50\n",
      "133/133 [==============================] - 693s 5s/step - loss: 0.5050 - accuracy: 0.7354 - val_loss: 0.4727 - val_accuracy: 0.7504\n",
      "Epoch 17/50\n",
      "133/133 [==============================] - 694s 5s/step - loss: 0.4817 - accuracy: 0.7487 - val_loss: 0.4818 - val_accuracy: 0.7645\n",
      "Epoch 18/50\n",
      "133/133 [==============================] - 692s 5s/step - loss: 0.4968 - accuracy: 0.7434 - val_loss: 0.5240 - val_accuracy: 0.7305\n",
      "Epoch 19/50\n",
      "133/133 [==============================] - 693s 5s/step - loss: 0.4918 - accuracy: 0.7425 - val_loss: 0.5635 - val_accuracy: 0.6956\n",
      "Epoch 20/50\n",
      "133/133 [==============================] - 692s 5s/step - loss: 0.5049 - accuracy: 0.7377 - val_loss: 0.4710 - val_accuracy: 0.7419\n",
      "Epoch 21/50\n",
      "133/133 [==============================] - 693s 5s/step - loss: 0.4836 - accuracy: 0.7503 - val_loss: 0.4824 - val_accuracy: 0.7560\n",
      "Epoch 22/50\n",
      "133/133 [==============================] - 693s 5s/step - loss: 0.4847 - accuracy: 0.7516 - val_loss: 0.4692 - val_accuracy: 0.7631\n",
      "Epoch 23/50\n",
      "133/133 [==============================] - 693s 5s/step - loss: 0.4771 - accuracy: 0.7514 - val_loss: 0.4692 - val_accuracy: 0.7555\n",
      "Epoch 24/50\n",
      "133/133 [==============================] - 694s 5s/step - loss: 0.4915 - accuracy: 0.7498 - val_loss: 0.4909 - val_accuracy: 0.7428\n",
      "Epoch 25/50\n",
      "133/133 [==============================] - 695s 5s/step - loss: 0.4801 - accuracy: 0.7606 - val_loss: 0.4720 - val_accuracy: 0.7565\n",
      "Epoch 26/50\n",
      "133/133 [==============================] - 693s 5s/step - loss: 0.4705 - accuracy: 0.7577 - val_loss: 0.4714 - val_accuracy: 0.7574\n",
      "Epoch 27/50\n",
      "133/133 [==============================] - 697s 5s/step - loss: 0.4665 - accuracy: 0.7655 - val_loss: 0.4742 - val_accuracy: 0.7541\n"
     ]
    }
   ],
   "source": [
    "history = model.fit(\n",
    "    train_generator,\n",
    "    validation_data = validation_generator,\n",
    "    batch_size=32,\n",
    "    epochs = 50,\n",
    "    callbacks=[callback])"
   ]
  },
  {
   "cell_type": "code",
   "execution_count": 50,
   "id": "8a120d58",
   "metadata": {},
   "outputs": [],
   "source": [
    "def plot_training(history, metrics: list = ('loss',), figsize: tuple = (12, 5)):\n",
    "    \"\"\"\n",
    "    plots training selected metrics for every batch\n",
    "    \"\"\"\n",
    "    epochs = range(1, len(history.history[metrics[0]]) + 1)\n",
    "\n",
    "    fig, ax_arr = plt.subplots(1, len(metrics), figsize=figsize)\n",
    "\n",
    "    if not isinstance(ax_arr, np.ndarray):\n",
    "        ax_arr = np.array(ax_arr).reshape(1, )\n",
    "\n",
    "    for i, metric in enumerate(metrics):\n",
    "        ax_arr[i].plot(epochs, history.history[metric], color='k', linestyle='solid', label=metric, linewidth=2)\n",
    "        ax_arr[i].plot(epochs, history.history[f\"val_{metric}\"], color='r', linestyle='dotted',\n",
    "                       label=f'validation {metric}')\n",
    "        ax_arr[i].set_ylabel(metric)\n",
    "        ax_arr[i].set_xlabel('epochs')\n",
    "        ax_arr[i].grid()\n",
    "        ax_arr[i].legend()\n",
    "    plt.show()"
   ]
  },
  {
   "cell_type": "code",
   "execution_count": 51,
   "id": "e1e8fcdf",
   "metadata": {},
   "outputs": [
    {
     "data": {
      "image/png": "[encoded data removed]",
      "text/plain": [
       "<Figure size 864x360 with 2 Axes>"
      ]
     },
     "metadata": {
      "needs_background": "light"
     },
     "output_type": "display_data"
    }
   ],
   "source": [
    "plot_training(history, metrics=['loss', 'accuracy'])"
   ]
  },
  {
   "cell_type": "code",
   "execution_count": 53,
   "id": "b3f249c3",
   "metadata": {},
   "outputs": [],
   "source": [
    "model_name = \"model\"\n",
    "model.save(os.path.join(\"model/\", f\"{model_name}.h5\"))"
   ]
  },
  {
   "cell_type": "markdown",
   "id": "fc170dfe",
   "metadata": {},
   "source": [
    "-----------------------"
   ]
  },
  {
   "cell_type": "markdown",
   "id": "e46f028d",
   "metadata": {},
   "source": [
    "# Model Prediction"
   ]
  },
  {
   "cell_type": "code",
   "execution_count": 230,
   "id": "150382eb",
   "metadata": {},
   "outputs": [
    {
     "data": {
      "text/plain": [
       "'3.tiff'"
      ]
     },
     "execution_count": 230,
     "metadata": {},
     "output_type": "execute_result"
    }
   ],
   "source": [
    "img_id = os.listdir('predict/')\n",
    "img_id[0]"
   ]
  },
  {
   "cell_type": "code",
   "execution_count": 231,
   "id": "dbafeaf5",
   "metadata": {},
   "outputs": [],
   "source": [
    "def image_predict_convert():\n",
    "    img_id = os.listdir('predict/')\n",
    "    load_path = 'predict/' + img_id[0]\n",
    "    save_path = 'predict/png_converted/' + 'predict.png'\n",
    "    \n",
    "    biopsy = skimage.io.MultiImage(load_path)\n",
    "    img = cv2.resize(biopsy[-1], (0,0), fx = 0.1, fy = 0.1)\n",
    "    cv2.imwrite(save_path, img)\n",
    "    \n",
    "image_predict_convert()"
   ]
  },
  {
   "cell_type": "code",
   "execution_count": 232,
   "id": "48885b16",
   "metadata": {},
   "outputs": [],
   "source": [
    "model_name = \"model\"\n",
    "model = tf.keras.models.load_model(os.path.join('model/', f\"{model_name}.h5\"))"
   ]
  },
  {
   "cell_type": "code",
   "execution_count": 233,
   "id": "f429fb89",
   "metadata": {},
   "outputs": [],
   "source": [
    "def prediction(model, image_path, categories, pixels=256):\n",
    "    try:\n",
    "        img = cv2.imread(image_path)\n",
    "        resized_img = cv2.resize(img, (pixels, pixels))\n",
    "    except Exception as e:\n",
    "        print(f\"Error reading file {image_path}\")\n",
    "        exit()\n",
    "\n",
    "    to_predict = np.array(resized_img).reshape(-1, pixels, pixels, 3)  # 1 grayscale, 3 colored images\n",
    "    to_predict = to_predict/255\n",
    "    y = model.predict(to_predict)\n",
    "\n",
    "    # Display results\n",
    "    result = categories[int(y[0][0])]\n",
    "\n",
    "    fig, ax = plt.subplots()\n",
    "    label_font = {\"fontname\": \"Arial\", \"fontsize\": 9}\n",
    "    plt.imshow(img)\n",
    "    fig.suptitle(result, fontsize=20)\n",
    "    ax.set_title(image_path, fontdict=label_font)\n",
    "    return img, result, image_path, to_predict"
   ]
  },
  {
   "cell_type": "code",
   "execution_count": 234,
   "id": "22c42d23",
   "metadata": {},
   "outputs": [
    {
     "name": "stdout",
     "output_type": "stream",
     "text": [
      "WARNING:tensorflow:5 out of the last 17 calls to <function Model.make_predict_function.<locals>.predict_function at 0x0000022268F3CEE0> triggered tf.function retracing. Tracing is expensive and the excessive number of tracings could be due to (1) creating @tf.function repeatedly in a loop, (2) passing tensors with different shapes, (3) passing Python objects instead of tensors. For (1), please define your @tf.function outside of the loop. For (2), @tf.function has experimental_relax_shapes=True option that relaxes argument shapes that can avoid unnecessary retracing. For (3), please refer to https://www.tensorflow.org/guide/function#controlling_retracing and https://www.tensorflow.org/api_docs/python/tf/function for  more details.\n"
     ]
    },
    {
     "data": {
      "image/png": "[encoded data removed]",
      "text/plain": [
       "<Figure size 432x288 with 1 Axes>"
      ]
     },
     "metadata": {
      "needs_background": "light"
     },
     "output_type": "display_data"
    }
   ],
   "source": [
    "CATEGORIES = ['No Cancer', 'Cancer']\n",
    "img, result, image_path, to_predict = prediction(model,image_path= 'predict/png_converted/predict.png', categories = CATEGORIES)"
   ]
  },
  {
   "cell_type": "code",
   "execution_count": 245,
   "id": "ebc668ea",
   "metadata": {},
   "outputs": [
    {
     "name": "stdout",
     "output_type": "stream",
     "text": [
      "[[0.16189885]]\n"
     ]
    }
   ],
   "source": [
    "from keras_preprocessing.image import img_to_array, load_img\n",
    "\n",
    "img = load_img('predict/png_converted/predict.png',target_size=(256,256))\n",
    "x = img_to_array(img)\n",
    "x = np.expand_dims(x, axis=0)\n",
    "x = x/255\n",
    "prob = model.predict(x, verbose=0)\n",
    "print(prob)"
   ]
  },
  {
   "cell_type": "code",
   "execution_count": 236,
   "id": "980f7fe5",
   "metadata": {},
   "outputs": [
    {
     "name": "stdout",
     "output_type": "stream",
     "text": [
      "WARNING:tensorflow:5 out of the last 12 calls to <function Model.make_predict_function.<locals>.predict_function at 0x0000022268F3CEE0> triggered tf.function retracing. Tracing is expensive and the excessive number of tracings could be due to (1) creating @tf.function repeatedly in a loop, (2) passing tensors with different shapes, (3) passing Python objects instead of tensors. For (1), please define your @tf.function outside of the loop. For (2), @tf.function has experimental_relax_shapes=True option that relaxes argument shapes that can avoid unnecessary retracing. For (3), please refer to https://www.tensorflow.org/guide/function#controlling_retracing and https://www.tensorflow.org/api_docs/python/tf/function for  more details.\n"
     ]
    },
    {
     "data": {
      "text/plain": [
       "0.0"
      ]
     },
     "execution_count": 236,
     "metadata": {},
     "output_type": "execute_result"
    }
   ],
   "source": [
    "image_path = 'predict/png_converted/predict.png'\n",
    "img = cv2.imread(image_path)\n",
    "resized_img = cv2.resize(img, (256, 256))\n",
    "to_predict = np.array(resized_img).reshape(-1, 256, 256, 3)  # 1 grayscale, 3 colored images\n",
    "y = model.predict(to_predict)\n",
    "y[0][0]"
   ]
  },
  {
   "cell_type": "code",
   "execution_count": 228,
   "id": "d69e009f",
   "metadata": {},
   "outputs": [],
   "source": [
    "def to_pdf(img, result, name = 'results'):\n",
    "    pdf_path = \"results/\"\n",
    "    name = name\n",
    "\n",
    "    # Matplotlib and pdf generation\n",
    "    fig, ax = plt.subplots()\n",
    "    label_font = {\"fontname\": \"Arial\", \"fontsize\": 12}\n",
    "    img_plot = plt.imshow(img)\n",
    "    fig.suptitle(result, fontsize=18)\n",
    "    #ax.set_title(image_path, fontdict=label_font)\n",
    "    plt.savefig(f\"results/{name}.pdf\")\n",
    "    print(f\"Image saved as a pdf at {pdf_path}{name}.pdf\")"
   ]
  },
  {
   "cell_type": "code",
   "execution_count": 20,
   "id": "d6b00e9d",
   "metadata": {},
   "outputs": [
    {
     "name": "stdout",
     "output_type": "stream",
     "text": [
      "Image saved as a pdf at results/trial.pdf\n"
     ]
    },
    {
     "data": {
      "image/png": "[encoded data removed]",
      "text/plain": [
       "<Figure size 432x288 with 1 Axes>"
      ]
     },
     "metadata": {
      "needs_background": "light"
     },
     "output_type": "display_data"
    }
   ],
   "source": [
    "to_pdf(img, result)"
   ]
  }
 ],
 "metadata": {
  "kernelspec": {
   "display_name": "prostate",
   "language": "python",
   "name": "prostate"
  },
  "language_info": {
   "codemirror_mode": {
    "name": "ipython",
    "version": 3
   },
   "file_extension": ".py",
   "mimetype": "text/x-python",
   "name": "python",
   "nbconvert_exporter": "python",
   "pygments_lexer": "ipython3",
   "version": "3.8.8"
  }
 },
 "nbformat": 4,
 "nbformat_minor": 5
}
