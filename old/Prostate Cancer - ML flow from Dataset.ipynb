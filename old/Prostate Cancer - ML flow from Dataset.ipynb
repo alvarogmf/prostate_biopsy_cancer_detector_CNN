{
 "cells": [
  {
   "cell_type": "markdown",
   "id": "9fb242d3",
   "metadata": {},
   "source": [
    "# Biopsy Prostate Cancer Detection - ML"
   ]
  },
  {
   "cell_type": "markdown",
   "id": "e26a2007",
   "metadata": {},
   "source": [
    "Data in the CSV files:\n",
    "\n",
    "- **image_id:** ID code for the image.\n",
    "\n",
    "- **data_provider:** The name of the institution that provided the data. Both the Karolinska Institute and Radboud University Medical Center contributed data. They used different scanners with slightly different maximum microscope resolutions and worked with different pathologists for labeling their images.\n",
    "\n",
    "- **isup_grade:** Train only. The target variable. The severity of the cancer on a 0-5 scale.\n",
    "\n",
    "- **gleason_score:** Train only. An alternate cancer severity rating system with more levels than the ISUP scale. For details on how the gleason and ISUP systems compare, see the Additional Resources tab."
   ]
  },
  {
   "cell_type": "markdown",
   "id": "9f86adb9",
   "metadata": {},
   "source": [
    "There are two different data providers that clasify the grade of the tumour differently:\n",
    "\n",
    "**Radboud:** Prostate glands are individually labelled. Valid values are:\n",
    "- 0: background (non tissue) or unknown\n",
    "- 1: stroma (connective tissue, non-epithelium tissue)\n",
    "- 2: healthy (benign) epithelium\n",
    "- 3: cancerous epithelium (Gleason 3)\n",
    "- 4: cancerous epithelium (Gleason 4)\n",
    "- 5: cancerous epithelium (Gleason 5)\n",
    "\n",
    "**Karolinska:** Regions are labelled. Valid values are:\n",
    "- 0: background (non tissue) or unknown\n",
    "- 1: benign tissue (stroma and epithelium combined)\n",
    "- 2: cancerous tissue (stroma and epithelium combined)"
   ]
  },
  {
   "cell_type": "code",
   "execution_count": 1,
   "id": "edb92fc2",
   "metadata": {},
   "outputs": [],
   "source": [
    "import pandas as pd\n",
    "import numpy as np\n",
    "import matplotlib\n",
    "import matplotlib.pyplot as plt\n",
    "from tqdm.notebook import tqdm\n",
    "import os\n",
    "import skimage.io\n",
    "from skimage.transform import resize, rescale\n",
    "import cv2\n",
    "from PIL import Image\n",
    "import imagecodecs\n",
    "import random\n",
    "import matplotlib.image as mpimg\n",
    "import tensorflow as tf\n",
    "from sklearn.model_selection import train_test_split\n",
    "from keras_preprocessing.image import ImageDataGenerator"
   ]
  },
  {
   "cell_type": "code",
   "execution_count": 2,
   "id": "e31faf52",
   "metadata": {},
   "outputs": [
    {
     "name": "stdout",
     "output_type": "stream",
     "text": [
      "1 Physical GPUs, 1 Logical GPUs\n"
     ]
    }
   ],
   "source": [
    "gpus = tf.config.experimental.list_physical_devices('GPU')\n",
    "if gpus:\n",
    "  # Restrict TensorFlow to only allocate 4GB of memory on the first GPU\n",
    "  try:\n",
    "    tf.config.experimental.set_virtual_device_configuration(\n",
    "        gpus[0],\n",
    "        [tf.config.experimental.VirtualDeviceConfiguration(memory_limit=4096)])\n",
    "    logical_gpus = tf.config.experimental.list_logical_devices('GPU')\n",
    "    print(len(gpus), \"Physical GPUs,\", len(logical_gpus), \"Logical GPUs\")\n",
    "  except RuntimeError as e:\n",
    "    # Virtual devices must be set before GPUs have been initialized\n",
    "    print(e)"
   ]
  },
  {
   "cell_type": "code",
   "execution_count": 3,
   "id": "fa598604",
   "metadata": {},
   "outputs": [
    {
     "data": {
      "text/html": [
       "<div>\n",
       "<style scoped>\n",
       "    .dataframe tbody tr th:only-of-type {\n",
       "        vertical-align: middle;\n",
       "    }\n",
       "\n",
       "    .dataframe tbody tr th {\n",
       "        vertical-align: top;\n",
       "    }\n",
       "\n",
       "    .dataframe thead th {\n",
       "        text-align: right;\n",
       "    }\n",
       "</style>\n",
       "<table border=\"1\" class=\"dataframe\">\n",
       "  <thead>\n",
       "    <tr style=\"text-align: right;\">\n",
       "      <th></th>\n",
       "      <th>image_id</th>\n",
       "      <th>data_provider</th>\n",
       "      <th>isup_grade</th>\n",
       "      <th>gleason_score</th>\n",
       "    </tr>\n",
       "  </thead>\n",
       "  <tbody>\n",
       "    <tr>\n",
       "      <th>0</th>\n",
       "      <td>0005f7aaab2800f6170c399693a96917</td>\n",
       "      <td>karolinska</td>\n",
       "      <td>0</td>\n",
       "      <td>0+0</td>\n",
       "    </tr>\n",
       "    <tr>\n",
       "      <th>1</th>\n",
       "      <td>000920ad0b612851f8e01bcc880d9b3d</td>\n",
       "      <td>karolinska</td>\n",
       "      <td>0</td>\n",
       "      <td>0+0</td>\n",
       "    </tr>\n",
       "    <tr>\n",
       "      <th>2</th>\n",
       "      <td>0018ae58b01bdadc8e347995b69f99aa</td>\n",
       "      <td>radboud</td>\n",
       "      <td>4</td>\n",
       "      <td>4+4</td>\n",
       "    </tr>\n",
       "    <tr>\n",
       "      <th>3</th>\n",
       "      <td>001c62abd11fa4b57bf7a6c603a11bb9</td>\n",
       "      <td>karolinska</td>\n",
       "      <td>4</td>\n",
       "      <td>4+4</td>\n",
       "    </tr>\n",
       "    <tr>\n",
       "      <th>4</th>\n",
       "      <td>001d865e65ef5d2579c190a0e0350d8f</td>\n",
       "      <td>karolinska</td>\n",
       "      <td>0</td>\n",
       "      <td>0+0</td>\n",
       "    </tr>\n",
       "  </tbody>\n",
       "</table>\n",
       "</div>"
      ],
      "text/plain": [
       "                           image_id data_provider  isup_grade gleason_score\n",
       "0  0005f7aaab2800f6170c399693a96917    karolinska           0           0+0\n",
       "1  000920ad0b612851f8e01bcc880d9b3d    karolinska           0           0+0\n",
       "2  0018ae58b01bdadc8e347995b69f99aa       radboud           4           4+4\n",
       "3  001c62abd11fa4b57bf7a6c603a11bb9    karolinska           4           4+4\n",
       "4  001d865e65ef5d2579c190a0e0350d8f    karolinska           0           0+0"
      ]
     },
     "execution_count": 3,
     "metadata": {},
     "output_type": "execute_result"
    }
   ],
   "source": [
    "train_csv = pd.read_csv('train.csv')\n",
    "\n",
    "train_csv.head()"
   ]
  },
  {
   "cell_type": "code",
   "execution_count": 4,
   "id": "85067123",
   "metadata": {},
   "outputs": [
    {
     "data": {
      "text/plain": [
       "image_id         0\n",
       "data_provider    0\n",
       "isup_grade       0\n",
       "gleason_score    0\n",
       "dtype: int64"
      ]
     },
     "execution_count": 4,
     "metadata": {},
     "output_type": "execute_result"
    }
   ],
   "source": [
    "train_csv.isna().sum()"
   ]
  },
  {
   "cell_type": "code",
   "execution_count": 5,
   "id": "0b73a222",
   "metadata": {},
   "outputs": [
    {
     "data": {
      "text/plain": [
       "3+3         2666\n",
       "0+0         1925\n",
       "3+4         1342\n",
       "4+3         1243\n",
       "4+4         1126\n",
       "negative     967\n",
       "4+5          849\n",
       "5+4          248\n",
       "5+5          127\n",
       "3+5           80\n",
       "5+3           43\n",
       "Name: gleason_score, dtype: int64"
      ]
     },
     "execution_count": 5,
     "metadata": {},
     "output_type": "execute_result"
    }
   ],
   "source": [
    "train_csv['gleason_score'].value_counts()"
   ]
  },
  {
   "cell_type": "code",
   "execution_count": 6,
   "id": "20e1052c",
   "metadata": {},
   "outputs": [
    {
     "data": {
      "text/plain": [
       "karolinska    5456\n",
       "radboud       5160\n",
       "Name: data_provider, dtype: int64"
      ]
     },
     "execution_count": 6,
     "metadata": {},
     "output_type": "execute_result"
    }
   ],
   "source": [
    "train_csv['data_provider'].value_counts()"
   ]
  },
  {
   "cell_type": "code",
   "execution_count": 7,
   "id": "ef065464",
   "metadata": {},
   "outputs": [
    {
     "data": {
      "text/plain": [
       "0    2892\n",
       "1    2666\n",
       "2    1343\n",
       "4    1249\n",
       "3    1242\n",
       "5    1224\n",
       "Name: isup_grade, dtype: int64"
      ]
     },
     "execution_count": 7,
     "metadata": {},
     "output_type": "execute_result"
    }
   ],
   "source": [
    "train_csv['isup_grade'].value_counts()"
   ]
  },
  {
   "cell_type": "markdown",
   "id": "11ef6b93",
   "metadata": {},
   "source": [
    "##### Data in the train CSV seems to be very clean, with same number of rows for each data provider and high number of cases for each isup_grade. "
   ]
  },
  {
   "cell_type": "code",
   "execution_count": 8,
   "id": "16500c45",
   "metadata": {},
   "outputs": [],
   "source": [
    "train_clean = pd.DataFrame()"
   ]
  },
  {
   "cell_type": "code",
   "execution_count": 9,
   "id": "e2b948ec",
   "metadata": {},
   "outputs": [],
   "source": [
    "train_csv['path'] = train_csv['image_id'] +'.png'"
   ]
  },
  {
   "cell_type": "code",
   "execution_count": 10,
   "id": "1554fd1f",
   "metadata": {},
   "outputs": [
    {
     "data": {
      "text/html": [
       "<div>\n",
       "<style scoped>\n",
       "    .dataframe tbody tr th:only-of-type {\n",
       "        vertical-align: middle;\n",
       "    }\n",
       "\n",
       "    .dataframe tbody tr th {\n",
       "        vertical-align: top;\n",
       "    }\n",
       "\n",
       "    .dataframe thead th {\n",
       "        text-align: right;\n",
       "    }\n",
       "</style>\n",
       "<table border=\"1\" class=\"dataframe\">\n",
       "  <thead>\n",
       "    <tr style=\"text-align: right;\">\n",
       "      <th></th>\n",
       "      <th>image_id</th>\n",
       "      <th>data_provider</th>\n",
       "      <th>isup_grade</th>\n",
       "      <th>gleason_score</th>\n",
       "      <th>path</th>\n",
       "    </tr>\n",
       "  </thead>\n",
       "  <tbody>\n",
       "    <tr>\n",
       "      <th>0</th>\n",
       "      <td>0005f7aaab2800f6170c399693a96917</td>\n",
       "      <td>karolinska</td>\n",
       "      <td>0</td>\n",
       "      <td>0+0</td>\n",
       "      <td>0005f7aaab2800f6170c399693a96917.png</td>\n",
       "    </tr>\n",
       "    <tr>\n",
       "      <th>1</th>\n",
       "      <td>000920ad0b612851f8e01bcc880d9b3d</td>\n",
       "      <td>karolinska</td>\n",
       "      <td>0</td>\n",
       "      <td>0+0</td>\n",
       "      <td>000920ad0b612851f8e01bcc880d9b3d.png</td>\n",
       "    </tr>\n",
       "    <tr>\n",
       "      <th>2</th>\n",
       "      <td>0018ae58b01bdadc8e347995b69f99aa</td>\n",
       "      <td>radboud</td>\n",
       "      <td>4</td>\n",
       "      <td>4+4</td>\n",
       "      <td>0018ae58b01bdadc8e347995b69f99aa.png</td>\n",
       "    </tr>\n",
       "    <tr>\n",
       "      <th>3</th>\n",
       "      <td>001c62abd11fa4b57bf7a6c603a11bb9</td>\n",
       "      <td>karolinska</td>\n",
       "      <td>4</td>\n",
       "      <td>4+4</td>\n",
       "      <td>001c62abd11fa4b57bf7a6c603a11bb9.png</td>\n",
       "    </tr>\n",
       "    <tr>\n",
       "      <th>4</th>\n",
       "      <td>001d865e65ef5d2579c190a0e0350d8f</td>\n",
       "      <td>karolinska</td>\n",
       "      <td>0</td>\n",
       "      <td>0+0</td>\n",
       "      <td>001d865e65ef5d2579c190a0e0350d8f.png</td>\n",
       "    </tr>\n",
       "  </tbody>\n",
       "</table>\n",
       "</div>"
      ],
      "text/plain": [
       "                           image_id data_provider  isup_grade gleason_score  \\\n",
       "0  0005f7aaab2800f6170c399693a96917    karolinska           0           0+0   \n",
       "1  000920ad0b612851f8e01bcc880d9b3d    karolinska           0           0+0   \n",
       "2  0018ae58b01bdadc8e347995b69f99aa       radboud           4           4+4   \n",
       "3  001c62abd11fa4b57bf7a6c603a11bb9    karolinska           4           4+4   \n",
       "4  001d865e65ef5d2579c190a0e0350d8f    karolinska           0           0+0   \n",
       "\n",
       "                                   path  \n",
       "0  0005f7aaab2800f6170c399693a96917.png  \n",
       "1  000920ad0b612851f8e01bcc880d9b3d.png  \n",
       "2  0018ae58b01bdadc8e347995b69f99aa.png  \n",
       "3  001c62abd11fa4b57bf7a6c603a11bb9.png  \n",
       "4  001d865e65ef5d2579c190a0e0350d8f.png  "
      ]
     },
     "execution_count": 10,
     "metadata": {},
     "output_type": "execute_result"
    }
   ],
   "source": [
    "train_csv.head()"
   ]
  },
  {
   "cell_type": "code",
   "execution_count": 11,
   "id": "8e0b0590",
   "metadata": {},
   "outputs": [],
   "source": [
    "train_csv['binary_score'] = np.where(\n",
    "    (train_csv['data_provider'] == 'karolinska') & (train_csv['isup_grade'] < 3), 'benigno', \n",
    "    np.where((train_csv['data_provider'] == 'radboud') & (train_csv['isup_grade'] < 1), 'benigno' , \n",
    "    'maligno'))"
   ]
  },
  {
   "cell_type": "code",
   "execution_count": 12,
   "id": "711defb3",
   "metadata": {},
   "outputs": [
    {
     "data": {
      "text/html": [
       "<div>\n",
       "<style scoped>\n",
       "    .dataframe tbody tr th:only-of-type {\n",
       "        vertical-align: middle;\n",
       "    }\n",
       "\n",
       "    .dataframe tbody tr th {\n",
       "        vertical-align: top;\n",
       "    }\n",
       "\n",
       "    .dataframe thead th {\n",
       "        text-align: right;\n",
       "    }\n",
       "</style>\n",
       "<table border=\"1\" class=\"dataframe\">\n",
       "  <thead>\n",
       "    <tr style=\"text-align: right;\">\n",
       "      <th></th>\n",
       "      <th>image_id</th>\n",
       "      <th>data_provider</th>\n",
       "      <th>isup_grade</th>\n",
       "      <th>gleason_score</th>\n",
       "      <th>path</th>\n",
       "      <th>binary_score</th>\n",
       "    </tr>\n",
       "  </thead>\n",
       "  <tbody>\n",
       "    <tr>\n",
       "      <th>0</th>\n",
       "      <td>0005f7aaab2800f6170c399693a96917</td>\n",
       "      <td>karolinska</td>\n",
       "      <td>0</td>\n",
       "      <td>0+0</td>\n",
       "      <td>0005f7aaab2800f6170c399693a96917.png</td>\n",
       "      <td>benigno</td>\n",
       "    </tr>\n",
       "    <tr>\n",
       "      <th>1</th>\n",
       "      <td>000920ad0b612851f8e01bcc880d9b3d</td>\n",
       "      <td>karolinska</td>\n",
       "      <td>0</td>\n",
       "      <td>0+0</td>\n",
       "      <td>000920ad0b612851f8e01bcc880d9b3d.png</td>\n",
       "      <td>benigno</td>\n",
       "    </tr>\n",
       "    <tr>\n",
       "      <th>2</th>\n",
       "      <td>0018ae58b01bdadc8e347995b69f99aa</td>\n",
       "      <td>radboud</td>\n",
       "      <td>4</td>\n",
       "      <td>4+4</td>\n",
       "      <td>0018ae58b01bdadc8e347995b69f99aa.png</td>\n",
       "      <td>maligno</td>\n",
       "    </tr>\n",
       "    <tr>\n",
       "      <th>3</th>\n",
       "      <td>001c62abd11fa4b57bf7a6c603a11bb9</td>\n",
       "      <td>karolinska</td>\n",
       "      <td>4</td>\n",
       "      <td>4+4</td>\n",
       "      <td>001c62abd11fa4b57bf7a6c603a11bb9.png</td>\n",
       "      <td>maligno</td>\n",
       "    </tr>\n",
       "    <tr>\n",
       "      <th>4</th>\n",
       "      <td>001d865e65ef5d2579c190a0e0350d8f</td>\n",
       "      <td>karolinska</td>\n",
       "      <td>0</td>\n",
       "      <td>0+0</td>\n",
       "      <td>001d865e65ef5d2579c190a0e0350d8f.png</td>\n",
       "      <td>benigno</td>\n",
       "    </tr>\n",
       "  </tbody>\n",
       "</table>\n",
       "</div>"
      ],
      "text/plain": [
       "                           image_id data_provider  isup_grade gleason_score  \\\n",
       "0  0005f7aaab2800f6170c399693a96917    karolinska           0           0+0   \n",
       "1  000920ad0b612851f8e01bcc880d9b3d    karolinska           0           0+0   \n",
       "2  0018ae58b01bdadc8e347995b69f99aa       radboud           4           4+4   \n",
       "3  001c62abd11fa4b57bf7a6c603a11bb9    karolinska           4           4+4   \n",
       "4  001d865e65ef5d2579c190a0e0350d8f    karolinska           0           0+0   \n",
       "\n",
       "                                   path binary_score  \n",
       "0  0005f7aaab2800f6170c399693a96917.png      benigno  \n",
       "1  000920ad0b612851f8e01bcc880d9b3d.png      benigno  \n",
       "2  0018ae58b01bdadc8e347995b69f99aa.png      maligno  \n",
       "3  001c62abd11fa4b57bf7a6c603a11bb9.png      maligno  \n",
       "4  001d865e65ef5d2579c190a0e0350d8f.png      benigno  "
      ]
     },
     "execution_count": 12,
     "metadata": {},
     "output_type": "execute_result"
    }
   ],
   "source": [
    "train_csv.head()"
   ]
  },
  {
   "cell_type": "code",
   "execution_count": 13,
   "id": "cc6219ef",
   "metadata": {
    "scrolled": true
   },
   "outputs": [
    {
     "data": {
      "text/html": [
       "<div>\n",
       "<style scoped>\n",
       "    .dataframe tbody tr th:only-of-type {\n",
       "        vertical-align: middle;\n",
       "    }\n",
       "\n",
       "    .dataframe tbody tr th {\n",
       "        vertical-align: top;\n",
       "    }\n",
       "\n",
       "    .dataframe thead th {\n",
       "        text-align: right;\n",
       "    }\n",
       "</style>\n",
       "<table border=\"1\" class=\"dataframe\">\n",
       "  <thead>\n",
       "    <tr style=\"text-align: right;\">\n",
       "      <th></th>\n",
       "      <th>path</th>\n",
       "      <th>binary_score</th>\n",
       "    </tr>\n",
       "  </thead>\n",
       "  <tbody>\n",
       "    <tr>\n",
       "      <th>0</th>\n",
       "      <td>0005f7aaab2800f6170c399693a96917.png</td>\n",
       "      <td>benigno</td>\n",
       "    </tr>\n",
       "    <tr>\n",
       "      <th>1</th>\n",
       "      <td>000920ad0b612851f8e01bcc880d9b3d.png</td>\n",
       "      <td>benigno</td>\n",
       "    </tr>\n",
       "    <tr>\n",
       "      <th>2</th>\n",
       "      <td>0018ae58b01bdadc8e347995b69f99aa.png</td>\n",
       "      <td>maligno</td>\n",
       "    </tr>\n",
       "    <tr>\n",
       "      <th>3</th>\n",
       "      <td>001c62abd11fa4b57bf7a6c603a11bb9.png</td>\n",
       "      <td>maligno</td>\n",
       "    </tr>\n",
       "    <tr>\n",
       "      <th>4</th>\n",
       "      <td>001d865e65ef5d2579c190a0e0350d8f.png</td>\n",
       "      <td>benigno</td>\n",
       "    </tr>\n",
       "  </tbody>\n",
       "</table>\n",
       "</div>"
      ],
      "text/plain": [
       "                                   path binary_score\n",
       "0  0005f7aaab2800f6170c399693a96917.png      benigno\n",
       "1  000920ad0b612851f8e01bcc880d9b3d.png      benigno\n",
       "2  0018ae58b01bdadc8e347995b69f99aa.png      maligno\n",
       "3  001c62abd11fa4b57bf7a6c603a11bb9.png      maligno\n",
       "4  001d865e65ef5d2579c190a0e0350d8f.png      benigno"
      ]
     },
     "execution_count": 13,
     "metadata": {},
     "output_type": "execute_result"
    }
   ],
   "source": [
    "train_clean = pd.DataFrame(train_csv[['path', 'binary_score']])\n",
    "train_clean.head()"
   ]
  },
  {
   "cell_type": "code",
   "execution_count": 14,
   "id": "ba051016",
   "metadata": {},
   "outputs": [
    {
     "data": {
      "text/html": [
       "<div>\n",
       "<style scoped>\n",
       "    .dataframe tbody tr th:only-of-type {\n",
       "        vertical-align: middle;\n",
       "    }\n",
       "\n",
       "    .dataframe tbody tr th {\n",
       "        vertical-align: top;\n",
       "    }\n",
       "\n",
       "    .dataframe thead th {\n",
       "        text-align: right;\n",
       "    }\n",
       "</style>\n",
       "<table border=\"1\" class=\"dataframe\">\n",
       "  <thead>\n",
       "    <tr style=\"text-align: right;\">\n",
       "      <th></th>\n",
       "      <th>path</th>\n",
       "      <th>binary_score</th>\n",
       "    </tr>\n",
       "  </thead>\n",
       "  <tbody>\n",
       "    <tr>\n",
       "      <th>0</th>\n",
       "      <td>0005f7aaab2800f6170c399693a96917.png</td>\n",
       "      <td>benigno</td>\n",
       "    </tr>\n",
       "    <tr>\n",
       "      <th>1</th>\n",
       "      <td>000920ad0b612851f8e01bcc880d9b3d.png</td>\n",
       "      <td>benigno</td>\n",
       "    </tr>\n",
       "    <tr>\n",
       "      <th>2</th>\n",
       "      <td>0018ae58b01bdadc8e347995b69f99aa.png</td>\n",
       "      <td>maligno</td>\n",
       "    </tr>\n",
       "    <tr>\n",
       "      <th>3</th>\n",
       "      <td>001c62abd11fa4b57bf7a6c603a11bb9.png</td>\n",
       "      <td>maligno</td>\n",
       "    </tr>\n",
       "    <tr>\n",
       "      <th>4</th>\n",
       "      <td>001d865e65ef5d2579c190a0e0350d8f.png</td>\n",
       "      <td>benigno</td>\n",
       "    </tr>\n",
       "    <tr>\n",
       "      <th>...</th>\n",
       "      <td>...</td>\n",
       "      <td>...</td>\n",
       "    </tr>\n",
       "    <tr>\n",
       "      <th>995</th>\n",
       "      <td>1987d293a6345a3fdfd2accf524bc2d1.png</td>\n",
       "      <td>benigno</td>\n",
       "    </tr>\n",
       "    <tr>\n",
       "      <th>996</th>\n",
       "      <td>198fa06f052feedc1684e42829c137fc.png</td>\n",
       "      <td>maligno</td>\n",
       "    </tr>\n",
       "    <tr>\n",
       "      <th>997</th>\n",
       "      <td>1990f9eb40f798dcb50f7fad287c0e28.png</td>\n",
       "      <td>maligno</td>\n",
       "    </tr>\n",
       "    <tr>\n",
       "      <th>998</th>\n",
       "      <td>19929dc431ae4560780d6a92a8e9fd20.png</td>\n",
       "      <td>maligno</td>\n",
       "    </tr>\n",
       "    <tr>\n",
       "      <th>999</th>\n",
       "      <td>1995d7f1f42ad259aae1fc004fbc6360.png</td>\n",
       "      <td>maligno</td>\n",
       "    </tr>\n",
       "  </tbody>\n",
       "</table>\n",
       "<p>1000 rows × 2 columns</p>\n",
       "</div>"
      ],
      "text/plain": [
       "                                     path binary_score\n",
       "0    0005f7aaab2800f6170c399693a96917.png      benigno\n",
       "1    000920ad0b612851f8e01bcc880d9b3d.png      benigno\n",
       "2    0018ae58b01bdadc8e347995b69f99aa.png      maligno\n",
       "3    001c62abd11fa4b57bf7a6c603a11bb9.png      maligno\n",
       "4    001d865e65ef5d2579c190a0e0350d8f.png      benigno\n",
       "..                                    ...          ...\n",
       "995  1987d293a6345a3fdfd2accf524bc2d1.png      benigno\n",
       "996  198fa06f052feedc1684e42829c137fc.png      maligno\n",
       "997  1990f9eb40f798dcb50f7fad287c0e28.png      maligno\n",
       "998  19929dc431ae4560780d6a92a8e9fd20.png      maligno\n",
       "999  1995d7f1f42ad259aae1fc004fbc6360.png      maligno\n",
       "\n",
       "[1000 rows x 2 columns]"
      ]
     },
     "execution_count": 14,
     "metadata": {},
     "output_type": "execute_result"
    }
   ],
   "source": [
    "#this is for test purposes only\n",
    "train_clean_small = train_clean[:1000]\n",
    "train_clean_small"
   ]
  },
  {
   "cell_type": "markdown",
   "id": "aa3e1a1e",
   "metadata": {},
   "source": [
    "-------------------------------------------------------"
   ]
  },
  {
   "cell_type": "markdown",
   "id": "d48b1aab",
   "metadata": {},
   "source": [
    "# Image treatment"
   ]
  },
  {
   "cell_type": "markdown",
   "id": "5b164a1a",
   "metadata": {},
   "source": [
    "These images are in a .tiff format, which is good for maintaining good quality in the images, but the size is too big fo be feasible to create a model (at least an initial one). I will transform these images into .png and also will convert them to have the same size (512x512), as they have a wide variety of sizes and forms."
   ]
  },
  {
   "cell_type": "code",
   "execution_count": 15,
   "id": "224b6f74",
   "metadata": {},
   "outputs": [],
   "source": [
    "# where are the images\n",
    "data_dir = \"train_images/\""
   ]
  },
  {
   "cell_type": "code",
   "execution_count": 16,
   "id": "208b1dde",
   "metadata": {},
   "outputs": [],
   "source": [
    "# where will the converted images be stored, create the folder if it doesn't exist\n",
    "save_dir = \"png_images/\"\n",
    "os.makedirs(save_dir, exist_ok=True)"
   ]
  },
  {
   "cell_type": "code",
   "execution_count": 17,
   "id": "44e95748",
   "metadata": {},
   "outputs": [],
   "source": [
    "# THIS HAS ALREADY BEEN DONE! No need to run it again and again. It converts the images.\n",
    "\n",
    "# for img_id in tqdm(train_csv.image_id):\n",
    "#     load_path = data_dir + img_id + '.tiff'\n",
    "#     save_path = save_dir + img_id + '.png'\n",
    "    \n",
    "#     biopsy = skimage.io.MultiImage(load_path)\n",
    "#     img = cv2.resize(biopsy[-1], (0,0), fx = 0.1, fy = 0.1)\n",
    "#     cv2.imwrite(save_path, img)"
   ]
  },
  {
   "cell_type": "code",
   "execution_count": 18,
   "id": "cd89a7e5",
   "metadata": {},
   "outputs": [],
   "source": [
    "datagen = ImageDataGenerator(rescale=1./255.,validation_split=0.2)"
   ]
  },
  {
   "cell_type": "code",
   "execution_count": 19,
   "id": "066f1569",
   "metadata": {},
   "outputs": [
    {
     "name": "stdout",
     "output_type": "stream",
     "text": [
      "Found 8493 validated image filenames belonging to 2 classes.\n",
      "Found 2123 validated image filenames belonging to 2 classes.\n"
     ]
    }
   ],
   "source": [
    "train_generator  = datagen.flow_from_dataframe(\n",
    "    dataframe=train_clean,\n",
    "    directory=save_dir,\n",
    "    x_col=\"path\",\n",
    "    y_col=\"binary_score\",\n",
    "    target_size=(258, 258),\n",
    "    color_mode=\"rgb\",\n",
    "    batch_size=64,\n",
    "    save_to_dir='png_images_resized/',\n",
    "    save_format=\"png\",\n",
    "    class_mode=\"binary\",\n",
    "    subset='training'\n",
    ")\n",
    "\n",
    "\n",
    "validation_generator  = datagen.flow_from_dataframe(\n",
    "    dataframe=train_clean,\n",
    "    directory=save_dir,\n",
    "    x_col=\"path\",\n",
    "    y_col=\"binary_score\",\n",
    "    target_size=(258, 258),\n",
    "    color_mode=\"rgb\",\n",
    "    batch_size=64, #deberia ser mas alto que el del modelo (sugerencia)\n",
    "    save_to_dir='png_images_resized/',\n",
    "    save_format=\"png\",\n",
    "    class_mode=\"binary\",\n",
    "    subset='validation'\n",
    ")"
   ]
  },
  {
   "cell_type": "code",
   "execution_count": 39,
   "id": "a0db1634",
   "metadata": {},
   "outputs": [
    {
     "data": {
      "image/png": "[encoded data removed]",
      "text/plain": [
       "<Figure size 432x288 with 1 Axes>"
      ]
     },
     "metadata": {
      "needs_background": "light"
     },
     "output_type": "display_data"
    }
   ],
   "source": [
    "# Now the images are all of the same shape and lighter\n",
    "\n",
    "files = os.listdir(save_dir)\n",
    "d = random.choice(files)\n",
    "\n",
    "img = mpimg.imread(save_dir + d)\n",
    "imgplot = plt.imshow(img)\n",
    "plt.show()"
   ]
  },
  {
   "cell_type": "code",
   "execution_count": 21,
   "id": "35e9e093",
   "metadata": {},
   "outputs": [],
   "source": [
    "# from keras.preprocessing import image\n",
    "\n",
    "# # reading the training images\n",
    "\n",
    "# train_image = [ ]\n",
    "\n",
    "# for i in tqdm(range(train_csv.shape[0])):\n",
    "\n",
    "#     img = image.load_img('png_images/' + train_csv['image_id'][i] + '.png', target_size = (512,512,1), \n",
    "#             grayscale = False)\n",
    "\n",
    "#     img = image.img_to_array(img)\n",
    "\n",
    "#     img = img/255\n",
    "\n",
    "#     train_image.append(img)\n",
    "#     X = np.array(train_image)"
   ]
  },
  {
   "cell_type": "code",
   "execution_count": 22,
   "id": "49c9079b",
   "metadata": {
    "scrolled": true
   },
   "outputs": [],
   "source": [
    "# X.shape"
   ]
  },
  {
   "cell_type": "code",
   "execution_count": 23,
   "id": "862b3c23",
   "metadata": {},
   "outputs": [],
   "source": [
    "# y = train_csv['isup_grade'].values"
   ]
  },
  {
   "cell_type": "code",
   "execution_count": 24,
   "id": "0e0ba63f",
   "metadata": {},
   "outputs": [],
   "source": [
    "# X_train, X_test, y_train, y_test = train_test_split(X, y, random_state = 42, test_size = 0.2)"
   ]
  },
  {
   "cell_type": "markdown",
   "id": "f9f24406",
   "metadata": {},
   "source": [
    "----------"
   ]
  },
  {
   "cell_type": "markdown",
   "id": "02c4352d",
   "metadata": {},
   "source": [
    "# Modeling"
   ]
  },
  {
   "cell_type": "code",
   "execution_count": 25,
   "id": "8ee86a79",
   "metadata": {},
   "outputs": [
    {
     "name": "stdout",
     "output_type": "stream",
     "text": [
      "Version:  2.4.0\n",
      "Eager mode:  True\n",
      "GPU is available\n"
     ]
    }
   ],
   "source": [
    "import tensorflow as tf\n",
    "print(\"Version: \", tf.__version__)\n",
    "print(\"Eager mode: \", tf.executing_eagerly())\n",
    "print(\"GPU is\", \"available\" if tf.config.list_physical_devices(\"GPU\") else \"NOT AVAILABLE\")"
   ]
  },
  {
   "cell_type": "code",
   "execution_count": 79,
   "id": "1c4f8fa5",
   "metadata": {},
   "outputs": [],
   "source": [
    "model = tf.keras.Sequential()\n",
    "\n",
    "\n",
    "model.add(tf.keras.layers.Conv2D(16, (3,3), activation='relu', input_shape=(258, 258, 3)))\n",
    "model.add(tf.keras.layers.MaxPooling2D(pool_size=(2, 2)))\n",
    "\n",
    "model.add(tf.keras.layers.Conv2D(32, (3,3), activation='relu'))\n",
    "model.add(tf.keras.layers.MaxPooling2D(pool_size=(2, 2)))\n",
    "\n",
    "model.add(tf.keras.layers.Conv2D(64, (3,3), activation='relu'))\n",
    "model.add(tf.keras.layers.MaxPooling2D(pool_size=(2, 2)))\n",
    "\n",
    "model.add(tf.keras.layers.Dropout(0.2))\n",
    "\n",
    "model.add(tf.keras.layers.Flatten())\n",
    "\n",
    "model.add(tf.keras.layers.Dense(32, activation=\"relu\"))\n",
    "model.add(tf.keras.layers.Dense(16, activation=\"relu\"))\n",
    "\n",
    "model.add(tf.keras.layers.Dense(1, activation=\"sigmoid\"))\n"
   ]
  },
  {
   "cell_type": "code",
   "execution_count": 80,
   "id": "a6618666",
   "metadata": {},
   "outputs": [],
   "source": [
    "model.compile(optimizer='adam', \n",
    "              loss=\"binary_crossentropy\", \n",
    "              metrics=['accuracy'])"
   ]
  },
  {
   "cell_type": "code",
   "execution_count": 81,
   "id": "35e38ce3",
   "metadata": {},
   "outputs": [
    {
     "name": "stdout",
     "output_type": "stream",
     "text": [
      "Model: \"sequential_3\"\n",
      "_________________________________________________________________\n",
      "Layer (type)                 Output Shape              Param #   \n",
      "=================================================================\n",
      "conv2d_9 (Conv2D)            (None, 256, 256, 16)      448       \n",
      "_________________________________________________________________\n",
      "max_pooling2d_9 (MaxPooling2 (None, 128, 128, 16)      0         \n",
      "_________________________________________________________________\n",
      "conv2d_10 (Conv2D)           (None, 126, 126, 32)      4640      \n",
      "_________________________________________________________________\n",
      "max_pooling2d_10 (MaxPooling (None, 63, 63, 32)        0         \n",
      "_________________________________________________________________\n",
      "conv2d_11 (Conv2D)           (None, 61, 61, 64)        18496     \n",
      "_________________________________________________________________\n",
      "max_pooling2d_11 (MaxPooling (None, 30, 30, 64)        0         \n",
      "_________________________________________________________________\n",
      "dropout (Dropout)            (None, 30, 30, 64)        0         \n",
      "_________________________________________________________________\n",
      "flatten_3 (Flatten)          (None, 57600)             0         \n",
      "_________________________________________________________________\n",
      "dense_5 (Dense)              (None, 32)                1843232   \n",
      "_________________________________________________________________\n",
      "dense_6 (Dense)              (None, 16)                528       \n",
      "_________________________________________________________________\n",
      "dense_7 (Dense)              (None, 1)                 17        \n",
      "=================================================================\n",
      "Total params: 1,867,361\n",
      "Trainable params: 1,867,361\n",
      "Non-trainable params: 0\n",
      "_________________________________________________________________\n"
     ]
    }
   ],
   "source": [
    "model.summary()"
   ]
  },
  {
   "cell_type": "markdown",
   "id": "0cc799e9",
   "metadata": {},
   "source": [
    "-----"
   ]
  },
  {
   "cell_type": "markdown",
   "id": "b55e9e24",
   "metadata": {},
   "source": [
    "# Model Training"
   ]
  },
  {
   "cell_type": "code",
   "execution_count": 33,
   "id": "0452862e",
   "metadata": {},
   "outputs": [
    {
     "name": "stdout",
     "output_type": "stream",
     "text": [
      "Epoch 1/50\n",
      "133/133 [==============================] - 574s 4s/step - loss: 0.7172 - accuracy: 0.5460 - val_loss: 0.6153 - val_accuracy: 0.6726\n",
      "Epoch 2/50\n",
      "133/133 [==============================] - 573s 4s/step - loss: 0.6042 - accuracy: 0.6687 - val_loss: 0.4987 - val_accuracy: 0.7810\n",
      "Epoch 3/50\n",
      "133/133 [==============================] - 573s 4s/step - loss: 0.5061 - accuracy: 0.7826 - val_loss: 0.4754 - val_accuracy: 0.8224\n",
      "Epoch 4/50\n",
      "133/133 [==============================] - 574s 4s/step - loss: 0.4776 - accuracy: 0.7920 - val_loss: 0.4794 - val_accuracy: 0.7984\n",
      "Epoch 5/50\n",
      "133/133 [==============================] - 575s 4s/step - loss: 0.4604 - accuracy: 0.8001 - val_loss: 0.4747 - val_accuracy: 0.8252\n",
      "Epoch 6/50\n",
      "133/133 [==============================] - 575s 4s/step - loss: 0.4714 - accuracy: 0.7845 - val_loss: 0.4392 - val_accuracy: 0.8215\n",
      "Epoch 7/50\n",
      "133/133 [==============================] - 577s 4s/step - loss: 0.4303 - accuracy: 0.8120 - val_loss: 0.4183 - val_accuracy: 0.8267\n",
      "Epoch 8/50\n",
      "133/133 [==============================] - 575s 4s/step - loss: 0.4131 - accuracy: 0.8106 - val_loss: 0.4190 - val_accuracy: 0.8337\n",
      "Epoch 9/50\n",
      "133/133 [==============================] - 577s 4s/step - loss: 0.4125 - accuracy: 0.8132 - val_loss: 0.4336 - val_accuracy: 0.8205\n",
      "Epoch 10/50\n",
      "133/133 [==============================] - 574s 4s/step - loss: 0.3979 - accuracy: 0.8137 - val_loss: 0.4195 - val_accuracy: 0.8238\n",
      "Epoch 11/50\n",
      "133/133 [==============================] - 572s 4s/step - loss: 0.3745 - accuracy: 0.8335 - val_loss: 0.4242 - val_accuracy: 0.8172\n",
      "Epoch 12/50\n",
      "133/133 [==============================] - 572s 4s/step - loss: 0.3562 - accuracy: 0.8417 - val_loss: 0.4239 - val_accuracy: 0.8318\n",
      "Epoch 13/50\n",
      "133/133 [==============================] - 573s 4s/step - loss: 0.3354 - accuracy: 0.8439 - val_loss: 0.4642 - val_accuracy: 0.8149\n",
      "Epoch 14/50\n",
      "133/133 [==============================] - 576s 4s/step - loss: 0.3269 - accuracy: 0.8556 - val_loss: 0.4768 - val_accuracy: 0.7984\n",
      "Epoch 15/50\n",
      "133/133 [==============================] - 573s 4s/step - loss: 0.3020 - accuracy: 0.8694 - val_loss: 0.4927 - val_accuracy: 0.8041\n",
      "Epoch 16/50\n",
      "133/133 [==============================] - 573s 4s/step - loss: 0.2782 - accuracy: 0.8767 - val_loss: 0.5480 - val_accuracy: 0.7810\n",
      "Epoch 17/50\n",
      "133/133 [==============================] - 573s 4s/step - loss: 0.2961 - accuracy: 0.8725 - val_loss: 0.5358 - val_accuracy: 0.8012\n",
      "Epoch 18/50\n",
      "133/133 [==============================] - 572s 4s/step - loss: 0.2643 - accuracy: 0.8861 - val_loss: 0.5355 - val_accuracy: 0.7979\n",
      "Epoch 19/50\n",
      "133/133 [==============================] - 572s 4s/step - loss: 0.2375 - accuracy: 0.8994 - val_loss: 0.5047 - val_accuracy: 0.8003\n",
      "Epoch 20/50\n",
      "133/133 [==============================] - 572s 4s/step - loss: 0.2401 - accuracy: 0.9009 - val_loss: 0.5294 - val_accuracy: 0.8036\n",
      "Epoch 21/50\n",
      "133/133 [==============================] - 573s 4s/step - loss: 0.2184 - accuracy: 0.9110 - val_loss: 0.6223 - val_accuracy: 0.7885\n",
      "Epoch 22/50\n",
      "133/133 [==============================] - 572s 4s/step - loss: 0.1975 - accuracy: 0.9191 - val_loss: 0.6582 - val_accuracy: 0.7777\n",
      "Epoch 23/50\n",
      "133/133 [==============================] - 572s 4s/step - loss: 0.1628 - accuracy: 0.9374 - val_loss: 0.6997 - val_accuracy: 0.7866\n",
      "Epoch 24/50\n",
      "133/133 [==============================] - 573s 4s/step - loss: 0.1521 - accuracy: 0.9412 - val_loss: 0.6868 - val_accuracy: 0.7796\n",
      "Epoch 25/50\n",
      "133/133 [==============================] - 573s 4s/step - loss: 0.1529 - accuracy: 0.9361 - val_loss: 0.7529 - val_accuracy: 0.7772\n",
      "Epoch 26/50\n",
      "133/133 [==============================] - 572s 4s/step - loss: 0.1574 - accuracy: 0.9470 - val_loss: 0.8146 - val_accuracy: 0.7880\n",
      "Epoch 27/50\n",
      "133/133 [==============================] - 572s 4s/step - loss: 0.1111 - accuracy: 0.9579 - val_loss: 0.7958 - val_accuracy: 0.7791\n",
      "Epoch 28/50\n",
      "133/133 [==============================] - 577s 4s/step - loss: 0.1087 - accuracy: 0.9615 - val_loss: 0.9257 - val_accuracy: 0.7650\n",
      "Epoch 29/50\n",
      "133/133 [==============================] - 572s 4s/step - loss: 0.0879 - accuracy: 0.9692 - val_loss: 1.0250 - val_accuracy: 0.7645\n",
      "Epoch 30/50\n",
      "133/133 [==============================] - 572s 4s/step - loss: 0.0880 - accuracy: 0.9691 - val_loss: 1.0729 - val_accuracy: 0.7678\n",
      "Epoch 31/50\n",
      "133/133 [==============================] - 573s 4s/step - loss: 0.0745 - accuracy: 0.9763 - val_loss: 1.1185 - val_accuracy: 0.7593\n",
      "Epoch 32/50\n",
      "133/133 [==============================] - 573s 4s/step - loss: 0.0576 - accuracy: 0.9827 - val_loss: 1.2192 - val_accuracy: 0.7701\n",
      "Epoch 33/50\n",
      "133/133 [==============================] - 575s 4s/step - loss: 0.0678 - accuracy: 0.9775 - val_loss: 1.1587 - val_accuracy: 0.7753\n",
      "Epoch 34/50\n",
      "133/133 [==============================] - 574s 4s/step - loss: 0.0462 - accuracy: 0.9880 - val_loss: 1.3051 - val_accuracy: 0.7640\n",
      "Epoch 35/50\n",
      "133/133 [==============================] - 574s 4s/step - loss: 0.0511 - accuracy: 0.9844 - val_loss: 1.3769 - val_accuracy: 0.7659\n",
      "Epoch 36/50\n",
      "133/133 [==============================] - 574s 4s/step - loss: 0.0351 - accuracy: 0.9926 - val_loss: 1.4719 - val_accuracy: 0.7645\n",
      "Epoch 37/50\n",
      "133/133 [==============================] - 574s 4s/step - loss: 0.0386 - accuracy: 0.9882 - val_loss: 1.4838 - val_accuracy: 0.7650\n",
      "Epoch 38/50\n",
      "133/133 [==============================] - 575s 4s/step - loss: 0.0276 - accuracy: 0.9941 - val_loss: 1.6904 - val_accuracy: 0.7631\n",
      "Epoch 39/50\n",
      "133/133 [==============================] - 574s 4s/step - loss: 0.0245 - accuracy: 0.9934 - val_loss: 1.3719 - val_accuracy: 0.7574\n",
      "Epoch 40/50\n",
      "133/133 [==============================] - 573s 4s/step - loss: 0.0817 - accuracy: 0.9687 - val_loss: 1.6302 - val_accuracy: 0.7640\n",
      "Epoch 41/50\n",
      "133/133 [==============================] - 573s 4s/step - loss: 0.0274 - accuracy: 0.9925 - val_loss: 1.6274 - val_accuracy: 0.7551\n",
      "Epoch 42/50\n",
      "133/133 [==============================] - 574s 4s/step - loss: 0.0147 - accuracy: 0.9977 - val_loss: 1.7400 - val_accuracy: 0.7645\n",
      "Epoch 43/50\n",
      "133/133 [==============================] - 575s 4s/step - loss: 0.0094 - accuracy: 0.9990 - val_loss: 1.8022 - val_accuracy: 0.7635\n",
      "Epoch 44/50\n",
      "133/133 [==============================] - 575s 4s/step - loss: 0.0067 - accuracy: 0.9995 - val_loss: 1.9004 - val_accuracy: 0.7631\n",
      "Epoch 45/50\n",
      "133/133 [==============================] - 574s 4s/step - loss: 0.0049 - accuracy: 1.0000 - val_loss: 1.9909 - val_accuracy: 0.7546\n",
      "Epoch 46/50\n",
      "133/133 [==============================] - 575s 4s/step - loss: 0.0042 - accuracy: 1.0000 - val_loss: 1.9924 - val_accuracy: 0.7607\n",
      "Epoch 47/50\n",
      "133/133 [==============================] - 576s 4s/step - loss: 0.0033 - accuracy: 1.0000 - val_loss: 2.1017 - val_accuracy: 0.7593\n",
      "Epoch 48/50\n",
      "133/133 [==============================] - 575s 4s/step - loss: 0.0025 - accuracy: 1.0000 - val_loss: 2.1260 - val_accuracy: 0.7593\n",
      "Epoch 49/50\n",
      "133/133 [==============================] - 574s 4s/step - loss: 0.0021 - accuracy: 1.0000 - val_loss: 2.1462 - val_accuracy: 0.7621\n",
      "Epoch 50/50\n",
      "133/133 [==============================] - 574s 4s/step - loss: 0.0023 - accuracy: 1.0000 - val_loss: 2.2170 - val_accuracy: 0.7617\n"
     ]
    }
   ],
   "source": [
    "history = model.fit(\n",
    "    train_generator,\n",
    "    validation_data = validation_generator,\n",
    "    batch_size=4,\n",
    "    epochs = 50)"
   ]
  },
  {
   "cell_type": "code",
   "execution_count": 34,
   "id": "17b8a447",
   "metadata": {},
   "outputs": [],
   "source": [
    "def plot_training(history, metrics: list = ('loss',), figsize: tuple = (12, 5)):\n",
    "    \"\"\"\n",
    "    plots training selected metrics for every batch\n",
    "    \"\"\"\n",
    "    epochs = range(1, len(history.history[metrics[0]]) + 1)\n",
    "\n",
    "    fig, ax_arr = plt.subplots(1, len(metrics), figsize=figsize)\n",
    "\n",
    "    if not isinstance(ax_arr, np.ndarray):\n",
    "        ax_arr = np.array(ax_arr).reshape(1, )\n",
    "\n",
    "    for i, metric in enumerate(metrics):\n",
    "        ax_arr[i].plot(epochs, history.history[metric], color='k', linestyle='solid', label=metric, linewidth=2)\n",
    "        ax_arr[i].plot(epochs, history.history[f\"val_{metric}\"], color='r', linestyle='dotted',\n",
    "                       label=f'validation {metric}')\n",
    "        ax_arr[i].set_ylabel(metric)\n",
    "        ax_arr[i].set_xlabel('epochs')\n",
    "        ax_arr[i].grid()\n",
    "        ax_arr[i].legend()\n",
    "    plt.show()"
   ]
  },
  {
   "cell_type": "code",
   "execution_count": 35,
   "id": "605d5b0e",
   "metadata": {},
   "outputs": [
    {
     "data": {
      "image/png": "[encoded data removed]",
      "text/plain": [
       "<Figure size 864x360 with 2 Axes>"
      ]
     },
     "metadata": {
      "needs_background": "light"
     },
     "output_type": "display_data"
    }
   ],
   "source": [
    "plot_training(history, metrics=['loss', 'accuracy'])"
   ]
  },
  {
   "cell_type": "code",
   "execution_count": 37,
   "id": "ec79f8e4",
   "metadata": {},
   "outputs": [],
   "source": [
    "model_name = \"first_model\"\n",
    "model.save(os.path.join(\"model/\", f\"{model_name}.h5\"))"
   ]
  },
  {
   "cell_type": "markdown",
   "id": "14172d28",
   "metadata": {},
   "source": [
    "# Model Prediction"
   ]
  },
  {
   "cell_type": "code",
   "execution_count": 38,
   "id": "58001c2c",
   "metadata": {},
   "outputs": [
    {
     "data": {
      "text/plain": [
       "'0005f7aaab2800f6170c399693a96917.tiff'"
      ]
     },
     "execution_count": 38,
     "metadata": {},
     "output_type": "execute_result"
    }
   ],
   "source": [
    "img_id = os.listdir('predict/')\n",
    "img_id[0]"
   ]
  },
  {
   "cell_type": "code",
   "execution_count": 40,
   "id": "66786740",
   "metadata": {},
   "outputs": [],
   "source": [
    "def image_predict_convert():\n",
    "    img_id = os.listdir('predict/')\n",
    "    load_path = 'predict/' + img_id[0]\n",
    "    save_path = 'predict/png_converted/' + 'predict.png'\n",
    "    \n",
    "    biopsy = skimage.io.MultiImage(load_path)\n",
    "    img = cv2.resize(biopsy[-1], (0,0), fx = 0.1, fy = 0.1)\n",
    "    cv2.imwrite(save_path, img)\n",
    "    \n",
    "image_predict_convert()\n",
    "\n"
   ]
  },
  {
   "cell_type": "code",
   "execution_count": 41,
   "id": "e7bcb406",
   "metadata": {},
   "outputs": [],
   "source": [
    "model_name = 'first_model'\n",
    "model = tf.keras.models.load_model(os.path.join('model/', f\"{model_name}.h5\"))"
   ]
  },
  {
   "cell_type": "code",
   "execution_count": 44,
   "id": "e7ec93fc",
   "metadata": {},
   "outputs": [],
   "source": [
    "def prediction(model, image_path, categories, pixels=258):\n",
    "    \"\"\"\n",
    "    Analyses new cell images given a loaded or just trained model\n",
    "    :param model: Model to use\n",
    "    :param image_path: Image to analyse\n",
    "    :param categories: List. Defined previously\n",
    "    :param pixels: Image dimension. Default 130\n",
    "    :return: Shows up the original cell image with a caption, Parasitized or Uninfected\n",
    "    \"\"\"\n",
    "    try:\n",
    "        img = cv2.imread(image_path)\n",
    "        resized_img = cv2.resize(img, (pixels, pixels))\n",
    "    except Exception as e:\n",
    "        print(f\"Error reading file {image_path}\")\n",
    "        exit()\n",
    "\n",
    "    to_predict = np.array(resized_img).reshape(-1, pixels, pixels, 3)  # 1 grayscale, 3 colored images\n",
    "    y = model.predict(to_predict)\n",
    "\n",
    "    # Display results\n",
    "    result = categories[int(y[0][0])]\n",
    "\n",
    "    fig, ax = plt.subplots()\n",
    "    label_font = {\"fontname\": \"Arial\", \"fontsize\": 9}\n",
    "    plt.imshow(img)\n",
    "    fig.suptitle(result, fontsize=20)\n",
    "    ax.set_title(image_path, fontdict=label_font)"
   ]
  },
  {
   "cell_type": "code",
   "execution_count": 46,
   "id": "05a30d8a",
   "metadata": {},
   "outputs": [
    {
     "data": {
      "image/png": "[encoded data removed]",
      "text/plain": [
       "<Figure size 432x288 with 1 Axes>"
      ]
     },
     "metadata": {
      "needs_background": "light"
     },
     "output_type": "display_data"
    }
   ],
   "source": [
    "CATEGORIES = ['Benign', 'Malign']\n",
    "prediction(model,image_path= 'predict/png_converted/predict.png', categories = CATEGORIES)"
   ]
  },
  {
   "cell_type": "code",
   "execution_count": null,
   "id": "80a2f511",
   "metadata": {},
   "outputs": [],
   "source": []
  },
  {
   "cell_type": "code",
   "execution_count": null,
   "id": "3cf26c7b",
   "metadata": {},
   "outputs": [],
   "source": []
  },
  {
   "cell_type": "code",
   "execution_count": null,
   "id": "f3fdfa1a",
   "metadata": {},
   "outputs": [],
   "source": []
  },
  {
   "cell_type": "code",
   "execution_count": 54,
   "id": "693844d5",
   "metadata": {},
   "outputs": [],
   "source": [
    "# test_loss, test_accuracy = model.evaluate(X_test, y_test)"
   ]
  },
  {
   "cell_type": "code",
   "execution_count": null,
   "id": "519130ff",
   "metadata": {},
   "outputs": [],
   "source": [
    "# Same for label masks \n",
    "# data_masks_dir = \"train_label_masks/\""
   ]
  },
  {
   "cell_type": "code",
   "execution_count": null,
   "id": "02dae50d",
   "metadata": {},
   "outputs": [],
   "source": [
    "# save_mask_dir = \"png_masks/\"\n",
    "# os.makedirs(save_maks_dir, exist_ok=True)\n",
    "\n",
    "# mask_files = os.listdir(data_masks_dir)"
   ]
  },
  {
   "cell_type": "code",
   "execution_count": null,
   "id": "c5aa10c6",
   "metadata": {},
   "outputs": [],
   "source": [
    "# for mask_file in tqdm(mask_files):\n",
    "#     load_path = data_masks_dir + mask_file\n",
    "#     save_path = save_mask_dir + mask_file.replace('.tiff', '.png')\n",
    "    \n",
    "#     mask = skimage.io.MultiImage(load_path)\n",
    "#     img = cv2.resize(mask[-1], (512, 512))\n",
    "#     cv2.imwrite(save_path, img)"
   ]
  },
  {
   "cell_type": "code",
   "execution_count": null,
   "id": "84450e89",
   "metadata": {},
   "outputs": [],
   "source": [
    "import pandas as pd\n",
    "import numpy as np\n",
    "from tqdm.notebook import tqdm\n",
    "import skimage.io\n",
    "from skimage.transform import resize, rescale\n",
    "import cv2\n",
    "from PIL import Imag\n",
    "\n",
    "def load_csv(path, name):\n",
    "    \"\"\"\n",
    "    Load the main csv where the information about each image is stored (id, scores...)\n",
    "    :param path: path where the csv is located\n",
    "    :param name: desired name to be placed to the dataframe\n",
    "    :return: a Pandas Dataframe\n",
    "    \"\"\"\n",
    "    name = pd.read_csv(path)\n",
    "    return name\n",
    "\n",
    "def transform_images(load_path, save_path, csv_name, format = '.png'):\n",
    "    \"\"\"\n",
    "    Transform the images from their original format and shape into an easier format to work with.\n",
    "    Also, the sizes of the images will be reduced to 10% their original size.\n",
    "    :param load_path:\n",
    "    :param save_path:\n",
    "    :param csv_name:\n",
    "    :param format:\n",
    "    :return:\n",
    "    \"\"\"\n",
    "     for img_id in tqdm(csv_name.image_id):\n",
    "         load_path = data_dir + img_id + '.tiff'\n",
    "         save_path = save_dir + img_id + format\n",
    "\n",
    "         biopsy = skimage.io.MultiImage(load_path)\n",
    "         img = cv2.resize(biopsy[-1], (0,0), fx = 0.1, fy = 0.1)\n",
    "         cv2.imwrite(save_path, img)\n",
    "\n"
   ]
  }
 ],
 "metadata": {
  "kernelspec": {
   "display_name": "prostate",
   "language": "python",
   "name": "prostate"
  },
  "language_info": {
   "codemirror_mode": {
    "name": "ipython",
    "version": 3
   },
   "file_extension": ".py",
   "mimetype": "text/x-python",
   "name": "python",
   "nbconvert_exporter": "python",
   "pygments_lexer": "ipython3",
   "version": "3.8.8"
  }
 },
 "nbformat": 4,
 "nbformat_minor": 5
}
