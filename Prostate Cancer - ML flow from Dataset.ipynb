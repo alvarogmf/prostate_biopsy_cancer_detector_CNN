{
 "cells": [
  {
   "cell_type": "markdown",
   "id": "deb10cfa",
   "metadata": {},
   "source": [
    "# Biopsy Prostate Cancer Detection - ML"
   ]
  },
  {
   "cell_type": "markdown",
   "id": "85cf3691",
   "metadata": {},
   "source": [
    "Data in the CSV files:\n",
    "\n",
    "- **image_id:** ID code for the image.\n",
    "\n",
    "- **data_provider:** The name of the institution that provided the data. Both the Karolinska Institute and Radboud University Medical Center contributed data. They used different scanners with slightly different maximum microscope resolutions and worked with different pathologists for labeling their images.\n",
    "\n",
    "- **isup_grade:** Train only. The target variable. The severity of the cancer on a 0-5 scale.\n",
    "\n",
    "- **gleason_score:** Train only. An alternate cancer severity rating system with more levels than the ISUP scale. For details on how the gleason and ISUP systems compare, see the Additional Resources tab."
   ]
  },
  {
   "cell_type": "markdown",
   "id": "4b764ce0",
   "metadata": {},
   "source": [
    "There are two different data providers that clasify the grade of the tumour differently:\n",
    "\n",
    "**Radboud:** Prostate glands are individually labelled. Valid values are:\n",
    "- 0: background (non tissue) or unknown\n",
    "- 1: stroma (connective tissue, non-epithelium tissue)\n",
    "- 2: healthy (benign) epithelium\n",
    "- 3: cancerous epithelium (Gleason 3)\n",
    "- 4: cancerous epithelium (Gleason 4)\n",
    "- 5: cancerous epithelium (Gleason 5)\n",
    "\n",
    "**Karolinska:** Regions are labelled. Valid values are:\n",
    "- 0: background (non tissue) or unknown\n",
    "- 1: benign tissue (stroma and epithelium combined)\n",
    "- 2: cancerous tissue (stroma and epithelium combined)"
   ]
  },
  {
   "cell_type": "code",
   "execution_count": 1,
   "id": "20b8dc6c",
   "metadata": {},
   "outputs": [],
   "source": [
    "import pandas as pd\n",
    "import numpy as np\n",
    "import matplotlib\n",
    "import matplotlib.pyplot as plt\n",
    "from tqdm.notebook import tqdm\n",
    "import os\n",
    "import skimage.io\n",
    "from skimage.transform import resize, rescale\n",
    "import cv2\n",
    "from PIL import Image\n",
    "import imagecodecs\n",
    "import random\n",
    "import matplotlib.image as mpimg\n",
    "import tensorflow as tf\n",
    "from sklearn.model_selection import train_test_split\n",
    "from keras_preprocessing.image import ImageDataGenerator"
   ]
  },
  {
   "cell_type": "code",
   "execution_count": 2,
   "id": "51e1c231",
   "metadata": {},
   "outputs": [
    {
     "data": {
      "text/html": [
       "<div>\n",
       "<style scoped>\n",
       "    .dataframe tbody tr th:only-of-type {\n",
       "        vertical-align: middle;\n",
       "    }\n",
       "\n",
       "    .dataframe tbody tr th {\n",
       "        vertical-align: top;\n",
       "    }\n",
       "\n",
       "    .dataframe thead th {\n",
       "        text-align: right;\n",
       "    }\n",
       "</style>\n",
       "<table border=\"1\" class=\"dataframe\">\n",
       "  <thead>\n",
       "    <tr style=\"text-align: right;\">\n",
       "      <th></th>\n",
       "      <th>image_id</th>\n",
       "      <th>data_provider</th>\n",
       "      <th>isup_grade</th>\n",
       "      <th>gleason_score</th>\n",
       "    </tr>\n",
       "  </thead>\n",
       "  <tbody>\n",
       "    <tr>\n",
       "      <th>0</th>\n",
       "      <td>0005f7aaab2800f6170c399693a96917</td>\n",
       "      <td>karolinska</td>\n",
       "      <td>0</td>\n",
       "      <td>0+0</td>\n",
       "    </tr>\n",
       "    <tr>\n",
       "      <th>1</th>\n",
       "      <td>000920ad0b612851f8e01bcc880d9b3d</td>\n",
       "      <td>karolinska</td>\n",
       "      <td>0</td>\n",
       "      <td>0+0</td>\n",
       "    </tr>\n",
       "    <tr>\n",
       "      <th>2</th>\n",
       "      <td>0018ae58b01bdadc8e347995b69f99aa</td>\n",
       "      <td>radboud</td>\n",
       "      <td>4</td>\n",
       "      <td>4+4</td>\n",
       "    </tr>\n",
       "    <tr>\n",
       "      <th>3</th>\n",
       "      <td>001c62abd11fa4b57bf7a6c603a11bb9</td>\n",
       "      <td>karolinska</td>\n",
       "      <td>4</td>\n",
       "      <td>4+4</td>\n",
       "    </tr>\n",
       "    <tr>\n",
       "      <th>4</th>\n",
       "      <td>001d865e65ef5d2579c190a0e0350d8f</td>\n",
       "      <td>karolinska</td>\n",
       "      <td>0</td>\n",
       "      <td>0+0</td>\n",
       "    </tr>\n",
       "  </tbody>\n",
       "</table>\n",
       "</div>"
      ],
      "text/plain": [
       "                           image_id data_provider  isup_grade gleason_score\n",
       "0  0005f7aaab2800f6170c399693a96917    karolinska           0           0+0\n",
       "1  000920ad0b612851f8e01bcc880d9b3d    karolinska           0           0+0\n",
       "2  0018ae58b01bdadc8e347995b69f99aa       radboud           4           4+4\n",
       "3  001c62abd11fa4b57bf7a6c603a11bb9    karolinska           4           4+4\n",
       "4  001d865e65ef5d2579c190a0e0350d8f    karolinska           0           0+0"
      ]
     },
     "execution_count": 2,
     "metadata": {},
     "output_type": "execute_result"
    }
   ],
   "source": [
    "train_csv = pd.read_csv('train.csv')\n",
    "\n",
    "train_csv.head()"
   ]
  },
  {
   "cell_type": "code",
   "execution_count": 3,
   "id": "d7fd869b",
   "metadata": {},
   "outputs": [
    {
     "data": {
      "text/plain": [
       "image_id         0\n",
       "data_provider    0\n",
       "isup_grade       0\n",
       "gleason_score    0\n",
       "dtype: int64"
      ]
     },
     "execution_count": 3,
     "metadata": {},
     "output_type": "execute_result"
    }
   ],
   "source": [
    "train_csv.isna().sum()"
   ]
  },
  {
   "cell_type": "code",
   "execution_count": 4,
   "id": "3066658b",
   "metadata": {},
   "outputs": [
    {
     "data": {
      "text/plain": [
       "3+3         2666\n",
       "0+0         1925\n",
       "3+4         1342\n",
       "4+3         1243\n",
       "4+4         1126\n",
       "negative     967\n",
       "4+5          849\n",
       "5+4          248\n",
       "5+5          127\n",
       "3+5           80\n",
       "5+3           43\n",
       "Name: gleason_score, dtype: int64"
      ]
     },
     "execution_count": 4,
     "metadata": {},
     "output_type": "execute_result"
    }
   ],
   "source": [
    "train_csv['gleason_score'].value_counts()"
   ]
  },
  {
   "cell_type": "code",
   "execution_count": 5,
   "id": "6077129e",
   "metadata": {},
   "outputs": [
    {
     "data": {
      "text/plain": [
       "karolinska    5456\n",
       "radboud       5160\n",
       "Name: data_provider, dtype: int64"
      ]
     },
     "execution_count": 5,
     "metadata": {},
     "output_type": "execute_result"
    }
   ],
   "source": [
    "train_csv['data_provider'].value_counts()"
   ]
  },
  {
   "cell_type": "code",
   "execution_count": 6,
   "id": "6227f759",
   "metadata": {},
   "outputs": [
    {
     "data": {
      "text/plain": [
       "0    2892\n",
       "1    2666\n",
       "2    1343\n",
       "4    1249\n",
       "3    1242\n",
       "5    1224\n",
       "Name: isup_grade, dtype: int64"
      ]
     },
     "execution_count": 6,
     "metadata": {},
     "output_type": "execute_result"
    }
   ],
   "source": [
    "train_csv['isup_grade'].value_counts()"
   ]
  },
  {
   "cell_type": "markdown",
   "id": "012b4b70",
   "metadata": {},
   "source": [
    "##### Data in the train CSV seems to be very clean, with same number of rows for each data provider and high number of cases for each isup_grade. "
   ]
  },
  {
   "cell_type": "code",
   "execution_count": 7,
   "id": "72fa771a",
   "metadata": {},
   "outputs": [],
   "source": [
    "train_clean = pd.DataFrame()"
   ]
  },
  {
   "cell_type": "code",
   "execution_count": 8,
   "id": "04d09798",
   "metadata": {},
   "outputs": [],
   "source": [
    "train_csv['path'] = train_csv['image_id'] +'.png'"
   ]
  },
  {
   "cell_type": "code",
   "execution_count": 9,
   "id": "018a246f",
   "metadata": {},
   "outputs": [
    {
     "data": {
      "text/html": [
       "<div>\n",
       "<style scoped>\n",
       "    .dataframe tbody tr th:only-of-type {\n",
       "        vertical-align: middle;\n",
       "    }\n",
       "\n",
       "    .dataframe tbody tr th {\n",
       "        vertical-align: top;\n",
       "    }\n",
       "\n",
       "    .dataframe thead th {\n",
       "        text-align: right;\n",
       "    }\n",
       "</style>\n",
       "<table border=\"1\" class=\"dataframe\">\n",
       "  <thead>\n",
       "    <tr style=\"text-align: right;\">\n",
       "      <th></th>\n",
       "      <th>image_id</th>\n",
       "      <th>data_provider</th>\n",
       "      <th>isup_grade</th>\n",
       "      <th>gleason_score</th>\n",
       "      <th>path</th>\n",
       "    </tr>\n",
       "  </thead>\n",
       "  <tbody>\n",
       "    <tr>\n",
       "      <th>0</th>\n",
       "      <td>0005f7aaab2800f6170c399693a96917</td>\n",
       "      <td>karolinska</td>\n",
       "      <td>0</td>\n",
       "      <td>0+0</td>\n",
       "      <td>0005f7aaab2800f6170c399693a96917.png</td>\n",
       "    </tr>\n",
       "    <tr>\n",
       "      <th>1</th>\n",
       "      <td>000920ad0b612851f8e01bcc880d9b3d</td>\n",
       "      <td>karolinska</td>\n",
       "      <td>0</td>\n",
       "      <td>0+0</td>\n",
       "      <td>000920ad0b612851f8e01bcc880d9b3d.png</td>\n",
       "    </tr>\n",
       "    <tr>\n",
       "      <th>2</th>\n",
       "      <td>0018ae58b01bdadc8e347995b69f99aa</td>\n",
       "      <td>radboud</td>\n",
       "      <td>4</td>\n",
       "      <td>4+4</td>\n",
       "      <td>0018ae58b01bdadc8e347995b69f99aa.png</td>\n",
       "    </tr>\n",
       "    <tr>\n",
       "      <th>3</th>\n",
       "      <td>001c62abd11fa4b57bf7a6c603a11bb9</td>\n",
       "      <td>karolinska</td>\n",
       "      <td>4</td>\n",
       "      <td>4+4</td>\n",
       "      <td>001c62abd11fa4b57bf7a6c603a11bb9.png</td>\n",
       "    </tr>\n",
       "    <tr>\n",
       "      <th>4</th>\n",
       "      <td>001d865e65ef5d2579c190a0e0350d8f</td>\n",
       "      <td>karolinska</td>\n",
       "      <td>0</td>\n",
       "      <td>0+0</td>\n",
       "      <td>001d865e65ef5d2579c190a0e0350d8f.png</td>\n",
       "    </tr>\n",
       "  </tbody>\n",
       "</table>\n",
       "</div>"
      ],
      "text/plain": [
       "                           image_id data_provider  isup_grade gleason_score  \\\n",
       "0  0005f7aaab2800f6170c399693a96917    karolinska           0           0+0   \n",
       "1  000920ad0b612851f8e01bcc880d9b3d    karolinska           0           0+0   \n",
       "2  0018ae58b01bdadc8e347995b69f99aa       radboud           4           4+4   \n",
       "3  001c62abd11fa4b57bf7a6c603a11bb9    karolinska           4           4+4   \n",
       "4  001d865e65ef5d2579c190a0e0350d8f    karolinska           0           0+0   \n",
       "\n",
       "                                   path  \n",
       "0  0005f7aaab2800f6170c399693a96917.png  \n",
       "1  000920ad0b612851f8e01bcc880d9b3d.png  \n",
       "2  0018ae58b01bdadc8e347995b69f99aa.png  \n",
       "3  001c62abd11fa4b57bf7a6c603a11bb9.png  \n",
       "4  001d865e65ef5d2579c190a0e0350d8f.png  "
      ]
     },
     "execution_count": 9,
     "metadata": {},
     "output_type": "execute_result"
    }
   ],
   "source": [
    "train_csv.head()"
   ]
  },
  {
   "cell_type": "code",
   "execution_count": 10,
   "id": "8814dc3a",
   "metadata": {},
   "outputs": [],
   "source": [
    "train_csv['binary_score'] = np.where(\n",
    "    (train_csv['data_provider'] == 'karolinska') & (train_csv['isup_grade'] < 3), 'benigno', \n",
    "    np.where((train_csv['data_provider'] == 'radboud') & (train_csv['isup_grade'] < 1), 'benigno' , \n",
    "    'maligno'))"
   ]
  },
  {
   "cell_type": "code",
   "execution_count": 11,
   "id": "698fc73b",
   "metadata": {},
   "outputs": [
    {
     "data": {
      "text/html": [
       "<div>\n",
       "<style scoped>\n",
       "    .dataframe tbody tr th:only-of-type {\n",
       "        vertical-align: middle;\n",
       "    }\n",
       "\n",
       "    .dataframe tbody tr th {\n",
       "        vertical-align: top;\n",
       "    }\n",
       "\n",
       "    .dataframe thead th {\n",
       "        text-align: right;\n",
       "    }\n",
       "</style>\n",
       "<table border=\"1\" class=\"dataframe\">\n",
       "  <thead>\n",
       "    <tr style=\"text-align: right;\">\n",
       "      <th></th>\n",
       "      <th>image_id</th>\n",
       "      <th>data_provider</th>\n",
       "      <th>isup_grade</th>\n",
       "      <th>gleason_score</th>\n",
       "      <th>path</th>\n",
       "      <th>binary_score</th>\n",
       "    </tr>\n",
       "  </thead>\n",
       "  <tbody>\n",
       "    <tr>\n",
       "      <th>0</th>\n",
       "      <td>0005f7aaab2800f6170c399693a96917</td>\n",
       "      <td>karolinska</td>\n",
       "      <td>0</td>\n",
       "      <td>0+0</td>\n",
       "      <td>0005f7aaab2800f6170c399693a96917.png</td>\n",
       "      <td>benigno</td>\n",
       "    </tr>\n",
       "    <tr>\n",
       "      <th>1</th>\n",
       "      <td>000920ad0b612851f8e01bcc880d9b3d</td>\n",
       "      <td>karolinska</td>\n",
       "      <td>0</td>\n",
       "      <td>0+0</td>\n",
       "      <td>000920ad0b612851f8e01bcc880d9b3d.png</td>\n",
       "      <td>benigno</td>\n",
       "    </tr>\n",
       "    <tr>\n",
       "      <th>2</th>\n",
       "      <td>0018ae58b01bdadc8e347995b69f99aa</td>\n",
       "      <td>radboud</td>\n",
       "      <td>4</td>\n",
       "      <td>4+4</td>\n",
       "      <td>0018ae58b01bdadc8e347995b69f99aa.png</td>\n",
       "      <td>maligno</td>\n",
       "    </tr>\n",
       "    <tr>\n",
       "      <th>3</th>\n",
       "      <td>001c62abd11fa4b57bf7a6c603a11bb9</td>\n",
       "      <td>karolinska</td>\n",
       "      <td>4</td>\n",
       "      <td>4+4</td>\n",
       "      <td>001c62abd11fa4b57bf7a6c603a11bb9.png</td>\n",
       "      <td>maligno</td>\n",
       "    </tr>\n",
       "    <tr>\n",
       "      <th>4</th>\n",
       "      <td>001d865e65ef5d2579c190a0e0350d8f</td>\n",
       "      <td>karolinska</td>\n",
       "      <td>0</td>\n",
       "      <td>0+0</td>\n",
       "      <td>001d865e65ef5d2579c190a0e0350d8f.png</td>\n",
       "      <td>benigno</td>\n",
       "    </tr>\n",
       "  </tbody>\n",
       "</table>\n",
       "</div>"
      ],
      "text/plain": [
       "                           image_id data_provider  isup_grade gleason_score  \\\n",
       "0  0005f7aaab2800f6170c399693a96917    karolinska           0           0+0   \n",
       "1  000920ad0b612851f8e01bcc880d9b3d    karolinska           0           0+0   \n",
       "2  0018ae58b01bdadc8e347995b69f99aa       radboud           4           4+4   \n",
       "3  001c62abd11fa4b57bf7a6c603a11bb9    karolinska           4           4+4   \n",
       "4  001d865e65ef5d2579c190a0e0350d8f    karolinska           0           0+0   \n",
       "\n",
       "                                   path binary_score  \n",
       "0  0005f7aaab2800f6170c399693a96917.png      benigno  \n",
       "1  000920ad0b612851f8e01bcc880d9b3d.png      benigno  \n",
       "2  0018ae58b01bdadc8e347995b69f99aa.png      maligno  \n",
       "3  001c62abd11fa4b57bf7a6c603a11bb9.png      maligno  \n",
       "4  001d865e65ef5d2579c190a0e0350d8f.png      benigno  "
      ]
     },
     "execution_count": 11,
     "metadata": {},
     "output_type": "execute_result"
    }
   ],
   "source": [
    "train_csv.head()"
   ]
  },
  {
   "cell_type": "code",
   "execution_count": 12,
   "id": "59c28902",
   "metadata": {
    "scrolled": true
   },
   "outputs": [
    {
     "data": {
      "text/html": [
       "<div>\n",
       "<style scoped>\n",
       "    .dataframe tbody tr th:only-of-type {\n",
       "        vertical-align: middle;\n",
       "    }\n",
       "\n",
       "    .dataframe tbody tr th {\n",
       "        vertical-align: top;\n",
       "    }\n",
       "\n",
       "    .dataframe thead th {\n",
       "        text-align: right;\n",
       "    }\n",
       "</style>\n",
       "<table border=\"1\" class=\"dataframe\">\n",
       "  <thead>\n",
       "    <tr style=\"text-align: right;\">\n",
       "      <th></th>\n",
       "      <th>path</th>\n",
       "      <th>binary_score</th>\n",
       "    </tr>\n",
       "  </thead>\n",
       "  <tbody>\n",
       "    <tr>\n",
       "      <th>0</th>\n",
       "      <td>0005f7aaab2800f6170c399693a96917.png</td>\n",
       "      <td>benigno</td>\n",
       "    </tr>\n",
       "    <tr>\n",
       "      <th>1</th>\n",
       "      <td>000920ad0b612851f8e01bcc880d9b3d.png</td>\n",
       "      <td>benigno</td>\n",
       "    </tr>\n",
       "    <tr>\n",
       "      <th>2</th>\n",
       "      <td>0018ae58b01bdadc8e347995b69f99aa.png</td>\n",
       "      <td>maligno</td>\n",
       "    </tr>\n",
       "    <tr>\n",
       "      <th>3</th>\n",
       "      <td>001c62abd11fa4b57bf7a6c603a11bb9.png</td>\n",
       "      <td>maligno</td>\n",
       "    </tr>\n",
       "    <tr>\n",
       "      <th>4</th>\n",
       "      <td>001d865e65ef5d2579c190a0e0350d8f.png</td>\n",
       "      <td>benigno</td>\n",
       "    </tr>\n",
       "  </tbody>\n",
       "</table>\n",
       "</div>"
      ],
      "text/plain": [
       "                                   path binary_score\n",
       "0  0005f7aaab2800f6170c399693a96917.png      benigno\n",
       "1  000920ad0b612851f8e01bcc880d9b3d.png      benigno\n",
       "2  0018ae58b01bdadc8e347995b69f99aa.png      maligno\n",
       "3  001c62abd11fa4b57bf7a6c603a11bb9.png      maligno\n",
       "4  001d865e65ef5d2579c190a0e0350d8f.png      benigno"
      ]
     },
     "execution_count": 12,
     "metadata": {},
     "output_type": "execute_result"
    }
   ],
   "source": [
    "train_clean = pd.DataFrame(train_csv[['path', 'binary_score']])\n",
    "train_clean.head()"
   ]
  },
  {
   "cell_type": "code",
   "execution_count": 13,
   "id": "6fbd483b",
   "metadata": {},
   "outputs": [
    {
     "data": {
      "text/html": [
       "<div>\n",
       "<style scoped>\n",
       "    .dataframe tbody tr th:only-of-type {\n",
       "        vertical-align: middle;\n",
       "    }\n",
       "\n",
       "    .dataframe tbody tr th {\n",
       "        vertical-align: top;\n",
       "    }\n",
       "\n",
       "    .dataframe thead th {\n",
       "        text-align: right;\n",
       "    }\n",
       "</style>\n",
       "<table border=\"1\" class=\"dataframe\">\n",
       "  <thead>\n",
       "    <tr style=\"text-align: right;\">\n",
       "      <th></th>\n",
       "      <th>path</th>\n",
       "      <th>binary_score</th>\n",
       "    </tr>\n",
       "  </thead>\n",
       "  <tbody>\n",
       "    <tr>\n",
       "      <th>0</th>\n",
       "      <td>0005f7aaab2800f6170c399693a96917.png</td>\n",
       "      <td>benigno</td>\n",
       "    </tr>\n",
       "    <tr>\n",
       "      <th>1</th>\n",
       "      <td>000920ad0b612851f8e01bcc880d9b3d.png</td>\n",
       "      <td>benigno</td>\n",
       "    </tr>\n",
       "    <tr>\n",
       "      <th>2</th>\n",
       "      <td>0018ae58b01bdadc8e347995b69f99aa.png</td>\n",
       "      <td>maligno</td>\n",
       "    </tr>\n",
       "    <tr>\n",
       "      <th>3</th>\n",
       "      <td>001c62abd11fa4b57bf7a6c603a11bb9.png</td>\n",
       "      <td>maligno</td>\n",
       "    </tr>\n",
       "    <tr>\n",
       "      <th>4</th>\n",
       "      <td>001d865e65ef5d2579c190a0e0350d8f.png</td>\n",
       "      <td>benigno</td>\n",
       "    </tr>\n",
       "    <tr>\n",
       "      <th>...</th>\n",
       "      <td>...</td>\n",
       "      <td>...</td>\n",
       "    </tr>\n",
       "    <tr>\n",
       "      <th>995</th>\n",
       "      <td>1987d293a6345a3fdfd2accf524bc2d1.png</td>\n",
       "      <td>benigno</td>\n",
       "    </tr>\n",
       "    <tr>\n",
       "      <th>996</th>\n",
       "      <td>198fa06f052feedc1684e42829c137fc.png</td>\n",
       "      <td>maligno</td>\n",
       "    </tr>\n",
       "    <tr>\n",
       "      <th>997</th>\n",
       "      <td>1990f9eb40f798dcb50f7fad287c0e28.png</td>\n",
       "      <td>maligno</td>\n",
       "    </tr>\n",
       "    <tr>\n",
       "      <th>998</th>\n",
       "      <td>19929dc431ae4560780d6a92a8e9fd20.png</td>\n",
       "      <td>maligno</td>\n",
       "    </tr>\n",
       "    <tr>\n",
       "      <th>999</th>\n",
       "      <td>1995d7f1f42ad259aae1fc004fbc6360.png</td>\n",
       "      <td>maligno</td>\n",
       "    </tr>\n",
       "  </tbody>\n",
       "</table>\n",
       "<p>1000 rows × 2 columns</p>\n",
       "</div>"
      ],
      "text/plain": [
       "                                     path binary_score\n",
       "0    0005f7aaab2800f6170c399693a96917.png      benigno\n",
       "1    000920ad0b612851f8e01bcc880d9b3d.png      benigno\n",
       "2    0018ae58b01bdadc8e347995b69f99aa.png      maligno\n",
       "3    001c62abd11fa4b57bf7a6c603a11bb9.png      maligno\n",
       "4    001d865e65ef5d2579c190a0e0350d8f.png      benigno\n",
       "..                                    ...          ...\n",
       "995  1987d293a6345a3fdfd2accf524bc2d1.png      benigno\n",
       "996  198fa06f052feedc1684e42829c137fc.png      maligno\n",
       "997  1990f9eb40f798dcb50f7fad287c0e28.png      maligno\n",
       "998  19929dc431ae4560780d6a92a8e9fd20.png      maligno\n",
       "999  1995d7f1f42ad259aae1fc004fbc6360.png      maligno\n",
       "\n",
       "[1000 rows x 2 columns]"
      ]
     },
     "execution_count": 13,
     "metadata": {},
     "output_type": "execute_result"
    }
   ],
   "source": [
    "#this is for test purposes only\n",
    "train_clean_small = train_clean[:1000]\n",
    "train_clean_small"
   ]
  },
  {
   "cell_type": "markdown",
   "id": "e36f7a66",
   "metadata": {},
   "source": [
    "-------------------------------------------------------"
   ]
  },
  {
   "cell_type": "markdown",
   "id": "65e957ce",
   "metadata": {},
   "source": [
    "# Image treatment"
   ]
  },
  {
   "cell_type": "markdown",
   "id": "17261b45",
   "metadata": {},
   "source": [
    "These images are in a .tiff format, which is good for maintaining good quality in the images, but the size is too big fo be feasible to create a model (at least an initial one). I will transform these images into .png and also will convert them to have the same size (512x512), as they have a wide variety of sizes and forms."
   ]
  },
  {
   "cell_type": "code",
   "execution_count": 14,
   "id": "fb26b0b0",
   "metadata": {},
   "outputs": [],
   "source": [
    "# where are the images\n",
    "data_dir = \"train_images/\""
   ]
  },
  {
   "cell_type": "code",
   "execution_count": 15,
   "id": "5264123a",
   "metadata": {},
   "outputs": [],
   "source": [
    "# where will the converted images be stored, create the folder if it doesn't exist\n",
    "save_dir = \"png_images/\"\n",
    "os.makedirs(save_dir, exist_ok=True)"
   ]
  },
  {
   "cell_type": "code",
   "execution_count": 16,
   "id": "48d76e13",
   "metadata": {},
   "outputs": [],
   "source": [
    "# THIS HAS ALREADY BEEN DONE! No need to run it again and again. It converts the images.\n",
    "\n",
    "# for img_id in tqdm(train_csv.image_id):\n",
    "#     load_path = data_dir + img_id + '.tiff'\n",
    "#     save_path = save_dir + img_id + '.png'\n",
    "    \n",
    "#     biopsy = skimage.io.MultiImage(load_path)\n",
    "#     img = cv2.resize(biopsy[-1], (0,0), fx = 0.1, fy = 0.1)\n",
    "#     cv2.imwrite(save_path, img)"
   ]
  },
  {
   "cell_type": "code",
   "execution_count": 17,
   "id": "30df373c",
   "metadata": {},
   "outputs": [],
   "source": [
    "datagen = ImageDataGenerator(rescale=1./255.,validation_split=0.2)"
   ]
  },
  {
   "cell_type": "code",
   "execution_count": 18,
   "id": "5b0d576c",
   "metadata": {},
   "outputs": [
    {
     "name": "stdout",
     "output_type": "stream",
     "text": [
      "Found 800 validated image filenames belonging to 2 classes.\n",
      "Found 200 validated image filenames belonging to 2 classes.\n"
     ]
    }
   ],
   "source": [
    "train_generator  = datagen.flow_from_dataframe(\n",
    "    dataframe=train_clean_small,\n",
    "    directory=save_dir,\n",
    "    x_col=\"path\",\n",
    "    y_col=\"binary_score\",\n",
    "    target_size=(512, 512),\n",
    "    color_mode=\"rgb\",\n",
    "    batch_size=64,\n",
    "    save_to_dir='png_images_resized/',\n",
    "    save_format=\"png\",\n",
    "    class_mode=\"binary\",\n",
    "    subset='training'\n",
    ")\n",
    "\n",
    "\n",
    "validation_generator  = datagen.flow_from_dataframe(\n",
    "    dataframe=train_clean_small,\n",
    "    directory=save_dir,\n",
    "    x_col=\"path\",\n",
    "    y_col=\"binary_score\",\n",
    "    target_size=(512, 512),\n",
    "    color_mode=\"rgb\",\n",
    "    batch_size=64, #deberia ser mas alto que el del modelo (sugerencia)\n",
    "    save_to_dir='png_images_resized/',\n",
    "    save_format=\"png\",\n",
    "    class_mode=\"binary\",\n",
    "    subset='validation'\n",
    ")"
   ]
  },
  {
   "cell_type": "code",
   "execution_count": 20,
   "id": "2e606556",
   "metadata": {},
   "outputs": [],
   "source": [
    "# Now the images are all of the same shape and lighter\n",
    "\n",
    "# files = os.listdir(save_dir)\n",
    "# d = random.choice(files)\n",
    "\n",
    "# img = mpimg.imread(save_dir + d)\n",
    "# imgplot = plt.imshow(img)\n",
    "# plt.show()"
   ]
  },
  {
   "cell_type": "code",
   "execution_count": 21,
   "id": "ec6f7a93",
   "metadata": {},
   "outputs": [],
   "source": [
    "# from keras.preprocessing import image\n",
    "\n",
    "# # reading the training images\n",
    "\n",
    "# train_image = [ ]\n",
    "\n",
    "# for i in tqdm(range(train_csv.shape[0])):\n",
    "\n",
    "#     img = image.load_img('png_images/' + train_csv['image_id'][i] + '.png', target_size = (512,512,1), \n",
    "#             grayscale = False)\n",
    "\n",
    "#     img = image.img_to_array(img)\n",
    "\n",
    "#     img = img/255\n",
    "\n",
    "#     train_image.append(img)\n",
    "#     X = np.array(train_image)"
   ]
  },
  {
   "cell_type": "code",
   "execution_count": 22,
   "id": "41ce14a6",
   "metadata": {
    "scrolled": true
   },
   "outputs": [],
   "source": [
    "# X.shape"
   ]
  },
  {
   "cell_type": "code",
   "execution_count": 23,
   "id": "1b10ee8a",
   "metadata": {},
   "outputs": [],
   "source": [
    "# y = train_csv['isup_grade'].values"
   ]
  },
  {
   "cell_type": "code",
   "execution_count": 24,
   "id": "801fbffa",
   "metadata": {},
   "outputs": [],
   "source": [
    "# X_train, X_test, y_train, y_test = train_test_split(X, y, random_state = 42, test_size = 0.2)"
   ]
  },
  {
   "cell_type": "markdown",
   "id": "d839a28a",
   "metadata": {},
   "source": [
    "----------"
   ]
  },
  {
   "cell_type": "markdown",
   "id": "1e7bb834",
   "metadata": {},
   "source": [
    "# Modeling"
   ]
  },
  {
   "cell_type": "code",
   "execution_count": 25,
   "id": "df960965",
   "metadata": {},
   "outputs": [],
   "source": [
    "model = tf.keras.Sequential([\n",
    "    tf.keras.layers.Conv2D(32, (3,3), activation='relu', input_shape=(512, 512, 3)),\n",
    "    tf.keras.layers.MaxPool2D((2,2)),\n",
    "    tf.keras.layers.Conv2D(64, (3,3), activation='relu'),\n",
    "    tf.keras.layers.MaxPool2D((2,2)),\n",
    "    tf.keras.layers.Flatten(),\n",
    "    tf.keras.layers.Dense(1, activation='sigmoid')\n",
    "])"
   ]
  },
  {
   "cell_type": "code",
   "execution_count": 26,
   "id": "056967f3",
   "metadata": {},
   "outputs": [],
   "source": [
    "model.compile(optimizer='adam', \n",
    "              loss=\"binary_crossentropy\", \n",
    "              metrics=['accuracy'])"
   ]
  },
  {
   "cell_type": "code",
   "execution_count": 27,
   "id": "37a544a8",
   "metadata": {},
   "outputs": [
    {
     "name": "stdout",
     "output_type": "stream",
     "text": [
      "Model: \"sequential\"\n",
      "_________________________________________________________________\n",
      "Layer (type)                 Output Shape              Param #   \n",
      "=================================================================\n",
      "conv2d (Conv2D)              (None, 510, 510, 32)      896       \n",
      "_________________________________________________________________\n",
      "max_pooling2d (MaxPooling2D) (None, 255, 255, 32)      0         \n",
      "_________________________________________________________________\n",
      "conv2d_1 (Conv2D)            (None, 253, 253, 64)      18496     \n",
      "_________________________________________________________________\n",
      "max_pooling2d_1 (MaxPooling2 (None, 126, 126, 64)      0         \n",
      "_________________________________________________________________\n",
      "flatten (Flatten)            (None, 1016064)           0         \n",
      "_________________________________________________________________\n",
      "dense (Dense)                (None, 1)                 1016065   \n",
      "=================================================================\n",
      "Total params: 1,035,457\n",
      "Trainable params: 1,035,457\n",
      "Non-trainable params: 0\n",
      "_________________________________________________________________\n"
     ]
    }
   ],
   "source": [
    "model.summary()"
   ]
  },
  {
   "cell_type": "markdown",
   "id": "cb9ca996",
   "metadata": {},
   "source": [
    "-----"
   ]
  },
  {
   "cell_type": "markdown",
   "id": "cbaac6bd",
   "metadata": {},
   "source": [
    "# Model Training"
   ]
  },
  {
   "cell_type": "code",
   "execution_count": 28,
   "id": "a7bc2ee4",
   "metadata": {},
   "outputs": [
    {
     "name": "stdout",
     "output_type": "stream",
     "text": [
      "Epoch 1/10\n",
      "13/13 [==============================] - 169s 13s/step - loss: 12.3446 - accuracy: 0.4899 - val_loss: 0.7505 - val_accuracy: 0.5150\n",
      "Epoch 2/10\n",
      "13/13 [==============================] - 153s 12s/step - loss: 0.7112 - accuracy: 0.5663 - val_loss: 0.6173 - val_accuracy: 0.6450\n",
      "Epoch 3/10\n",
      "13/13 [==============================] - 158s 12s/step - loss: 0.6130 - accuracy: 0.6560 - val_loss: 0.5839 - val_accuracy: 0.7250\n",
      "Epoch 4/10\n",
      "13/13 [==============================] - 156s 13s/step - loss: 0.5068 - accuracy: 0.7714 - val_loss: 0.5582 - val_accuracy: 0.7350\n",
      "Epoch 5/10\n",
      "13/13 [==============================] - 159s 12s/step - loss: 0.4433 - accuracy: 0.8132 - val_loss: 0.6268 - val_accuracy: 0.6500\n",
      "Epoch 6/10\n",
      "13/13 [==============================] - 175s 13s/step - loss: 0.3462 - accuracy: 0.8275 - val_loss: 0.5058 - val_accuracy: 0.7900\n",
      "Epoch 7/10\n",
      "13/13 [==============================] - 99s 8s/step - loss: 0.2109 - accuracy: 0.9213 - val_loss: 0.6021 - val_accuracy: 0.7400\n",
      "Epoch 8/10\n",
      "13/13 [==============================] - 100s 8s/step - loss: 0.2088 - accuracy: 0.9383 - val_loss: 0.6695 - val_accuracy: 0.7650\n",
      "Epoch 9/10\n",
      "13/13 [==============================] - 100s 8s/step - loss: 0.1087 - accuracy: 0.9639 - val_loss: 0.6825 - val_accuracy: 0.7650\n",
      "Epoch 10/10\n",
      "13/13 [==============================] - 101s 8s/step - loss: 0.0603 - accuracy: 0.9917 - val_loss: 0.9347 - val_accuracy: 0.7100\n"
     ]
    }
   ],
   "source": [
    "# history = model.fit(X_train, \n",
    "#                     y_train, \n",
    "#                     batch_size=64, \n",
    "#                     epochs=100, \n",
    "#                     validation_data=(X_test, y_test))\n",
    "\n",
    "history = model.fit(\n",
    "    train_generator,\n",
    "    validation_data = validation_generator,\n",
    "    batch_size=64,\n",
    "    epochs = 10)"
   ]
  },
  {
   "cell_type": "code",
   "execution_count": 29,
   "id": "794c5e27",
   "metadata": {},
   "outputs": [],
   "source": [
    "def plot_training(history, metrics: list = ('loss',), figsize: tuple = (12, 5)):\n",
    "    \"\"\"\n",
    "    plots training selected metrics for every batch\n",
    "    \"\"\"\n",
    "    epochs = range(1, len(history.history[metrics[0]]) + 1)\n",
    "\n",
    "    fig, ax_arr = plt.subplots(1, len(metrics), figsize=figsize)\n",
    "\n",
    "    if not isinstance(ax_arr, np.ndarray):\n",
    "        ax_arr = np.array(ax_arr).reshape(1, )\n",
    "\n",
    "    for i, metric in enumerate(metrics):\n",
    "        ax_arr[i].plot(epochs, history.history[metric], color='k', linestyle='solid', label=metric, linewidth=2)\n",
    "        ax_arr[i].plot(epochs, history.history[f\"val_{metric}\"], color='r', linestyle='dotted',\n",
    "                       label=f'validation {metric}')\n",
    "        ax_arr[i].set_ylabel(metric)\n",
    "        ax_arr[i].set_xlabel('epochs')\n",
    "        ax_arr[i].grid()\n",
    "        ax_arr[i].legend()\n",
    "    plt.show()"
   ]
  },
  {
   "cell_type": "code",
   "execution_count": 30,
   "id": "b559db9c",
   "metadata": {},
   "outputs": [
    {
     "data": {
      "image/png": "[encoded data removed]",
      "text/plain": [
       "<Figure size 864x360 with 2 Axes>"
      ]
     },
     "metadata": {
      "needs_background": "light"
     },
     "output_type": "display_data"
    }
   ],
   "source": [
    "plot_training(history, metrics=['loss', 'accuracy'])"
   ]
  },
  {
   "cell_type": "code",
   "execution_count": 242,
   "id": "2192ec35",
   "metadata": {},
   "outputs": [
    {
     "ename": "NameError",
     "evalue": "name 'X_test' is not defined",
     "output_type": "error",
     "traceback": [
      "\u001b[1;31m---------------------------------------------------------------------------\u001b[0m",
      "\u001b[1;31mNameError\u001b[0m                                 Traceback (most recent call last)",
      "\u001b[1;32m<ipython-input-242-b97cfdfecf7c>\u001b[0m in \u001b[0;36m<module>\u001b[1;34m\u001b[0m\n\u001b[1;32m----> 1\u001b[1;33m \u001b[0mtest_loss\u001b[0m\u001b[1;33m,\u001b[0m \u001b[0mtest_accuracy\u001b[0m \u001b[1;33m=\u001b[0m \u001b[0mmodel\u001b[0m\u001b[1;33m.\u001b[0m\u001b[0mevaluate\u001b[0m\u001b[1;33m(\u001b[0m\u001b[0mX_test\u001b[0m\u001b[1;33m,\u001b[0m \u001b[0my_test\u001b[0m\u001b[1;33m)\u001b[0m\u001b[1;33m\u001b[0m\u001b[1;33m\u001b[0m\u001b[0m\n\u001b[0m",
      "\u001b[1;31mNameError\u001b[0m: name 'X_test' is not defined"
     ]
    }
   ],
   "source": [
    "test_loss, test_accuracy = model.evaluate(X_test, y_test)"
   ]
  },
  {
   "cell_type": "code",
   "execution_count": 243,
   "id": "a1775929",
   "metadata": {},
   "outputs": [
    {
     "ename": "NameError",
     "evalue": "name 'test_accuracy' is not defined",
     "output_type": "error",
     "traceback": [
      "\u001b[1;31m---------------------------------------------------------------------------\u001b[0m",
      "\u001b[1;31mNameError\u001b[0m                                 Traceback (most recent call last)",
      "\u001b[1;32m<ipython-input-243-d823bbf988ca>\u001b[0m in \u001b[0;36m<module>\u001b[1;34m\u001b[0m\n\u001b[1;32m----> 1\u001b[1;33m \u001b[0mtest_accuracy\u001b[0m\u001b[1;33m\u001b[0m\u001b[1;33m\u001b[0m\u001b[0m\n\u001b[0m",
      "\u001b[1;31mNameError\u001b[0m: name 'test_accuracy' is not defined"
     ]
    }
   ],
   "source": [
    "test_accuracy"
   ]
  },
  {
   "cell_type": "code",
   "execution_count": null,
   "id": "72a0ed2b",
   "metadata": {},
   "outputs": [],
   "source": []
  },
  {
   "cell_type": "code",
   "execution_count": null,
   "id": "753d0700",
   "metadata": {},
   "outputs": [],
   "source": []
  },
  {
   "cell_type": "code",
   "execution_count": null,
   "id": "c261e897",
   "metadata": {},
   "outputs": [],
   "source": []
  },
  {
   "cell_type": "code",
   "execution_count": null,
   "id": "eabc19cb",
   "metadata": {},
   "outputs": [],
   "source": []
  },
  {
   "cell_type": "code",
   "execution_count": 26,
   "id": "cbe42abd",
   "metadata": {},
   "outputs": [],
   "source": [
    "# Same for label masks \n",
    "# data_masks_dir = \"train_label_masks/\""
   ]
  },
  {
   "cell_type": "code",
   "execution_count": 27,
   "id": "42ee507c",
   "metadata": {},
   "outputs": [],
   "source": [
    "# save_mask_dir = \"png_masks/\"\n",
    "# os.makedirs(save_maks_dir, exist_ok=True)\n",
    "\n",
    "# mask_files = os.listdir(data_masks_dir)"
   ]
  },
  {
   "cell_type": "code",
   "execution_count": 28,
   "id": "a6e621dd",
   "metadata": {},
   "outputs": [],
   "source": [
    "# for mask_file in tqdm(mask_files):\n",
    "#     load_path = data_masks_dir + mask_file\n",
    "#     save_path = save_mask_dir + mask_file.replace('.tiff', '.png')\n",
    "    \n",
    "#     mask = skimage.io.MultiImage(load_path)\n",
    "#     img = cv2.resize(mask[-1], (512, 512))\n",
    "#     cv2.imwrite(save_path, img)"
   ]
  },
  {
   "cell_type": "code",
   "execution_count": null,
   "id": "7e5d6949",
   "metadata": {},
   "outputs": [],
   "source": []
  }
 ],
 "metadata": {
  "kernelspec": {
   "display_name": "ironhack",
   "language": "python",
   "name": "ironhack"
  },
  "language_info": {
   "codemirror_mode": {
    "name": "ipython",
    "version": 3
   },
   "file_extension": ".py",
   "mimetype": "text/x-python",
   "name": "python",
   "nbconvert_exporter": "python",
   "pygments_lexer": "ipython3",
   "version": "3.8.5"
  }
 },
 "nbformat": 4,
 "nbformat_minor": 5
}
