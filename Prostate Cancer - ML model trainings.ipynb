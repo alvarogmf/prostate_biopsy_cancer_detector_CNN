{
 "cells": [
  {
   "cell_type": "markdown",
   "id": "d66f95ab",
   "metadata": {},
   "source": [
    "# Biopsy Prostate Cancer Detection - ML"
   ]
  },
  {
   "cell_type": "markdown",
   "id": "965481ef",
   "metadata": {},
   "source": [
    "Data in the CSV files:\n",
    "\n",
    "- **image_id:** ID code for the image.\n",
    "\n",
    "- **data_provider:** The name of the institution that provided the data. Both the Karolinska Institute and Radboud University Medical Center contributed data. They used different scanners with slightly different maximum microscope resolutions and worked with different pathologists for labeling their images.\n",
    "\n",
    "- **isup_grade:** Train only. The target variable. The severity of the cancer on a 0-5 scale.\n",
    "\n",
    "- **gleason_score:** Train only. An alternate cancer severity rating system with more levels than the ISUP scale. For details on how the gleason and ISUP systems compare, see the Additional Resources tab."
   ]
  },
  {
   "cell_type": "markdown",
   "id": "afb60e21",
   "metadata": {},
   "source": [
    " There are two different data providers that clasify the grade of the tumour differently:\n",
    "\n",
    "**Radboud:** Prostate glands are individually labelled. Valid values are:\n",
    "- 0: background (non tissue) or unknown\n",
    "- 1: stroma (connective tissue, non-epithelium tissue)\n",
    "- 2: healthy (benign) epithelium\n",
    "- 3: cancerous epithelium (Gleason 3)\n",
    "- 4: cancerous epithelium (Gleason 4)\n",
    "- 5: cancerous epithelium (Gleason 5)\n",
    "\n",
    "**Karolinska:** Regions are labelled. Valid values are:\n",
    "- 0: background (non tissue) or unknown\n",
    "- 1: benign tissue (stroma and epithelium combined)\n",
    "- 2: cancerous tissue (stroma and epithelium combined)"
   ]
  },
  {
   "cell_type": "code",
   "execution_count": 1,
   "id": "4ee607b8",
   "metadata": {},
   "outputs": [],
   "source": [
    "import pandas as pd\n",
    "import numpy as np\n",
    "import matplotlib\n",
    "import matplotlib.pyplot as plt\n",
    "from tqdm.notebook import tqdm\n",
    "import os\n",
    "import skimage.io\n",
    "from skimage.transform import resize, rescale\n",
    "import cv2\n",
    "from PIL import Image\n",
    "import imagecodecs\n",
    "import random\n",
    "import matplotlib.image as mpimg\n",
    "import tensorflow as tf\n",
    "from sklearn.model_selection import train_test_split\n",
    "from keras_preprocessing.image import ImageDataGenerator"
   ]
  },
  {
   "cell_type": "code",
   "execution_count": 2,
   "id": "9d5c8ad9",
   "metadata": {},
   "outputs": [
    {
     "name": "stdout",
     "output_type": "stream",
     "text": [
      "1 Physical GPUs, 1 Logical GPUs\n"
     ]
    }
   ],
   "source": [
    "gpus = tf.config.experimental.list_physical_devices('GPU')\n",
    "if gpus:\n",
    "  # Restrict TensorFlow to only allocate 4GB of memory on the first GPU\n",
    "  try:\n",
    "    tf.config.experimental.set_virtual_device_configuration(\n",
    "        gpus[0],\n",
    "        [tf.config.experimental.VirtualDeviceConfiguration(memory_limit=4096)])\n",
    "    logical_gpus = tf.config.experimental.list_logical_devices('GPU')\n",
    "    print(len(gpus), \"Physical GPUs,\", len(logical_gpus), \"Logical GPUs\")\n",
    "  except RuntimeError as e:\n",
    "    # Virtual devices must be set before GPUs have been initialized\n",
    "    print(e)"
   ]
  },
  {
   "cell_type": "code",
   "execution_count": 3,
   "id": "c66a8d36",
   "metadata": {},
   "outputs": [
    {
     "data": {
      "text/html": [
       "<div>\n",
       "<style scoped>\n",
       "    .dataframe tbody tr th:only-of-type {\n",
       "        vertical-align: middle;\n",
       "    }\n",
       "\n",
       "    .dataframe tbody tr th {\n",
       "        vertical-align: top;\n",
       "    }\n",
       "\n",
       "    .dataframe thead th {\n",
       "        text-align: right;\n",
       "    }\n",
       "</style>\n",
       "<table border=\"1\" class=\"dataframe\">\n",
       "  <thead>\n",
       "    <tr style=\"text-align: right;\">\n",
       "      <th></th>\n",
       "      <th>image_id</th>\n",
       "      <th>data_provider</th>\n",
       "      <th>isup_grade</th>\n",
       "      <th>gleason_score</th>\n",
       "    </tr>\n",
       "  </thead>\n",
       "  <tbody>\n",
       "    <tr>\n",
       "      <th>0</th>\n",
       "      <td>0005f7aaab2800f6170c399693a96917</td>\n",
       "      <td>karolinska</td>\n",
       "      <td>0</td>\n",
       "      <td>0+0</td>\n",
       "    </tr>\n",
       "    <tr>\n",
       "      <th>1</th>\n",
       "      <td>000920ad0b612851f8e01bcc880d9b3d</td>\n",
       "      <td>karolinska</td>\n",
       "      <td>0</td>\n",
       "      <td>0+0</td>\n",
       "    </tr>\n",
       "    <tr>\n",
       "      <th>2</th>\n",
       "      <td>0018ae58b01bdadc8e347995b69f99aa</td>\n",
       "      <td>radboud</td>\n",
       "      <td>4</td>\n",
       "      <td>4+4</td>\n",
       "    </tr>\n",
       "    <tr>\n",
       "      <th>3</th>\n",
       "      <td>001c62abd11fa4b57bf7a6c603a11bb9</td>\n",
       "      <td>karolinska</td>\n",
       "      <td>4</td>\n",
       "      <td>4+4</td>\n",
       "    </tr>\n",
       "    <tr>\n",
       "      <th>4</th>\n",
       "      <td>001d865e65ef5d2579c190a0e0350d8f</td>\n",
       "      <td>karolinska</td>\n",
       "      <td>0</td>\n",
       "      <td>0+0</td>\n",
       "    </tr>\n",
       "  </tbody>\n",
       "</table>\n",
       "</div>"
      ],
      "text/plain": [
       "                           image_id data_provider  isup_grade gleason_score\n",
       "0  0005f7aaab2800f6170c399693a96917    karolinska           0           0+0\n",
       "1  000920ad0b612851f8e01bcc880d9b3d    karolinska           0           0+0\n",
       "2  0018ae58b01bdadc8e347995b69f99aa       radboud           4           4+4\n",
       "3  001c62abd11fa4b57bf7a6c603a11bb9    karolinska           4           4+4\n",
       "4  001d865e65ef5d2579c190a0e0350d8f    karolinska           0           0+0"
      ]
     },
     "execution_count": 3,
     "metadata": {},
     "output_type": "execute_result"
    }
   ],
   "source": [
    "train_csv = pd.read_csv('train.csv')\n",
    "\n",
    "train_csv.head()"
   ]
  },
  {
   "cell_type": "code",
   "execution_count": 4,
   "id": "9a09203f",
   "metadata": {},
   "outputs": [
    {
     "data": {
      "text/plain": [
       "image_id         0\n",
       "data_provider    0\n",
       "isup_grade       0\n",
       "gleason_score    0\n",
       "dtype: int64"
      ]
     },
     "execution_count": 4,
     "metadata": {},
     "output_type": "execute_result"
    }
   ],
   "source": [
    "train_csv.isna().sum()"
   ]
  },
  {
   "cell_type": "code",
   "execution_count": 5,
   "id": "be32c253",
   "metadata": {},
   "outputs": [
    {
     "data": {
      "text/plain": [
       "3+3         2664\n",
       "0+0         1921\n",
       "3+4         1338\n",
       "4+3         1242\n",
       "4+4         1123\n",
       "negative     964\n",
       "4+5          847\n",
       "5+4          248\n",
       "5+5          127\n",
       "3+5           79\n",
       "5+3           43\n",
       "Name: gleason_score, dtype: int64"
      ]
     },
     "execution_count": 5,
     "metadata": {},
     "output_type": "execute_result"
    }
   ],
   "source": [
    "train_csv['gleason_score'].value_counts()"
   ]
  },
  {
   "cell_type": "code",
   "execution_count": 6,
   "id": "55f9eb71",
   "metadata": {},
   "outputs": [
    {
     "data": {
      "text/plain": [
       "karolinska    5447\n",
       "radboud       5149\n",
       "Name: data_provider, dtype: int64"
      ]
     },
     "execution_count": 6,
     "metadata": {},
     "output_type": "execute_result"
    }
   ],
   "source": [
    "train_csv['data_provider'].value_counts()"
   ]
  },
  {
   "cell_type": "code",
   "execution_count": 7,
   "id": "e966ad1b",
   "metadata": {},
   "outputs": [
    {
     "data": {
      "text/plain": [
       "0    2885\n",
       "1    2664\n",
       "2    1339\n",
       "4    1245\n",
       "3    1241\n",
       "5    1222\n",
       "Name: isup_grade, dtype: int64"
      ]
     },
     "execution_count": 7,
     "metadata": {},
     "output_type": "execute_result"
    }
   ],
   "source": [
    "train_csv['isup_grade'].value_counts()"
   ]
  },
  {
   "cell_type": "markdown",
   "id": "55ae9e9e",
   "metadata": {},
   "source": [
    "##### Data in the train CSV seems to be very clean, with same number of rows for each data provider and high number of cases for each isup_grade. "
   ]
  },
  {
   "cell_type": "code",
   "execution_count": 8,
   "id": "f692ae1b",
   "metadata": {},
   "outputs": [],
   "source": [
    "train_clean = pd.DataFrame()"
   ]
  },
  {
   "cell_type": "code",
   "execution_count": 9,
   "id": "d798686a",
   "metadata": {},
   "outputs": [],
   "source": [
    "train_csv['path'] = train_csv['image_id'] +'.png'"
   ]
  },
  {
   "cell_type": "code",
   "execution_count": 10,
   "id": "b475e1dd",
   "metadata": {},
   "outputs": [
    {
     "data": {
      "text/html": [
       "<div>\n",
       "<style scoped>\n",
       "    .dataframe tbody tr th:only-of-type {\n",
       "        vertical-align: middle;\n",
       "    }\n",
       "\n",
       "    .dataframe tbody tr th {\n",
       "        vertical-align: top;\n",
       "    }\n",
       "\n",
       "    .dataframe thead th {\n",
       "        text-align: right;\n",
       "    }\n",
       "</style>\n",
       "<table border=\"1\" class=\"dataframe\">\n",
       "  <thead>\n",
       "    <tr style=\"text-align: right;\">\n",
       "      <th></th>\n",
       "      <th>image_id</th>\n",
       "      <th>data_provider</th>\n",
       "      <th>isup_grade</th>\n",
       "      <th>gleason_score</th>\n",
       "      <th>path</th>\n",
       "    </tr>\n",
       "  </thead>\n",
       "  <tbody>\n",
       "    <tr>\n",
       "      <th>0</th>\n",
       "      <td>0005f7aaab2800f6170c399693a96917</td>\n",
       "      <td>karolinska</td>\n",
       "      <td>0</td>\n",
       "      <td>0+0</td>\n",
       "      <td>0005f7aaab2800f6170c399693a96917.png</td>\n",
       "    </tr>\n",
       "    <tr>\n",
       "      <th>1</th>\n",
       "      <td>000920ad0b612851f8e01bcc880d9b3d</td>\n",
       "      <td>karolinska</td>\n",
       "      <td>0</td>\n",
       "      <td>0+0</td>\n",
       "      <td>000920ad0b612851f8e01bcc880d9b3d.png</td>\n",
       "    </tr>\n",
       "    <tr>\n",
       "      <th>2</th>\n",
       "      <td>0018ae58b01bdadc8e347995b69f99aa</td>\n",
       "      <td>radboud</td>\n",
       "      <td>4</td>\n",
       "      <td>4+4</td>\n",
       "      <td>0018ae58b01bdadc8e347995b69f99aa.png</td>\n",
       "    </tr>\n",
       "    <tr>\n",
       "      <th>3</th>\n",
       "      <td>001c62abd11fa4b57bf7a6c603a11bb9</td>\n",
       "      <td>karolinska</td>\n",
       "      <td>4</td>\n",
       "      <td>4+4</td>\n",
       "      <td>001c62abd11fa4b57bf7a6c603a11bb9.png</td>\n",
       "    </tr>\n",
       "    <tr>\n",
       "      <th>4</th>\n",
       "      <td>001d865e65ef5d2579c190a0e0350d8f</td>\n",
       "      <td>karolinska</td>\n",
       "      <td>0</td>\n",
       "      <td>0+0</td>\n",
       "      <td>001d865e65ef5d2579c190a0e0350d8f.png</td>\n",
       "    </tr>\n",
       "  </tbody>\n",
       "</table>\n",
       "</div>"
      ],
      "text/plain": [
       "                           image_id data_provider  isup_grade gleason_score  \\\n",
       "0  0005f7aaab2800f6170c399693a96917    karolinska           0           0+0   \n",
       "1  000920ad0b612851f8e01bcc880d9b3d    karolinska           0           0+0   \n",
       "2  0018ae58b01bdadc8e347995b69f99aa       radboud           4           4+4   \n",
       "3  001c62abd11fa4b57bf7a6c603a11bb9    karolinska           4           4+4   \n",
       "4  001d865e65ef5d2579c190a0e0350d8f    karolinska           0           0+0   \n",
       "\n",
       "                                   path  \n",
       "0  0005f7aaab2800f6170c399693a96917.png  \n",
       "1  000920ad0b612851f8e01bcc880d9b3d.png  \n",
       "2  0018ae58b01bdadc8e347995b69f99aa.png  \n",
       "3  001c62abd11fa4b57bf7a6c603a11bb9.png  \n",
       "4  001d865e65ef5d2579c190a0e0350d8f.png  "
      ]
     },
     "execution_count": 10,
     "metadata": {},
     "output_type": "execute_result"
    }
   ],
   "source": [
    "train_csv.head()"
   ]
  },
  {
   "cell_type": "code",
   "execution_count": 11,
   "id": "a8444889",
   "metadata": {},
   "outputs": [],
   "source": [
    "# train_csv['binary_score'] = np.where(\n",
    "#     (train_csv['data_provider'] == 'karolinska') & (train_csv['isup_grade'] < 2), 'no cancer', \n",
    "#     np.where((train_csv['data_provider'] == 'radboud') & (train_csv['isup_grade'] < 3), 'no cancer' , \n",
    "#     'cancer'))\n",
    "\n",
    "train_csv['binary_score'] = np.where((train_csv['isup_grade'] < 1), 'no cancer','cancer')"
   ]
  },
  {
   "cell_type": "code",
   "execution_count": 12,
   "id": "5b2217ec",
   "metadata": {},
   "outputs": [
    {
     "data": {
      "text/html": [
       "<div>\n",
       "<style scoped>\n",
       "    .dataframe tbody tr th:only-of-type {\n",
       "        vertical-align: middle;\n",
       "    }\n",
       "\n",
       "    .dataframe tbody tr th {\n",
       "        vertical-align: top;\n",
       "    }\n",
       "\n",
       "    .dataframe thead th {\n",
       "        text-align: right;\n",
       "    }\n",
       "</style>\n",
       "<table border=\"1\" class=\"dataframe\">\n",
       "  <thead>\n",
       "    <tr style=\"text-align: right;\">\n",
       "      <th></th>\n",
       "      <th>image_id</th>\n",
       "      <th>data_provider</th>\n",
       "      <th>isup_grade</th>\n",
       "      <th>gleason_score</th>\n",
       "      <th>path</th>\n",
       "      <th>binary_score</th>\n",
       "    </tr>\n",
       "  </thead>\n",
       "  <tbody>\n",
       "    <tr>\n",
       "      <th>0</th>\n",
       "      <td>0005f7aaab2800f6170c399693a96917</td>\n",
       "      <td>karolinska</td>\n",
       "      <td>0</td>\n",
       "      <td>0+0</td>\n",
       "      <td>0005f7aaab2800f6170c399693a96917.png</td>\n",
       "      <td>no cancer</td>\n",
       "    </tr>\n",
       "    <tr>\n",
       "      <th>1</th>\n",
       "      <td>000920ad0b612851f8e01bcc880d9b3d</td>\n",
       "      <td>karolinska</td>\n",
       "      <td>0</td>\n",
       "      <td>0+0</td>\n",
       "      <td>000920ad0b612851f8e01bcc880d9b3d.png</td>\n",
       "      <td>no cancer</td>\n",
       "    </tr>\n",
       "    <tr>\n",
       "      <th>2</th>\n",
       "      <td>0018ae58b01bdadc8e347995b69f99aa</td>\n",
       "      <td>radboud</td>\n",
       "      <td>4</td>\n",
       "      <td>4+4</td>\n",
       "      <td>0018ae58b01bdadc8e347995b69f99aa.png</td>\n",
       "      <td>cancer</td>\n",
       "    </tr>\n",
       "    <tr>\n",
       "      <th>3</th>\n",
       "      <td>001c62abd11fa4b57bf7a6c603a11bb9</td>\n",
       "      <td>karolinska</td>\n",
       "      <td>4</td>\n",
       "      <td>4+4</td>\n",
       "      <td>001c62abd11fa4b57bf7a6c603a11bb9.png</td>\n",
       "      <td>cancer</td>\n",
       "    </tr>\n",
       "    <tr>\n",
       "      <th>4</th>\n",
       "      <td>001d865e65ef5d2579c190a0e0350d8f</td>\n",
       "      <td>karolinska</td>\n",
       "      <td>0</td>\n",
       "      <td>0+0</td>\n",
       "      <td>001d865e65ef5d2579c190a0e0350d8f.png</td>\n",
       "      <td>no cancer</td>\n",
       "    </tr>\n",
       "  </tbody>\n",
       "</table>\n",
       "</div>"
      ],
      "text/plain": [
       "                           image_id data_provider  isup_grade gleason_score  \\\n",
       "0  0005f7aaab2800f6170c399693a96917    karolinska           0           0+0   \n",
       "1  000920ad0b612851f8e01bcc880d9b3d    karolinska           0           0+0   \n",
       "2  0018ae58b01bdadc8e347995b69f99aa       radboud           4           4+4   \n",
       "3  001c62abd11fa4b57bf7a6c603a11bb9    karolinska           4           4+4   \n",
       "4  001d865e65ef5d2579c190a0e0350d8f    karolinska           0           0+0   \n",
       "\n",
       "                                   path binary_score  \n",
       "0  0005f7aaab2800f6170c399693a96917.png    no cancer  \n",
       "1  000920ad0b612851f8e01bcc880d9b3d.png    no cancer  \n",
       "2  0018ae58b01bdadc8e347995b69f99aa.png       cancer  \n",
       "3  001c62abd11fa4b57bf7a6c603a11bb9.png       cancer  \n",
       "4  001d865e65ef5d2579c190a0e0350d8f.png    no cancer  "
      ]
     },
     "execution_count": 12,
     "metadata": {},
     "output_type": "execute_result"
    }
   ],
   "source": [
    "train_csv.head()"
   ]
  },
  {
   "cell_type": "code",
   "execution_count": 13,
   "id": "02c9f9d9",
   "metadata": {
    "scrolled": true
   },
   "outputs": [
    {
     "data": {
      "text/html": [
       "<div>\n",
       "<style scoped>\n",
       "    .dataframe tbody tr th:only-of-type {\n",
       "        vertical-align: middle;\n",
       "    }\n",
       "\n",
       "    .dataframe tbody tr th {\n",
       "        vertical-align: top;\n",
       "    }\n",
       "\n",
       "    .dataframe thead th {\n",
       "        text-align: right;\n",
       "    }\n",
       "</style>\n",
       "<table border=\"1\" class=\"dataframe\">\n",
       "  <thead>\n",
       "    <tr style=\"text-align: right;\">\n",
       "      <th></th>\n",
       "      <th>path</th>\n",
       "      <th>binary_score</th>\n",
       "    </tr>\n",
       "  </thead>\n",
       "  <tbody>\n",
       "    <tr>\n",
       "      <th>0</th>\n",
       "      <td>0005f7aaab2800f6170c399693a96917.png</td>\n",
       "      <td>no cancer</td>\n",
       "    </tr>\n",
       "    <tr>\n",
       "      <th>1</th>\n",
       "      <td>000920ad0b612851f8e01bcc880d9b3d.png</td>\n",
       "      <td>no cancer</td>\n",
       "    </tr>\n",
       "    <tr>\n",
       "      <th>2</th>\n",
       "      <td>0018ae58b01bdadc8e347995b69f99aa.png</td>\n",
       "      <td>cancer</td>\n",
       "    </tr>\n",
       "    <tr>\n",
       "      <th>3</th>\n",
       "      <td>001c62abd11fa4b57bf7a6c603a11bb9.png</td>\n",
       "      <td>cancer</td>\n",
       "    </tr>\n",
       "    <tr>\n",
       "      <th>4</th>\n",
       "      <td>001d865e65ef5d2579c190a0e0350d8f.png</td>\n",
       "      <td>no cancer</td>\n",
       "    </tr>\n",
       "  </tbody>\n",
       "</table>\n",
       "</div>"
      ],
      "text/plain": [
       "                                   path binary_score\n",
       "0  0005f7aaab2800f6170c399693a96917.png    no cancer\n",
       "1  000920ad0b612851f8e01bcc880d9b3d.png    no cancer\n",
       "2  0018ae58b01bdadc8e347995b69f99aa.png       cancer\n",
       "3  001c62abd11fa4b57bf7a6c603a11bb9.png       cancer\n",
       "4  001d865e65ef5d2579c190a0e0350d8f.png    no cancer"
      ]
     },
     "execution_count": 13,
     "metadata": {},
     "output_type": "execute_result"
    }
   ],
   "source": [
    "train_clean = pd.DataFrame(train_csv[['path', 'binary_score']])\n",
    "train_clean.head()"
   ]
  },
  {
   "cell_type": "code",
   "execution_count": 14,
   "id": "34b69176",
   "metadata": {},
   "outputs": [
    {
     "data": {
      "text/html": [
       "<div>\n",
       "<style scoped>\n",
       "    .dataframe tbody tr th:only-of-type {\n",
       "        vertical-align: middle;\n",
       "    }\n",
       "\n",
       "    .dataframe tbody tr th {\n",
       "        vertical-align: top;\n",
       "    }\n",
       "\n",
       "    .dataframe thead th {\n",
       "        text-align: right;\n",
       "    }\n",
       "</style>\n",
       "<table border=\"1\" class=\"dataframe\">\n",
       "  <thead>\n",
       "    <tr style=\"text-align: right;\">\n",
       "      <th></th>\n",
       "      <th>path</th>\n",
       "      <th>binary_score</th>\n",
       "    </tr>\n",
       "  </thead>\n",
       "  <tbody>\n",
       "    <tr>\n",
       "      <th>0</th>\n",
       "      <td>0005f7aaab2800f6170c399693a96917.png</td>\n",
       "      <td>no cancer</td>\n",
       "    </tr>\n",
       "    <tr>\n",
       "      <th>1</th>\n",
       "      <td>000920ad0b612851f8e01bcc880d9b3d.png</td>\n",
       "      <td>no cancer</td>\n",
       "    </tr>\n",
       "    <tr>\n",
       "      <th>2</th>\n",
       "      <td>0018ae58b01bdadc8e347995b69f99aa.png</td>\n",
       "      <td>cancer</td>\n",
       "    </tr>\n",
       "    <tr>\n",
       "      <th>3</th>\n",
       "      <td>001c62abd11fa4b57bf7a6c603a11bb9.png</td>\n",
       "      <td>cancer</td>\n",
       "    </tr>\n",
       "    <tr>\n",
       "      <th>4</th>\n",
       "      <td>001d865e65ef5d2579c190a0e0350d8f.png</td>\n",
       "      <td>no cancer</td>\n",
       "    </tr>\n",
       "    <tr>\n",
       "      <th>...</th>\n",
       "      <td>...</td>\n",
       "      <td>...</td>\n",
       "    </tr>\n",
       "    <tr>\n",
       "      <th>995</th>\n",
       "      <td>1987d293a6345a3fdfd2accf524bc2d1.png</td>\n",
       "      <td>cancer</td>\n",
       "    </tr>\n",
       "    <tr>\n",
       "      <th>996</th>\n",
       "      <td>198fa06f052feedc1684e42829c137fc.png</td>\n",
       "      <td>cancer</td>\n",
       "    </tr>\n",
       "    <tr>\n",
       "      <th>997</th>\n",
       "      <td>1990f9eb40f798dcb50f7fad287c0e28.png</td>\n",
       "      <td>cancer</td>\n",
       "    </tr>\n",
       "    <tr>\n",
       "      <th>998</th>\n",
       "      <td>19929dc431ae4560780d6a92a8e9fd20.png</td>\n",
       "      <td>cancer</td>\n",
       "    </tr>\n",
       "    <tr>\n",
       "      <th>999</th>\n",
       "      <td>1995d7f1f42ad259aae1fc004fbc6360.png</td>\n",
       "      <td>cancer</td>\n",
       "    </tr>\n",
       "  </tbody>\n",
       "</table>\n",
       "<p>1000 rows × 2 columns</p>\n",
       "</div>"
      ],
      "text/plain": [
       "                                     path binary_score\n",
       "0    0005f7aaab2800f6170c399693a96917.png    no cancer\n",
       "1    000920ad0b612851f8e01bcc880d9b3d.png    no cancer\n",
       "2    0018ae58b01bdadc8e347995b69f99aa.png       cancer\n",
       "3    001c62abd11fa4b57bf7a6c603a11bb9.png       cancer\n",
       "4    001d865e65ef5d2579c190a0e0350d8f.png    no cancer\n",
       "..                                    ...          ...\n",
       "995  1987d293a6345a3fdfd2accf524bc2d1.png       cancer\n",
       "996  198fa06f052feedc1684e42829c137fc.png       cancer\n",
       "997  1990f9eb40f798dcb50f7fad287c0e28.png       cancer\n",
       "998  19929dc431ae4560780d6a92a8e9fd20.png       cancer\n",
       "999  1995d7f1f42ad259aae1fc004fbc6360.png       cancer\n",
       "\n",
       "[1000 rows x 2 columns]"
      ]
     },
     "execution_count": 14,
     "metadata": {},
     "output_type": "execute_result"
    }
   ],
   "source": [
    "#this is for test purposes only\n",
    "train_clean_small = train_clean[:1000]\n",
    "train_clean_small"
   ]
  },
  {
   "cell_type": "markdown",
   "id": "0280014d",
   "metadata": {},
   "source": [
    "-------------------------------------------------------"
   ]
  },
  {
   "cell_type": "markdown",
   "id": "88aa1ad8",
   "metadata": {},
   "source": [
    "# Image treatment"
   ]
  },
  {
   "cell_type": "markdown",
   "id": "4a489a3c",
   "metadata": {},
   "source": [
    "These images are in a .tiff format, which is good for maintaining good quality in the images, but the size is too big fo be feasible to create a model (at least an initial one). I will transform these images into .png and also will convert them to have the same size (512x512), as they have a wide variety of sizes and forms."
   ]
  },
  {
   "cell_type": "code",
   "execution_count": 15,
   "id": "9a3dd572",
   "metadata": {},
   "outputs": [],
   "source": [
    "# where are the images\n",
    "data_dir = \"train_images/\""
   ]
  },
  {
   "cell_type": "code",
   "execution_count": 16,
   "id": "c7d67fad",
   "metadata": {},
   "outputs": [],
   "source": [
    "# where will the converted images be stored, create the folder if it doesn't exist\n",
    "save_dir = \"png_images/\"\n",
    "os.makedirs(save_dir, exist_ok=True)"
   ]
  },
  {
   "cell_type": "code",
   "execution_count": 17,
   "id": "2d539f74",
   "metadata": {},
   "outputs": [],
   "source": [
    "# THIS HAS ALREADY BEEN DONE! No need to run it again and again. It converts the images.\n",
    "\n",
    "# for img_id in tqdm(train_csv.image_id):\n",
    "#     load_path = data_dir + img_id + '.tiff'\n",
    "#     save_path = save_dir + img_id + '.png'\n",
    "    \n",
    "#     biopsy = skimage.io.MultiImage(load_path)\n",
    "#     img = cv2.resize(biopsy[-1], (0,0), fx = 0.1, fy = 0.1)\n",
    "#     cv2.imwrite(save_path, img)"
   ]
  },
  {
   "cell_type": "code",
   "execution_count": 18,
   "id": "86efee47",
   "metadata": {},
   "outputs": [],
   "source": [
    "datagen = ImageDataGenerator(rescale=1./255.,validation_split=0.2)"
   ]
  },
  {
   "cell_type": "code",
   "execution_count": 19,
   "id": "9d7900b6",
   "metadata": {},
   "outputs": [
    {
     "name": "stdout",
     "output_type": "stream",
     "text": [
      "Found 8477 validated image filenames belonging to 2 classes.\n",
      "Found 2119 validated image filenames belonging to 2 classes.\n"
     ]
    }
   ],
   "source": [
    "train_generator  = datagen.flow_from_dataframe(\n",
    "    dataframe=train_clean,\n",
    "    directory=save_dir,\n",
    "    x_col=\"path\",\n",
    "    y_col=\"binary_score\",\n",
    "    target_size=(258, 258),\n",
    "    color_mode=\"rgb\",\n",
    "    batch_size=64,\n",
    "    save_to_dir='png_images_resized/',\n",
    "    save_format=\"png\",\n",
    "    class_mode=\"binary\",\n",
    "    subset='training',\n",
    "    shuffle = True\n",
    ")\n",
    "\n",
    "\n",
    "validation_generator  = datagen.flow_from_dataframe(\n",
    "    dataframe=train_clean,\n",
    "    directory=save_dir,\n",
    "    x_col=\"path\",\n",
    "    y_col=\"binary_score\",\n",
    "    target_size=(258, 258),\n",
    "    color_mode=\"rgb\",\n",
    "    batch_size=64, #deberia ser mas alto que el del modelo (sugerencia)\n",
    "    save_to_dir='png_images_resized/',\n",
    "    save_format=\"png\",\n",
    "    class_mode=\"binary\",\n",
    "    subset='validation',\n",
    "    shuffle = True\n",
    ")"
   ]
  },
  {
   "cell_type": "code",
   "execution_count": 20,
   "id": "ad078e47",
   "metadata": {},
   "outputs": [
    {
     "data": {
      "image/png": "[encoded data removed]",
      "text/plain": [
       "<Figure size 432x288 with 1 Axes>"
      ]
     },
     "metadata": {
      "needs_background": "light"
     },
     "output_type": "display_data"
    }
   ],
   "source": [
    "# Now the images are all of the same shape and lighter\n",
    "\n",
    "files = os.listdir(save_dir)\n",
    "d = random.choice(files)\n",
    "\n",
    "img = mpimg.imread(save_dir + d)\n",
    "imgplot = plt.imshow(img)\n",
    "plt.show()"
   ]
  },
  {
   "cell_type": "code",
   "execution_count": 21,
   "id": "419cd1d1",
   "metadata": {},
   "outputs": [],
   "source": [
    "# from keras.preprocessing import image\n",
    "\n",
    "# # reading the training images\n",
    "\n",
    "# train_image = [ ]\n",
    "\n",
    "# for i in tqdm(range(train_csv.shape[0])):\n",
    "\n",
    "#     img = image.load_img('png_images/' + train_csv['image_id'][i] + '.png', target_size = (512,512,1), \n",
    "#             grayscale = False)\n",
    "\n",
    "#     img = image.img_to_array(img)\n",
    "\n",
    "#     img = img/255\n",
    "\n",
    "#     train_image.append(img)\n",
    "#     X = np.array(train_image)"
   ]
  },
  {
   "cell_type": "code",
   "execution_count": 22,
   "id": "2c6dcb21",
   "metadata": {
    "scrolled": true
   },
   "outputs": [],
   "source": [
    "# X.shape"
   ]
  },
  {
   "cell_type": "code",
   "execution_count": 23,
   "id": "c4e252ac",
   "metadata": {},
   "outputs": [],
   "source": [
    "# y = train_csv['isup_grade'].values"
   ]
  },
  {
   "cell_type": "code",
   "execution_count": 24,
   "id": "0822ff42",
   "metadata": {},
   "outputs": [],
   "source": [
    "# X_train, X_test, y_train, y_test = train_test_split(X, y, random_state = 42, test_size = 0.2)"
   ]
  },
  {
   "cell_type": "markdown",
   "id": "13cc333e",
   "metadata": {},
   "source": [
    "----------"
   ]
  },
  {
   "cell_type": "markdown",
   "id": "f3004124",
   "metadata": {},
   "source": [
    "# Modeling"
   ]
  },
  {
   "cell_type": "code",
   "execution_count": 25,
   "id": "7f9d08d4",
   "metadata": {},
   "outputs": [
    {
     "name": "stdout",
     "output_type": "stream",
     "text": [
      "Version:  2.4.0\n",
      "Eager mode:  True\n",
      "GPU is available\n"
     ]
    }
   ],
   "source": [
    "import tensorflow as tf\n",
    "print(\"Version: \", tf.__version__)\n",
    "print(\"Eager mode: \", tf.executing_eagerly())\n",
    "print(\"GPU is\", \"available\" if tf.config.list_physical_devices(\"GPU\") else \"NOT AVAILABLE\")"
   ]
  },
  {
   "cell_type": "code",
   "execution_count": 26,
   "id": "a1f88529",
   "metadata": {},
   "outputs": [],
   "source": [
    "model = tf.keras.Sequential()\n",
    "\n",
    "\n",
    "model.add(tf.keras.layers.Conv2D(16, (3,3), activation='relu', input_shape=(258, 258, 3)))\n",
    "model.add(tf.keras.layers.MaxPooling2D(pool_size=(2, 2)))\n",
    "\n",
    "model.add(tf.keras.layers.Conv2D(32, (3,3), activation='relu'))\n",
    "model.add(tf.keras.layers.MaxPooling2D(pool_size=(2, 2)))\n",
    "\n",
    "model.add(tf.keras.layers.Conv2D(64, (3,3), activation='relu'))\n",
    "model.add(tf.keras.layers.MaxPooling2D(pool_size=(2, 2)))\n",
    "\n",
    "model.add(tf.keras.layers.Dropout(0.2))\n",
    "\n",
    "model.add(tf.keras.layers.Flatten())\n",
    "\n",
    "model.add(tf.keras.layers.Dense(32, activation=\"relu\"))\n",
    "model.add(tf.keras.layers.Dense(16, activation=\"relu\"))\n",
    "\n",
    "model.add(tf.keras.layers.Dense(1, activation=\"sigmoid\"))\n"
   ]
  },
  {
   "cell_type": "code",
   "execution_count": 27,
   "id": "6e0b7bb9",
   "metadata": {},
   "outputs": [],
   "source": [
    "model.compile(optimizer='adam', \n",
    "              loss=\"binary_crossentropy\", \n",
    "              metrics=['accuracy'])"
   ]
  },
  {
   "cell_type": "code",
   "execution_count": 28,
   "id": "de1b7b74",
   "metadata": {},
   "outputs": [
    {
     "name": "stdout",
     "output_type": "stream",
     "text": [
      "Model: \"sequential\"\n",
      "_________________________________________________________________\n",
      "Layer (type)                 Output Shape              Param #   \n",
      "=================================================================\n",
      "conv2d (Conv2D)              (None, 256, 256, 16)      448       \n",
      "_________________________________________________________________\n",
      "max_pooling2d (MaxPooling2D) (None, 128, 128, 16)      0         \n",
      "_________________________________________________________________\n",
      "conv2d_1 (Conv2D)            (None, 126, 126, 32)      4640      \n",
      "_________________________________________________________________\n",
      "max_pooling2d_1 (MaxPooling2 (None, 63, 63, 32)        0         \n",
      "_________________________________________________________________\n",
      "conv2d_2 (Conv2D)            (None, 61, 61, 64)        18496     \n",
      "_________________________________________________________________\n",
      "max_pooling2d_2 (MaxPooling2 (None, 30, 30, 64)        0         \n",
      "_________________________________________________________________\n",
      "dropout (Dropout)            (None, 30, 30, 64)        0         \n",
      "_________________________________________________________________\n",
      "flatten (Flatten)            (None, 57600)             0         \n",
      "_________________________________________________________________\n",
      "dense (Dense)                (None, 32)                1843232   \n",
      "_________________________________________________________________\n",
      "dense_1 (Dense)              (None, 16)                528       \n",
      "_________________________________________________________________\n",
      "dense_2 (Dense)              (None, 1)                 17        \n",
      "=================================================================\n",
      "Total params: 1,867,361\n",
      "Trainable params: 1,867,361\n",
      "Non-trainable params: 0\n",
      "_________________________________________________________________\n"
     ]
    }
   ],
   "source": [
    "model.summary()"
   ]
  },
  {
   "cell_type": "markdown",
   "id": "a5acbbba",
   "metadata": {},
   "source": [
    "-----"
   ]
  },
  {
   "cell_type": "markdown",
   "id": "bd589a8c",
   "metadata": {},
   "source": [
    "# Model Training"
   ]
  },
  {
   "cell_type": "code",
   "execution_count": 29,
   "id": "cfd4bff9",
   "metadata": {},
   "outputs": [
    {
     "name": "stdout",
     "output_type": "stream",
     "text": [
      "Epoch 1/50\n",
      "133/133 [==============================] - 597s 4s/step - loss: 0.6070 - accuracy: 0.7050 - val_loss: 0.5585 - val_accuracy: 0.7272\n",
      "Epoch 2/50\n",
      "133/133 [==============================] - 581s 4s/step - loss: 0.5766 - accuracy: 0.7231 - val_loss: 0.5356 - val_accuracy: 0.7310\n",
      "Epoch 3/50\n",
      "133/133 [==============================] - 577s 4s/step - loss: 0.5315 - accuracy: 0.7384 - val_loss: 0.5456 - val_accuracy: 0.7390\n",
      "Epoch 4/50\n",
      "133/133 [==============================] - 578s 4s/step - loss: 0.5656 - accuracy: 0.7371 - val_loss: 0.5013 - val_accuracy: 0.7570\n",
      "Epoch 5/50\n",
      "133/133 [==============================] - 580s 4s/step - loss: 0.5090 - accuracy: 0.7594 - val_loss: 0.5512 - val_accuracy: 0.7565\n",
      "Epoch 6/50\n",
      "133/133 [==============================] - 579s 4s/step - loss: 0.5077 - accuracy: 0.7567 - val_loss: 0.4900 - val_accuracy: 0.7655\n",
      "Epoch 7/50\n",
      "133/133 [==============================] - 579s 4s/step - loss: 0.4623 - accuracy: 0.7787 - val_loss: 0.4803 - val_accuracy: 0.7758\n",
      "Epoch 8/50\n",
      "133/133 [==============================] - 578s 4s/step - loss: 0.4173 - accuracy: 0.7993 - val_loss: 0.5167 - val_accuracy: 0.7409\n",
      "Epoch 9/50\n",
      "133/133 [==============================] - 579s 4s/step - loss: 0.3938 - accuracy: 0.8212 - val_loss: 0.5006 - val_accuracy: 0.7664\n",
      "Epoch 10/50\n",
      "133/133 [==============================] - 578s 4s/step - loss: 0.3338 - accuracy: 0.8539 - val_loss: 0.5177 - val_accuracy: 0.7716\n",
      "Epoch 11/50\n",
      "133/133 [==============================] - 578s 4s/step - loss: 0.2787 - accuracy: 0.8806 - val_loss: 0.5575 - val_accuracy: 0.7574\n",
      "Epoch 12/50\n",
      "133/133 [==============================] - 578s 4s/step - loss: 0.2257 - accuracy: 0.9122 - val_loss: 0.6561 - val_accuracy: 0.7381\n",
      "Epoch 13/50\n",
      "133/133 [==============================] - 578s 4s/step - loss: 0.1634 - accuracy: 0.9340 - val_loss: 0.6979 - val_accuracy: 0.7452\n",
      "Epoch 14/50\n",
      "133/133 [==============================] - 578s 4s/step - loss: 0.1328 - accuracy: 0.9504 - val_loss: 0.7937 - val_accuracy: 0.7452\n",
      "Epoch 15/50\n",
      "133/133 [==============================] - 578s 4s/step - loss: 0.0964 - accuracy: 0.9675 - val_loss: 0.9217 - val_accuracy: 0.7555\n",
      "Epoch 16/50\n",
      "133/133 [==============================] - 578s 4s/step - loss: 0.0616 - accuracy: 0.9791 - val_loss: 1.1227 - val_accuracy: 0.7565\n",
      "Epoch 17/50\n",
      "133/133 [==============================] - 578s 4s/step - loss: 0.0508 - accuracy: 0.9840 - val_loss: 1.2416 - val_accuracy: 0.7423\n",
      "Epoch 18/50\n",
      "133/133 [==============================] - 580s 4s/step - loss: 0.0441 - accuracy: 0.9847 - val_loss: 1.2384 - val_accuracy: 0.7532\n",
      "Epoch 19/50\n",
      "133/133 [==============================] - 578s 4s/step - loss: 0.0426 - accuracy: 0.9873 - val_loss: 1.3433 - val_accuracy: 0.7428\n",
      "Epoch 20/50\n",
      "133/133 [==============================] - 578s 4s/step - loss: 0.0285 - accuracy: 0.9919 - val_loss: 1.4045 - val_accuracy: 0.7504\n",
      "Epoch 21/50\n",
      "133/133 [==============================] - 577s 4s/step - loss: 0.0424 - accuracy: 0.9873 - val_loss: 1.3681 - val_accuracy: 0.7555\n",
      "Epoch 22/50\n",
      "133/133 [==============================] - 579s 4s/step - loss: 0.0320 - accuracy: 0.9929 - val_loss: 1.4456 - val_accuracy: 0.7353\n",
      "Epoch 23/50\n",
      "133/133 [==============================] - 578s 4s/step - loss: 0.0207 - accuracy: 0.9935 - val_loss: 1.4509 - val_accuracy: 0.7541\n",
      "Epoch 24/50\n",
      "133/133 [==============================] - 580s 4s/step - loss: 0.0161 - accuracy: 0.9963 - val_loss: 1.5833 - val_accuracy: 0.7414\n",
      "Epoch 25/50\n",
      "133/133 [==============================] - 578s 4s/step - loss: 0.0192 - accuracy: 0.9932 - val_loss: 1.3982 - val_accuracy: 0.7504\n",
      "Epoch 26/50\n",
      "133/133 [==============================] - 576s 4s/step - loss: 0.0345 - accuracy: 0.9878 - val_loss: 1.6894 - val_accuracy: 0.7607\n",
      "Epoch 27/50\n",
      "133/133 [==============================] - 578s 4s/step - loss: 0.0135 - accuracy: 0.9960 - val_loss: 1.7307 - val_accuracy: 0.7400\n",
      "Epoch 28/50\n",
      "133/133 [==============================] - 577s 4s/step - loss: 0.0161 - accuracy: 0.9950 - val_loss: 1.5126 - val_accuracy: 0.7102\n",
      "Epoch 29/50\n",
      "133/133 [==============================] - 579s 4s/step - loss: 0.0364 - accuracy: 0.9888 - val_loss: 1.6117 - val_accuracy: 0.7338\n",
      "Epoch 30/50\n",
      "133/133 [==============================] - 577s 4s/step - loss: 0.0182 - accuracy: 0.9960 - val_loss: 1.8612 - val_accuracy: 0.7598\n",
      "Epoch 31/50\n",
      "133/133 [==============================] - 578s 4s/step - loss: 0.0086 - accuracy: 0.9983 - val_loss: 2.0355 - val_accuracy: 0.7570\n",
      "Epoch 32/50\n",
      "133/133 [==============================] - 577s 4s/step - loss: 0.0091 - accuracy: 0.9975 - val_loss: 1.9834 - val_accuracy: 0.7640\n",
      "Epoch 33/50\n",
      "133/133 [==============================] - 579s 4s/step - loss: 0.0205 - accuracy: 0.9940 - val_loss: 2.0351 - val_accuracy: 0.7390\n",
      "Epoch 34/50\n",
      "133/133 [==============================] - 577s 4s/step - loss: 0.0231 - accuracy: 0.9924 - val_loss: 1.8291 - val_accuracy: 0.7541\n",
      "Epoch 35/50\n",
      "133/133 [==============================] - 577s 4s/step - loss: 0.0206 - accuracy: 0.9948 - val_loss: 1.7768 - val_accuracy: 0.7310\n",
      "Epoch 36/50\n",
      "133/133 [==============================] - 585s 4s/step - loss: 0.0356 - accuracy: 0.9916 - val_loss: 1.8512 - val_accuracy: 0.7588\n",
      "Epoch 37/50\n",
      "133/133 [==============================] - 582s 4s/step - loss: 0.0070 - accuracy: 0.9975 - val_loss: 1.8725 - val_accuracy: 0.7395\n",
      "Epoch 38/50\n",
      "133/133 [==============================] - 580s 4s/step - loss: 0.0120 - accuracy: 0.9967 - val_loss: 1.8997 - val_accuracy: 0.7560\n",
      "Epoch 39/50\n",
      "133/133 [==============================] - 578s 4s/step - loss: 0.0070 - accuracy: 0.9984 - val_loss: 2.0101 - val_accuracy: 0.7437\n",
      "Epoch 40/50\n",
      "133/133 [==============================] - 578s 4s/step - loss: 0.0056 - accuracy: 0.9983 - val_loss: 2.0458 - val_accuracy: 0.7239\n",
      "Epoch 41/50\n",
      "133/133 [==============================] - 578s 4s/step - loss: 0.0067 - accuracy: 0.9981 - val_loss: 2.0165 - val_accuracy: 0.7537\n",
      "Epoch 42/50\n",
      "133/133 [==============================] - 578s 4s/step - loss: 0.0095 - accuracy: 0.9978 - val_loss: 2.0335 - val_accuracy: 0.7395\n",
      "Epoch 43/50\n",
      "133/133 [==============================] - 578s 4s/step - loss: 0.0185 - accuracy: 0.9946 - val_loss: 1.8671 - val_accuracy: 0.7489\n",
      "Epoch 44/50\n",
      "133/133 [==============================] - 576s 4s/step - loss: 0.0160 - accuracy: 0.9951 - val_loss: 1.8296 - val_accuracy: 0.7461\n",
      "Epoch 45/50\n",
      "133/133 [==============================] - 581s 4s/step - loss: 0.0121 - accuracy: 0.9967 - val_loss: 2.0866 - val_accuracy: 0.7522\n",
      "Epoch 46/50\n",
      "133/133 [==============================] - 579s 4s/step - loss: 0.0078 - accuracy: 0.9977 - val_loss: 1.7092 - val_accuracy: 0.7319\n",
      "Epoch 47/50\n",
      "133/133 [==============================] - 580s 4s/step - loss: 0.0188 - accuracy: 0.9958 - val_loss: 1.8744 - val_accuracy: 0.7197\n",
      "Epoch 48/50\n",
      "133/133 [==============================] - 579s 4s/step - loss: 0.0180 - accuracy: 0.9942 - val_loss: 1.9630 - val_accuracy: 0.7239\n",
      "Epoch 49/50\n",
      "133/133 [==============================] - 578s 4s/step - loss: 0.0416 - accuracy: 0.9858 - val_loss: 1.6884 - val_accuracy: 0.7409\n",
      "Epoch 50/50\n",
      "133/133 [==============================] - 581s 4s/step - loss: 0.0198 - accuracy: 0.9934 - val_loss: 1.6824 - val_accuracy: 0.7404\n"
     ]
    }
   ],
   "source": [
    "history = model.fit(\n",
    "    train_generator,\n",
    "    validation_data = validation_generator,\n",
    "    batch_size=32,\n",
    "    epochs = 50)"
   ]
  },
  {
   "cell_type": "code",
   "execution_count": 30,
   "id": "46c4bc0d",
   "metadata": {},
   "outputs": [],
   "source": [
    "def plot_training(history, metrics: list = ('loss',), figsize: tuple = (12, 5)):\n",
    "    \"\"\"\n",
    "    plots training selected metrics for every batch\n",
    "    \"\"\"\n",
    "    epochs = range(1, len(history.history[metrics[0]]) + 1)\n",
    "\n",
    "    fig, ax_arr = plt.subplots(1, len(metrics), figsize=figsize)\n",
    "\n",
    "    if not isinstance(ax_arr, np.ndarray):\n",
    "        ax_arr = np.array(ax_arr).reshape(1, )\n",
    "\n",
    "    for i, metric in enumerate(metrics):\n",
    "        ax_arr[i].plot(epochs, history.history[metric], color='k', linestyle='solid', label=metric, linewidth=2)\n",
    "        ax_arr[i].plot(epochs, history.history[f\"val_{metric}\"], color='r', linestyle='dotted',\n",
    "                       label=f'validation {metric}')\n",
    "        ax_arr[i].set_ylabel(metric)\n",
    "        ax_arr[i].set_xlabel('epochs')\n",
    "        ax_arr[i].grid()\n",
    "        ax_arr[i].legend()\n",
    "    plt.show()"
   ]
  },
  {
   "cell_type": "code",
   "execution_count": 31,
   "id": "e06df82a",
   "metadata": {},
   "outputs": [
    {
     "data": {
      "image/png": "[encoded data removed]",
      "text/plain": [
       "<Figure size 864x360 with 2 Axes>"
      ]
     },
     "metadata": {
      "needs_background": "light"
     },
     "output_type": "display_data"
    }
   ],
   "source": [
    "plot_training(history, metrics=['loss', 'accuracy'])"
   ]
  },
  {
   "cell_type": "code",
   "execution_count": 32,
   "id": "40f433d2",
   "metadata": {},
   "outputs": [],
   "source": [
    "model_name = \"first_model_changing_isup_grade\"\n",
    "model.save(os.path.join(\"model/\", f\"{model_name}.h5\"))"
   ]
  },
  {
   "cell_type": "code",
   "execution_count": null,
   "id": "f6825a2d",
   "metadata": {},
   "outputs": [],
   "source": []
  },
  {
   "cell_type": "markdown",
   "id": "b3f755a7",
   "metadata": {},
   "source": [
    "# Model Prediction"
   ]
  },
  {
   "cell_type": "code",
   "execution_count": 33,
   "id": "4ea9f827",
   "metadata": {},
   "outputs": [
    {
     "data": {
      "text/plain": [
       "'ffe9bcababc858e04840669e788065a1.tiff'"
      ]
     },
     "execution_count": 33,
     "metadata": {},
     "output_type": "execute_result"
    }
   ],
   "source": [
    "img_id = os.listdir('predict/')\n",
    "img_id[0]"
   ]
  },
  {
   "cell_type": "code",
   "execution_count": 34,
   "id": "e0552b2f",
   "metadata": {},
   "outputs": [],
   "source": [
    "def image_predict_convert():\n",
    "    img_id = os.listdir('predict/')\n",
    "    load_path = 'predict/' + img_id[0]\n",
    "    save_path = 'predict/png_converted/' + 'predict.png'\n",
    "    \n",
    "    biopsy = skimage.io.MultiImage(load_path)\n",
    "    img = cv2.resize(biopsy[-1], (0,0), fx = 0.1, fy = 0.1)\n",
    "    cv2.imwrite(save_path, img)\n",
    "    \n",
    "image_predict_convert()"
   ]
  },
  {
   "cell_type": "code",
   "execution_count": 35,
   "id": "38fdec3a",
   "metadata": {},
   "outputs": [],
   "source": [
    "\n",
    "model = tf.keras.models.load_model(os.path.join('model/', f\"{model_name}.h5\"))"
   ]
  },
  {
   "cell_type": "code",
   "execution_count": 36,
   "id": "8eb7a461",
   "metadata": {},
   "outputs": [],
   "source": [
    "def prediction(model, image_path, categories, pixels=258):\n",
    "    \"\"\"\n",
    "    Analyses new cell images given a loaded or just trained model\n",
    "    :param model: Model to use\n",
    "    :param image_path: Image to analyse\n",
    "    :param categories: List. Defined previously\n",
    "    :param pixels: Image dimension. Default 130\n",
    "    :return: Shows up the original cell image with a caption, Parasitized or Uninfected\n",
    "    \"\"\"\n",
    "    try:\n",
    "        img = cv2.imread(image_path)\n",
    "        resized_img = cv2.resize(img, (pixels, pixels))\n",
    "    except Exception as e:\n",
    "        print(f\"Error reading file {image_path}\")\n",
    "        exit()\n",
    "\n",
    "    to_predict = np.array(resized_img).reshape(-1, pixels, pixels, 3)  # 1 grayscale, 3 colored images\n",
    "    y = model.predict(to_predict)\n",
    "\n",
    "    # Display results\n",
    "    result = categories[int(y[0][0])]\n",
    "\n",
    "    fig, ax = plt.subplots()\n",
    "    label_font = {\"fontname\": \"Arial\", \"fontsize\": 9}\n",
    "    plt.imshow(img)\n",
    "    fig.suptitle(result, fontsize=20)\n",
    "    ax.set_title(image_path, fontdict=label_font)\n",
    "    return img, result, image_path"
   ]
  },
  {
   "cell_type": "code",
   "execution_count": 39,
   "id": "905f4fff",
   "metadata": {},
   "outputs": [
    {
     "data": {
      "text/plain": [
       "(3072, 691, 3)"
      ]
     },
     "execution_count": 39,
     "metadata": {},
     "output_type": "execute_result"
    },
    {
     "data": {
      "image/png": "[encoded data removed]",
      "text/plain": [
       "<Figure size 432x288 with 1 Axes>"
      ]
     },
     "metadata": {
      "needs_background": "light"
     },
     "output_type": "display_data"
    }
   ],
   "source": [
    "CATEGORIES = ['No Cancer', 'Cancer']\n",
    "img, result, image_path = prediction(model,image_path= 'predict/png_converted/predict.png', categories = CATEGORIES)\n",
    "\n",
    "img.shape"
   ]
  },
  {
   "cell_type": "code",
   "execution_count": null,
   "id": "402195c8",
   "metadata": {},
   "outputs": [],
   "source": []
  },
  {
   "cell_type": "code",
   "execution_count": null,
   "id": "62fa0544",
   "metadata": {},
   "outputs": [],
   "source": []
  },
  {
   "cell_type": "code",
   "execution_count": 33,
   "id": "c2b177f4",
   "metadata": {},
   "outputs": [],
   "source": [
    "# test_loss, test_accuracy = model.evaluate(X_test, y_test)"
   ]
  },
  {
   "cell_type": "code",
   "execution_count": 34,
   "id": "a9af7a14",
   "metadata": {},
   "outputs": [],
   "source": [
    "# Same for label masks \n",
    "# data_masks_dir = \"train_label_masks/\""
   ]
  },
  {
   "cell_type": "code",
   "execution_count": 35,
   "id": "5a0a4c22",
   "metadata": {},
   "outputs": [],
   "source": [
    "# save_mask_dir = \"png_masks/\"\n",
    "# os.makedirs(save_maks_dir, exist_ok=True)\n",
    "\n",
    "# mask_files = os.listdir(data_masks_dir)"
   ]
  },
  {
   "cell_type": "code",
   "execution_count": 36,
   "id": "00fece59",
   "metadata": {},
   "outputs": [],
   "source": [
    "# for mask_file in tqdm(mask_files):\n",
    "#     load_path = data_masks_dir + mask_file\n",
    "#     save_path = save_mask_dir + mask_file.replace('.tiff', '.png')\n",
    "    \n",
    "#     mask = skimage.io.MultiImage(load_path)\n",
    "#     img = cv2.resize(mask[-1], (512, 512))\n",
    "#     cv2.imwrite(save_path, img)"
   ]
  },
  {
   "cell_type": "code",
   "execution_count": null,
   "id": "e75ed7a2",
   "metadata": {},
   "outputs": [],
   "source": []
  }
 ],
 "metadata": {
  "kernelspec": {
   "display_name": "prostate",
   "language": "python",
   "name": "prostate"
  },
  "language_info": {
   "codemirror_mode": {
    "name": "ipython",
    "version": 3
   },
   "file_extension": ".py",
   "mimetype": "text/x-python",
   "name": "python",
   "nbconvert_exporter": "python",
   "pygments_lexer": "ipython3",
   "version": "3.8.8"
  }
 },
 "nbformat": 4,
 "nbformat_minor": 5
}
